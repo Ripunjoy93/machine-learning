{
 "cells": [
  {
   "cell_type": "markdown",
   "metadata": {},
   "source": [
    "## Purpose\n",
    "From https://course.fast.ai/videos/?lesson=4. \n",
    "\n",
    "Notes - https://github.com/hiromis/notes/blob/master/pdf/Lesson4.pdf\n",
    "\n",
    "\n",
    "Apply transfer learning on imdb reviews and then train for text classification."
   ]
  },
  {
   "cell_type": "code",
   "execution_count": 1,
   "metadata": {
    "ExecuteTime": {
     "end_time": "2019-08-24T08:47:23.083635Z",
     "start_time": "2019-08-24T08:47:23.031675Z"
    }
   },
   "outputs": [
    {
     "name": "stdout",
     "output_type": "stream",
     "text": [
      "fastai==1.0.57\r\n"
     ]
    }
   ],
   "source": [
    "%reload_ext autoreload\n",
    "%autoreload 2\n",
    "%matplotlib inline\n",
    "\n",
    "from fastai import *\n",
    "from fastai.text import *\n",
    "import pandas as pd\n",
    "!pip freeze | grep fastai"
   ]
  },
  {
   "cell_type": "code",
   "execution_count": 2,
   "metadata": {
    "ExecuteTime": {
     "end_time": "2019-08-24T08:46:47.453121Z",
     "start_time": "2019-08-24T08:46:47.423023Z"
    }
   },
   "outputs": [
    {
     "data": {
      "text/plain": [
       "[PosixPath('/home/achinta/.fastai/data/imdb/test'),\n",
       " PosixPath('/home/achinta/.fastai/data/imdb/tmp_clas'),\n",
       " PosixPath('/home/achinta/.fastai/data/imdb/README'),\n",
       " PosixPath('/home/achinta/.fastai/data/imdb/unsup'),\n",
       " PosixPath('/home/achinta/.fastai/data/imdb/train'),\n",
       " PosixPath('/home/achinta/.fastai/data/imdb/tmp_lm'),\n",
       " PosixPath('/home/achinta/.fastai/data/imdb/imdb.vocab'),\n",
       " PosixPath('/home/achinta/.fastai/data/imdb/lm3'),\n",
       " PosixPath('/home/achinta/.fastai/data/imdb/models')]"
      ]
     },
     "execution_count": 2,
     "metadata": {},
     "output_type": "execute_result"
    }
   ],
   "source": [
    "path = untar_data(URLs.IMDB)\n",
    "path.ls()"
   ]
  },
  {
   "cell_type": "markdown",
   "metadata": {},
   "source": [
    "### Using the datablock api"
   ]
  },
  {
   "cell_type": "code",
   "execution_count": 3,
   "metadata": {},
   "outputs": [
    {
     "name": "stdout",
     "output_type": "stream",
     "text": [
      "CPU times: user 14.7 s, sys: 3.51 s, total: 18.2 s\n",
      "Wall time: 51.5 s\n"
     ]
    }
   ],
   "source": [
    "bs = 48\n",
    "data_lm = TextList.from_folder(path)\\\n",
    "            .filter_by_folder(include=['train','test'])\\\n",
    "            .split_by_rand_pct(0.1)\\\n",
    "            .label_for_lm()\\\n",
    "            .databunch(bs=bs)\n",
    "\n",
    "# note - save and load are failing with this version of fastai (1.0.57)\n",
    "# data_lm.save('lm')   \n",
    "# data_lm = TextLMDataBunch.load('lm')"
   ]
  },
  {
   "cell_type": "code",
   "execution_count": 4,
   "metadata": {},
   "outputs": [
    {
     "data": {
      "text/html": [
       "<table border=\"1\" class=\"dataframe\">\n",
       "  <thead>\n",
       "    <tr style=\"text-align: right;\">\n",
       "      <th>idx</th>\n",
       "      <th>text</th>\n",
       "    </tr>\n",
       "  </thead>\n",
       "  <tbody>\n",
       "    <tr>\n",
       "      <td>0</td>\n",
       "      <td>saga down to a two hour feature requires some , let 's say , historical license . xxmaj but this movie goes well beyond mere rounding . \\n \\n  xxmaj there 's worse . xxmaj to tell a story from a distant period , the movie uses flashbacks which just make the story more confusing . xxmaj unless viewers have some prior knowledge of the period , they will</td>\n",
       "    </tr>\n",
       "    <tr>\n",
       "      <td>1</td>\n",
       "      <td>liam xxmaj neeson in future . xxbos xxmaj this is a comedy / romance movie directed by xxmaj andy xxmaj tennant , starring xxmaj will xxmaj smith , xxmaj eva xxmaj mendes and xxmaj kevin xxmaj james . \\n \\n  xxmaj it is about a professional dating doctor xxunk xxmaj smith - known as ' xxmaj hitch ' who helps men to land dates with the women they are</td>\n",
       "    </tr>\n",
       "    <tr>\n",
       "      <td>2</td>\n",
       "      <td>, but an xxmaj alien in a human 's body does n't ? xxmaj does that make sense ? \\n \\n  xxmaj the xxmaj good : xxmaj still thinking ... \\n \\n  xxmaj the xxmaj bad : xxmaj why would only one xxmaj predator come ? xxmaj and why does it pour acid over all the remnants of the \" xxmaj aliens , \" but it decides to</td>\n",
       "    </tr>\n",
       "    <tr>\n",
       "      <td>3</td>\n",
       "      <td>actors . xxmaj it 's certainly entertaining -- there 's nothing else like it , unless you count xxmaj groucho 's satirical parody in \" xxmaj animal xxmaj crackers , \" or an old xxmaj mad xxmaj magazine satire that rendered xxmaj shirley xxmaj booth 's sitcom \" xxmaj hazel \" a la \" xxmaj strange xxmaj interlude \" . xxmaj but it is n't good . xxbos xxmaj first</td>\n",
       "    </tr>\n",
       "    <tr>\n",
       "      <td>4</td>\n",
       "      <td>online dating but it turns out he has a robotic arm . \\n \\n  xxmaj the xxup dvd case rated this film 18 but even a 5 year old can watch this and not be xxunk or entertained . xxmaj the film should be rated 12 for slight scares and the swear word bloody . \\n \\n  xxmaj all in all this film is utter shite do n't</td>\n",
       "    </tr>\n",
       "  </tbody>\n",
       "</table>"
      ],
      "text/plain": [
       "<IPython.core.display.HTML object>"
      ]
     },
     "metadata": {},
     "output_type": "display_data"
    }
   ],
   "source": [
    "data_lm.show_batch()"
   ]
  },
  {
   "cell_type": "code",
   "execution_count": 5,
   "metadata": {},
   "outputs": [
    {
     "data": {
      "text/html": [],
      "text/plain": [
       "<IPython.core.display.HTML object>"
      ]
     },
     "metadata": {},
     "output_type": "display_data"
    },
    {
     "name": "stdout",
     "output_type": "stream",
     "text": [
      "LR Finder is complete, type {learner_name}.recorder.plot() to see the graph.\n"
     ]
    },
    {
     "data": {
      "image/png": "[encoded data removed]",
      "text/plain": [
       "<Figure size 432x288 with 1 Axes>"
      ]
     },
     "metadata": {
      "needs_background": "light"
     },
     "output_type": "display_data"
    }
   ],
   "source": [
    "learn = language_model_learner(data_lm,AWD_LSTM,drop_mult=0.3)\n",
    "learn.lr_find()\n",
    "learn.recorder.plot(skip_end=15)"
   ]
  },
  {
   "cell_type": "markdown",
   "metadata": {},
   "source": [
    "We will run the following cell in the background as the notebook can get disconnected. Look at lesson-4-imdb-classification.py in the same folder"
   ]
  },
  {
   "cell_type": "code",
   "execution_count": 14,
   "metadata": {},
   "outputs": [],
   "source": [
    "# learn.fit_one_cycle(1,1e-2,moms=(0.8,0.7))\n",
    "\n",
    "# learn.unfreeze()\n",
    "# learn.fit_one_cycle(10, 1e-3, moms=(0.8,0.7))\n",
    "# learner.save_encoder('enc')"
   ]
  },
  {
   "cell_type": "code",
   "execution_count": null,
   "metadata": {},
   "outputs": [],
   "source": []
  },
  {
   "cell_type": "code",
   "execution_count": null,
   "metadata": {},
   "outputs": [],
   "source": [
    "# learn = text_classifier_learner(data_clas, AWD_LSTM)\n",
    "# learn.load_encoder('enc')\n",
    "# learn.fit_one_cycle(4,moms=moms)"
   ]
  },
  {
   "cell_type": "code",
   "execution_count": null,
   "metadata": {},
   "outputs": [],
   "source": [
    "# learn.unfreeze()\n",
    "# learn.fit_one_cycle(8,slice(1e-5,1e-3),moms=moms)"
   ]
  },
  {
   "cell_type": "code",
   "execution_count": null,
   "metadata": {},
   "outputs": [],
   "source": []
  }
 ],
 "metadata": {
  "kernelspec": {
   "display_name": "Python 3",
   "language": "python",
   "name": "python3"
  },
  "language_info": {
   "codemirror_mode": {
    "name": "ipython",
    "version": 3
   },
   "file_extension": ".py",
   "mimetype": "text/x-python",
   "name": "python",
   "nbconvert_exporter": "python",
   "pygments_lexer": "ipython3",
   "version": "3.6.9"
  },
  "toc": {
   "base_numbering": 1,
   "nav_menu": {},
   "number_sections": true,
   "sideBar": true,
   "skip_h1_title": false,
   "title_cell": "Table of Contents",
   "title_sidebar": "Contents",
   "toc_cell": false,
   "toc_position": {},
   "toc_section_display": true,
   "toc_window_display": false
  }
 },
 "nbformat": 4,
 "nbformat_minor": 2
}
