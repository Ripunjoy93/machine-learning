{
 "cells": [
  {
   "cell_type": "markdown",
   "metadata": {},
   "source": [
    "### Purpose\n",
    "We will use a bert model to classify text"
   ]
  },
  {
   "cell_type": "code",
   "execution_count": 1,
   "metadata": {},
   "outputs": [],
   "source": [
    "# default_exp scripts.kaggle.bert_classification"
   ]
  },
  {
   "cell_type": "code",
   "execution_count": 2,
   "metadata": {},
   "outputs": [
    {
     "name": "stderr",
     "output_type": "stream",
     "text": [
      "I0626 16:38:45.967020 4709492160 file_utils.py:39] PyTorch version 1.5.0 available.\n",
      "I0626 16:38:49.066612 4709492160 file_utils.py:55] TensorFlow version 2.1.0 available.\n",
      "wandb: WARNING W&B installed but not logged in.  Run `wandb login` or set the WANDB_API_KEY env variable.\n"
     ]
    }
   ],
   "source": [
    "# export\n",
    "import pandas as pd\n",
    "import numpy as np\n",
    "import matplotlib\n",
    "import os\n",
    "\n",
    "from pytorch_lightning import LightningModule, Trainer\n",
    "from pytorch_lightning.callbacks import ModelCheckpoint\n",
    "from pytorch_lightning.loggers import WandbLogger\n",
    "from pytorch_lightning.metrics import Accuracy\n",
    "\n",
    "from pathlib import Path\n",
    "\n",
    "import torch\n",
    "import torch.nn as nn\n",
    "import torch.nn.functional as F\n",
    "from torch.optim.lr_scheduler import ReduceLROnPlateau\n",
    "from torch.utils.data import DataLoader, Dataset\n",
    "\n",
    "from sklearn.model_selection import train_test_split\n",
    "from sklearn.preprocessing import LabelEncoder\n",
    "import json\n",
    "from argparse import ArgumentParser\n",
    "\n",
    "from transformers import BertTokenizer, BertModel\n",
    "import logging\n",
    "# logging.basicConfig(level=logging.DEBUG)\n",
    "\n",
    "SEED = 2334\n",
    "torch.manual_seed(SEED)\n",
    "np.random.seed(SEED)\n"
   ]
  },
  {
   "cell_type": "markdown",
   "metadata": {},
   "source": [
    "#### Download and read the data"
   ]
  },
  {
   "cell_type": "code",
   "execution_count": 3,
   "metadata": {},
   "outputs": [],
   "source": [
    "# !kaggle datasets download -d rmisra/news-category-dataset\n",
    "# !unzip news-category-dataset.zip"
   ]
  },
  {
   "cell_type": "code",
   "execution_count": 10,
   "metadata": {},
   "outputs": [
    {
     "name": "stdout",
     "output_type": "stream",
     "text": [
      "train.shape - (196832, 8) val.shape - (4016, 8)\n",
      "max_len - 1492\n"
     ]
    }
   ],
   "source": [
    "# export\n",
    "# split into train and validation\n"
   ]
  },
  {
   "cell_type": "code",
   "execution_count": 11,
   "metadata": {},
   "outputs": [
    {
     "data": {
      "text/plain": [
       "array([ 6, 10, 10, ..., 28, 28, 28])"
      ]
     },
     "execution_count": 11,
     "metadata": {},
     "output_type": "execute_result"
    }
   ],
   "source": [
    "# export\n",
    "class TextDS(Dataset):\n",
    "    def __init__(self, df, label_encoder, max_len):\n",
    "        self.df = df\n",
    "        self.le = label_encoder\n",
    "        self.tokenizer = BertTokenizer.from_pretrained('bert-base-cased')\n",
    "        self.max_len = max_len\n",
    "        \n",
    "    def __len__(self):\n",
    "        return self.df.shape[0]\n",
    "    \n",
    "    def __getitem__(self, idx):\n",
    "        tokenized_text = self.tokenizer.tokenize(self.df.at[idx,'text'])\n",
    "        \n",
    "        # https://huggingface.co/transformers/glossary.html\n",
    "        sequence_dict = self.tokenizer.encode_plus(tokenized_text, max_length=self.max_len, pad_to_max_length=True)\n",
    "        cat_tensor = torch.tensor(self.le.transform([self.df.at[idx,'category']]))[0]\n",
    "        return torch.tensor(sequence_dict['input_ids']), torch.tensor(sequence_dict['attention_mask']), cat_tensor"
   ]
  },
  {
   "cell_type": "code",
   "execution_count": 12,
   "metadata": {},
   "outputs": [],
   "source": [
    "# itr = iter(train_dl)"
   ]
  },
  {
   "cell_type": "code",
   "execution_count": 13,
   "metadata": {},
   "outputs": [],
   "source": [
    "# next(itr)"
   ]
  },
  {
   "cell_type": "code",
   "execution_count": 68,
   "metadata": {},
   "outputs": [],
   "source": [
    "# export\n",
    "class LinBnDrop(nn.Sequential):\n",
    "    \"Module grouping `BatchNorm1d`, `Dropout` and `Linear` layers\"\n",
    "\n",
    "    def __init__(self, n_in, n_out, bn=True, p=0., act=None, lin_first=False):\n",
    "        layers = [nn.BatchNorm1d(n_out if lin_first else n_in)] if bn else []\n",
    "        if p != 0: layers.append(nn.Dropout(p))\n",
    "        lin = [nn.Linear(n_in, n_out, bias=not bn)]\n",
    "        if act is not None: lin.append(act)\n",
    "        layers = lin + layers if lin_first else layers + lin\n",
    "        super().__init__(*layers)\n",
    "\n",
    "class BertFineTuner(LightningModule):\n",
    "    def __init__(self, hparams, *args, **kwargs):\n",
    "        self.hparams = hparams\n",
    "#         print('num_classes: ', hparams.num_cls)\n",
    "        super().__init__()\n",
    "        self.bert = BertModel.from_pretrained('bert-base-cased', output_attentions=True)\n",
    "        self.loss_func = nn.CrossEntropyLoss()\n",
    "        self.accuracy = Accuracy()\n",
    "        \n",
    "        # freeze all bert parameters\n",
    "        for param in self.named_parameters():\n",
    "            if param[0].startswith('bert'):\n",
    "                param[1].requires_grad = False\n",
    "                \n",
    "    def prepare_data(self):\n",
    "        # read data\n",
    "        lines = []\n",
    "        filepath = 'News_Category_Dataset_v2.json'\n",
    "        with open(filepath) as f:\n",
    "            for line in f.readlines():\n",
    "                lines.append(json.loads(line))\n",
    "        df = pd.DataFrame(lines)\n",
    "        df['text'] = df['headline'] + ' ' + df['short_description']\n",
    "        df['text'] = df['text'].str.strip()\n",
    "        del lines\n",
    "\n",
    "        # filter lines without headline\n",
    "        df['text_len'] = df.text.str.len()\n",
    "        df = df[df.text_len > 0].copy()\n",
    "\n",
    "        # split into train and test\n",
    "        num_val = int(df.shape[0] * 0.02)\n",
    "        val_mask = np.random.choice(np.arange(df.shape[0]),num_val, replace=False)\n",
    "        self.df_train = df[~df.index.isin(val_mask)].copy()\n",
    "        self.df_val = df[df.index.isin(val_mask)].copy()\n",
    "        print(f'train.shape - {self.df_train.shape} val.shape - {self.df_val.shape}')\n",
    "        \n",
    "        # TODO. avoid hardcoding\n",
    "        if not self.hparams.max_len:\n",
    "            self.max_len = df['text'].str.len().max() + 5\n",
    "            print(f'max_len - {self.max_len}')\n",
    "        \n",
    "        self.le = LabelEncoder()\n",
    "        self.le.fit_transform(df['category'])\n",
    "        \n",
    "        # define linear layer\n",
    "        self.lin = LinBnDrop(self.bert.config.hidden_size, len(self.le.classes_))\n",
    "        \n",
    "    @staticmethod\n",
    "    def add_model_specific_args(parent_parser):\n",
    "        parser = ArgumentParser(parents=[parent_parser], add_help=False)\n",
    "        parser.add_argument('--bsz', default=8, type=int, help='batch_size', )\n",
    "        parser.add_argument('--val-bsz', default=8, type=int, help='batch_size', )\n",
    "        parser.add_argument('--lr', default=0.001, type=int, help='batch_size', )\n",
    "        parser.add_argument('--find-lr', default=1, type=int, help='1 to find lr' )\n",
    "        parser.add_argument('--max-len', default=500, type=int, help='max len of text' )\n",
    "        return parser\n",
    "        \n",
    "    def forward(self, input_ids, attention_mask):\n",
    "        h, _, attn = self.bert(input_ids=input_ids, attention_mask=attention_mask)\n",
    "        h_cls = h[:,0]\n",
    "        logits = self.lin(h_cls)\n",
    "        return logits, attn\n",
    "    \n",
    "    def train_dataloader(self):\n",
    "        return DataLoader(TextDS(self.df_train.reset_index(), self.le, self.hparams.max_len), batch_size=self.hparams.bsz, num_workers=8)\n",
    "    \n",
    "    def val_dataloader(self):\n",
    "        return DataLoader(TextDS(self.df_val.reset_index(), self.le, self.hparams.max_len),batch_size=self.hparams.val_bsz, num_workers=8)\n",
    "    \n",
    "    def training_step(self, batch, batch_idx):\n",
    "        input_ids, attention_mask, cat_idx = batch\n",
    "        logits, attn = self.forward(input_ids, attention_mask)\n",
    "        loss = self.loss_func(logits, cat_idx)\n",
    "        \n",
    "        # get training accuracy\n",
    "        yhat = torch.argmax(logits, dim=1).detach()\n",
    "        metrics = {'loss': loss, 'train_accuracy': self.accuracy(yhat,cat_idx )}\n",
    "        \n",
    "        # log every 10 steps\n",
    "        if batch_idx%10 == 0:\n",
    "            self.logger.log_metrics(metrics)\n",
    "        return metrics\n",
    "    \n",
    "    def validation_step(self, batch, batch_idx):\n",
    "        input_ids, attention_mask, cat_idx = batch\n",
    "        logits, attn = self(input_ids, attention_mask)\n",
    "        loss = self.loss_func(logits, cat_idx)\n",
    "        yhat = torch.argmax(logits, dim=1)\n",
    "        return {'val_loss': loss, 'yhat': yhat, 'y': cat_idx}\n",
    "        \n",
    "    def validation_epoch_end(self, outputs):\n",
    "        val_loss_mean = torch.stack([o['val_loss'] for o in outputs]).mean()\n",
    "        yhat_all = torch.stack([o['yhat'] for o in outputs])\n",
    "        y_all = torch.stack([o['y'] for o in outputs])\n",
    "        metrics = {'val_loss': val_loss_mean, 'val_accuracy': self.accuracy(yhat_all,y_all)}\n",
    "        self.logger.log_metrics(metrics)\n",
    "        return metrics\n",
    "\n",
    "    def configure_optimizers(self):\n",
    "        optimizer = torch.optim.Adam(self.parameters(), lr=(self.hparams.lr))\n",
    "        return optimizer"
   ]
  },
  {
   "cell_type": "code",
   "execution_count": 29,
   "metadata": {},
   "outputs": [],
   "source": [
    "hparams = parser.parse_args('--bsz 64 --find-lr 0'.split())"
   ]
  },
  {
   "cell_type": "markdown",
   "metadata": {},
   "source": [
    "#### Adjust params"
   ]
  },
  {
   "cell_type": "markdown",
   "metadata": {},
   "source": [
    "### Find Learning Rate"
   ]
  },
  {
   "cell_type": "code",
   "execution_count": 26,
   "metadata": {},
   "outputs": [],
   "source": [
    "# # export \n",
    "# trainer = Trainer(gpus=hparams.lr_gpu)\n",
    "# model = BertFineTuner(hparams, finding_lr=True)\n",
    "\n",
    "# # find learning rate\n",
    "# if hparams.find_lr == 1:\n",
    "#     train_dl = DataLoader(TextDS(df_train.reset_index(), le, max_len), batch_size=8, num_workers=8)\n",
    "#     val_dl = DataLoader(TextDS(df_val.reset_index(), le, max_len), batch_size=8, num_workers=8)\n",
    "#     lr_finder = trainer.lr_find(model, train_dataloader=train_dl,val_dataloaders=[val_dl] )\n",
    "#     fig = lr_finder.plot(suggest=True)\n",
    "#     fig.show()\n",
    "#     new_lr = lr_finder.suggestion()\n",
    "#     logging.info(f'new_lr is {new_lr}')\n",
    "# else:\n",
    "#     logging.info(f'Not finding lr')\n",
    "#     new_lr = hparams.lr"
   ]
  },
  {
   "cell_type": "code",
   "execution_count": null,
   "metadata": {},
   "outputs": [],
   "source": [
    "# export\n",
    "def main(hparams):\n",
    "    model = BertFineTuner(hparams)\n",
    "\n",
    "#     logging.info(f'hparams.gpu - {hparams.gpus}')\n",
    "    trainer = Trainer(gpus=hparams.gpus,max_epochs=hparams.max_epochs,\n",
    "                      logger=wandb_logger, val_check_interval=hparams.val_check_interval,\n",
    "                     distributed_backend='ddp')\n",
    "    trainer.fit(model)\n",
    "    \n",
    "if __name__ == '__main__':\n",
    "    wandb_logger = WandbLogger(name='achinta',project='bert-text-cls')\n",
    "    \n",
    "    parser = ArgumentParser()\n",
    "    parser = BertFineTuner.add_model_specific_args(parser)\n",
    "    parser.add_argument('--gpus', type=int, default=0)\n",
    "    parser.add_argument('--lr-gpu', default=0)\n",
    "    parser.add_argument('--val-check-interval', type=int, default=100)\n",
    "    parser.add_argument('--max-epochs', type=int, default=3)\n",
    "    hparams = parser.parse_args()\n",
    "    \n",
    "    # set to cpu if no gpu is passed. Note that 0 is cpu and [0] is gpu-0\n",
    "    if not hparams.gpus:\n",
    "        hparams.gpus = 0\n",
    "    print(f'hparams.gpus - {hparams.gpus}')\n",
    "        \n",
    "    main(hparams)"
   ]
  },
  {
   "cell_type": "code",
   "execution_count": 73,
   "metadata": {},
   "outputs": [
    {
     "name": "stdout",
     "output_type": "stream",
     "text": [
      "Converted 104-bert-text-classification.ipynb.\n",
      "/etc/profile.d/lang.sh: line 19: warning: setlocale: LC_CTYPE: cannot change locale (UTF-8): No such file or directory\n",
      "bert_classification.py                        100% 7593     3.7KB/s   00:02    \n",
      "CPU times: user 481 ms, sys: 142 ms, total: 624 ms\n",
      "Wall time: 26.9 s\n"
     ]
    }
   ],
   "source": [
    "%%time\n",
    "!nbdev_build_lib --fname 104-bert-text-classification.ipynb\n",
    "!scp ../ml/scripts/kaggle/bert_classification.py rc:/n/home11/tatacomm/kaggle/datasets/news-category-dataset"
   ]
  },
  {
   "cell_type": "markdown",
   "metadata": {},
   "source": [
    "### Playground"
   ]
  },
  {
   "cell_type": "code",
   "execution_count": null,
   "metadata": {},
   "outputs": [],
   "source": [
    "df.headline.str.len().mean()"
   ]
  },
  {
   "cell_type": "code",
   "execution_count": null,
   "metadata": {},
   "outputs": [],
   "source": [
    "a = torch.randn(4, 3)"
   ]
  },
  {
   "cell_type": "code",
   "execution_count": null,
   "metadata": {},
   "outputs": [],
   "source": [
    "torch.argmax(a, dim=1)"
   ]
  },
  {
   "cell_type": "code",
   "execution_count": 57,
   "metadata": {},
   "outputs": [
    {
     "data": {
      "text/plain": [
       "array([73, 17, 36])"
      ]
     },
     "execution_count": 57,
     "metadata": {},
     "output_type": "execute_result"
    }
   ],
   "source": [
    "SEED = 2334\n",
    "torch.manual_seed(SEED)\n",
    "np.random.seed(SEED)\n",
    "\n",
    "np.random.choice(np.arange(100),3)"
   ]
  },
  {
   "cell_type": "code",
   "execution_count": 48,
   "metadata": {},
   "outputs": [
    {
     "data": {
      "text/plain": [
       "5"
      ]
     },
     "execution_count": 48,
     "metadata": {},
     "output_type": "execute_result"
    }
   ],
   "source": []
  },
  {
   "cell_type": "code",
   "execution_count": null,
   "metadata": {},
   "outputs": [],
   "source": []
  }
 ],
 "metadata": {
  "kernelspec": {
   "display_name": "Python 3",
   "language": "python",
   "name": "python3"
  },
  "language_info": {
   "codemirror_mode": {
    "name": "ipython",
    "version": 3
   },
   "file_extension": ".py",
   "mimetype": "text/x-python",
   "name": "python",
   "nbconvert_exporter": "python",
   "pygments_lexer": "ipython3",
   "version": "3.6.10"
  }
 },
 "nbformat": 4,
 "nbformat_minor": 4
}
