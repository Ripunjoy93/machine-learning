{
 "cells": [
  {
   "cell_type": "markdown",
   "metadata": {},
   "source": [
    "### Purpose\n",
    "Followng the steps from https://pytorch.org/tutorials/intermediate/char_rnn_generation_tutorial.html"
   ]
  },
  {
   "cell_type": "code",
   "execution_count": 1,
   "metadata": {},
   "outputs": [],
   "source": [
    "from __future__ import unicode_literals, print_function, division\n",
    "import torch\n",
    "from pathlib import Path\n",
    "\n",
    "from io import open\n",
    "import glob \n",
    "import os\n",
    "import unicodedata, string\n",
    "import random\n",
    "import math"
   ]
  },
  {
   "cell_type": "code",
   "execution_count": 5,
   "metadata": {},
   "outputs": [],
   "source": [
    "# !wget https://download.pytorch.org/tutorial/data.zip\n",
    "# !unzip data.zip"
   ]
  },
  {
   "cell_type": "code",
   "execution_count": 6,
   "metadata": {},
   "outputs": [],
   "source": [
    "basedir = Path('data')\n",
    "\n",
    "all_letters = string.ascii_letters + \" .,;'\"\n",
    "n_letters = len(all_letters)"
   ]
  },
  {
   "cell_type": "code",
   "execution_count": 7,
   "metadata": {},
   "outputs": [
    {
     "data": {
      "text/plain": [
       "18"
      ]
     },
     "execution_count": 7,
     "metadata": {},
     "output_type": "execute_result"
    }
   ],
   "source": [
    "def unicodeToAscii(s):\n",
    "    return ''.join(\n",
    "        c for c in unicodedata.normalize('NFD',s)\n",
    "        if unicodedata.category(c) != 'Mn' and c in all_letters\n",
    "    )\n",
    "\n",
    "# print(unicodeToAscii('Ślusàrski'))\n",
    "\n",
    "#build category lines dictionary, a list of names per language\n",
    "category_lines = {}\n",
    "all_categories = []\n",
    "\n",
    "\n",
    "def readLines(filename):\n",
    "    lines = open(filename, encoding='utf-8').read().strip().split('\\n')\n",
    "    return [unicodeToAscii(line) for line in lines]\n",
    "\n",
    "filenames = basedir.glob('names/*.txt')\n",
    "for filename in basedir.glob('names/*.txt'):\n",
    "    category = filename.as_posix().split('/')[2].split('.')[0]\n",
    "    all_categories.append(category)\n",
    "    lines = readLines(str(filename))\n",
    "    category_lines[category] = lines\n",
    "    \n",
    "n_categories = len(all_categories)\n",
    "n_categories"
   ]
  },
  {
   "cell_type": "code",
   "execution_count": 8,
   "metadata": {},
   "outputs": [],
   "source": [
    "filename = next(filenames)"
   ]
  },
  {
   "cell_type": "code",
   "execution_count": 9,
   "metadata": {},
   "outputs": [
    {
     "name": "stdout",
     "output_type": "stream",
     "text": [
      "torch.Size([5, 1, 57])\n"
     ]
    }
   ],
   "source": [
    "def letterToIndex(letter):\n",
    "    return all_letters.find(letter)\n",
    "\n",
    "def letterToTensor(letter):\n",
    "    tensor = torch.zeros(1,n_letters)\n",
    "    tensor[0][letterToIndex(letter)] = 1\n",
    "    return tensor\n",
    "\n",
    "def lineToTensor(line):\n",
    "    tensor = torch.zeros(len(line),1,n_letters)\n",
    "    for li, letter in enumerate(line):\n",
    "        tensor[li][0][letterToIndex(letter)] = 1\n",
    "    return tensor\n",
    "\n",
    "print(lineToTensor('Jones').size())\n",
    "\n",
    "\"\"\"\n",
    "One hot encoded tensor of first to last letters of line. Shape is (len(line),1,n_letters)\n",
    "\"\"\"\n",
    "def inputTensor(line):\n",
    "    t = torch.zeros(len(line),1,n_letters)\n",
    "    for idx in range(len(line)):\n",
    "        letter = line[idx]\n",
    "        t[idx][0][letterToIndex(letter)] = 1\n",
    "    return t\n",
    "\n",
    "\"\"\"\n",
    "Long tensor of second to EOS letters of line. Shape is (len(line),1,n_letters)\n",
    "\"\"\"\n",
    "def targetTensor(line):\n",
    "    letter_indexes = [all_letters.find(line[idx]) for idx in range(1,len(line))]\n",
    "    letter_indexes = \n",
    "    "
   ]
  },
  {
   "cell_type": "code",
   "execution_count": 6,
   "metadata": {},
   "outputs": [
    {
     "data": {
      "text/plain": [
       "tensor([9])"
      ]
     },
     "execution_count": 6,
     "metadata": {},
     "output_type": "execute_result"
    }
   ],
   "source": [
    "category = 'English'\n",
    "all_categories.index(category)\n",
    "torch.tensor([all_categories.index(category)])"
   ]
  },
  {
   "cell_type": "markdown",
   "metadata": {},
   "source": [
    "This is a very basic 'rnn', where we feed each letter and also have a hidden_state.  The output after feeding all letters will output the language."
   ]
  },
  {
   "cell_type": "code",
   "execution_count": 7,
   "metadata": {},
   "outputs": [],
   "source": [
    "import torch.nn as nn\n",
    "\n",
    "class RNN(nn.Module):\n",
    "    def __init__(self, input_size, hidden_size, output_size):\n",
    "        super(RNN,self).__init__()\n",
    "        self.i2h = nn.Linear(input_size + hidden_size,hidden_size)\n",
    "        self.i2o = nn.Linear(input_size + hidden_size,output_size)\n",
    "        self.softmax = nn.LogSoftmax(1)\n",
    "        self.hidden_size = hidden_size\n",
    "    \n",
    "    def forward(self, line, hidden):\n",
    "        combined = torch.cat([line,hidden],1)\n",
    "        hidden = self.i2h(combined)\n",
    "        out = self.i2o(combined)\n",
    "        out = self.softmax(out)\n",
    "        return out, hidden\n",
    "    \n",
    "    def initHidden(self):\n",
    "        return torch.zeros(1,self.hidden_size)"
   ]
  },
  {
   "cell_type": "code",
   "execution_count": 32,
   "metadata": {},
   "outputs": [],
   "source": [
    "def getRandomTrainingElement():\n",
    "    category = random.choice(all_categories)\n",
    "    line = random.choice(category_lines[category])\n",
    "    lineTensor = lineToTensor(line)\n",
    "    catTensor = torch.tensor([all_categories.index(category)],dtype=torch.long)\n",
    "    return line, category, lineTensor, catTensor\n",
    "\n",
    "hidden_size = 128\n",
    "import time\n",
    "n_iter = 10000\n",
    "lr = 0.001\n",
    "print_every = 1000\n",
    "plot_every = 5000\n",
    "\n",
    "criterion = nn.NLLLoss()\n",
    "\n",
    "def train(line_tensor, category_tensor):\n",
    "    hidden = rnn.initHidden()\n",
    "    rnn.zero_grad()\n",
    "    \n",
    "    for idx in range(line_tensor.size()[0]):\n",
    "        out, hidden = rnn.forward(line_tensor[idx],hidden)\n",
    "    loss = criterion(out,category_tensor)\n",
    "    loss.backward()\n",
    "        \n",
    "    for p in rnn.parameters():\n",
    "        p.data = p.data -lr * p.grad.data\n",
    "            \n",
    "    return out, loss.item()\n",
    "\n",
    "def timeSince(since):\n",
    "    now = time.time()\n",
    "    s = now - since\n",
    "    m = math.floor(s / 60)\n",
    "    s -= m * 60\n",
    "    return '%dm %ds' % (m, s)\n",
    "\n",
    "\n",
    "def categoryFromOutput(output):\n",
    "    _, top_i = output.topk(1)\n",
    "    category_i = top_i[0].item()\n",
    "    return all_categories[category_i],category_i\n",
    "\n",
    "rnn = RNN(n_letters,hidden_size,n_categories)"
   ]
  },
  {
   "cell_type": "code",
   "execution_count": 33,
   "metadata": {},
   "outputs": [
    {
     "name": "stdout",
     "output_type": "stream",
     "text": [
      "1000 1% (0m 1s) 2.7837 Creasey / Scottish ✗ (English)\n",
      "2000 2% (0m 2s) 2.8741 Whyte / Russian ✗ (Scottish)\n",
      "3000 3% (0m 3s) 2.6828 Agelakos / Greek ✓\n",
      "4000 4% (0m 4s) 2.7579 Zapatero / Spanish ✓\n",
      "5000 5% (0m 5s) 2.9166 Abel / Dutch ✗ (French)\n",
      "6000 6% (0m 6s) 2.8925 Jordan / English ✗ (Polish)\n",
      "7000 7% (0m 7s) 2.9356 Gajos / Greek ✗ (Polish)\n",
      "8000 8% (0m 9s) 2.8144 Shikitei / German ✗ (Japanese)\n",
      "9000 9% (0m 10s) 2.8031 Araujo / Spanish ✗ (Portuguese)\n",
      "10000 10% (0m 11s) 2.8178 Awad / Arabic ✓\n",
      "11000 11% (0m 13s) 2.8363 Lobo / Spanish ✗ (Portuguese)\n",
      "12000 12% (0m 14s) 2.8048 Ramm / Korean ✗ (English)\n",
      "13000 13% (0m 15s) 2.8079 Laver / German ✗ (English)\n",
      "14000 14% (0m 16s) 2.8677 Gaber / German ✗ (Arabic)\n",
      "15000 15% (0m 17s) 2.7230 Rios / Greek ✗ (Portuguese)\n",
      "16000 16% (0m 18s) 2.6805 Kowalczyk / Polish ✓\n",
      "17000 17% (0m 20s) 2.7195 Jelinek / German ✗ (Czech)\n",
      "18000 18% (0m 21s) 2.5668 Gomolka / Japanese ✗ (Polish)\n",
      "19000 19% (0m 22s) 2.7836 Tang / Korean ✗ (Chinese)\n",
      "20000 20% (0m 23s) 2.7405 Espinoza / Japanese ✗ (Spanish)\n",
      "21000 21% (0m 25s) 2.9376 Alves / Greek ✗ (Spanish)\n",
      "22000 22% (0m 26s) 2.9255 Rot / Korean ✗ (German)\n",
      "23000 23% (0m 27s) 2.5923 Janca / Japanese ✗ (Czech)\n",
      "24000 24% (0m 28s) 2.9095 Abreu / German ✗ (Portuguese)\n",
      "25000 25% (0m 29s) 2.5640 Delgado / Italian ✗ (Portuguese)\n",
      "26000 26% (0m 30s) 0.7250 Antoniadis / Greek ✓\n",
      "27000 27% (0m 31s) 2.4405 Torres / Dutch ✗ (Spanish)\n",
      "28000 28% (0m 32s) 2.4563 Naughton / Russian ✗ (English)\n",
      "29000 28% (0m 34s) 1.6477 Belotelov / Russian ✓\n",
      "30000 30% (0m 35s) 2.7938 Pavlu / Arabic ✗ (Czech)\n",
      "31000 31% (0m 36s) 1.5917 Oh  / Korean ✓\n",
      "32000 32% (0m 37s) 2.6975 Aller / German ✗ (Dutch)\n",
      "33000 33% (0m 38s) 1.3308 Shin / Korean ✓\n",
      "34000 34% (0m 40s) 2.4581 Pinho / Spanish ✗ (Portuguese)\n",
      "35000 35% (0m 41s) 3.1949 Shalhoub / Scottish ✗ (Arabic)\n",
      "36000 36% (0m 42s) 2.1280 Stupka / Czech ✓\n",
      "37000 37% (0m 43s) 1.1747 Zobanov / Russian ✓\n",
      "38000 38% (0m 44s) 2.2048 Acosta / Japanese ✗ (Spanish)\n",
      "39000 39% (0m 45s) 1.4568 Majewski / Polish ✓\n",
      "40000 40% (0m 46s) 1.8225 Le / Korean ✗ (Vietnamese)\n",
      "41000 41% (0m 47s) 2.0047 Sneijders / Greek ✗ (Dutch)\n",
      "42000 42% (0m 48s) 2.3140 Groel / Arabic ✗ (German)\n",
      "43000 43% (0m 50s) 1.7034 Nahas / Arabic ✓\n",
      "44000 44% (0m 51s) 0.5408 Pantelakos / Greek ✓\n",
      "45000 45% (0m 52s) 2.2644 Palmeiro / Italian ✗ (Portuguese)\n",
      "46000 46% (0m 53s) 3.3407 Zhilis / Arabic ✗ (Russian)\n",
      "47000 47% (0m 54s) 2.5633 Victors / Greek ✗ (French)\n",
      "48000 48% (0m 55s) 2.3132 Otomo / Italian ✗ (Japanese)\n",
      "49000 49% (0m 57s) 1.1345 Song / Chinese ✓\n",
      "50000 50% (0m 58s) 2.3778 Michael / German ✗ (Irish)\n",
      "51000 51% (0m 59s) 2.4204 Carideo / Portuguese ✗ (Italian)\n",
      "52000 52% (1m 0s) 2.5879 Nghiem / German ✗ (Vietnamese)\n",
      "53000 53% (1m 1s) 3.0422 Rumpade / Japanese ✗ (Dutch)\n",
      "54000 54% (1m 3s) 1.3356 Xiao / Vietnamese ✗ (Chinese)\n",
      "55000 55% (1m 4s) 2.3425 Sechnall / Italian ✗ (Irish)\n",
      "56000 56% (1m 5s) 1.1714 Wang / Chinese ✓\n",
      "57000 56% (1m 6s) 1.4939 Madaidhin / Russian ✗ (Irish)\n",
      "58000 57% (1m 7s) 0.8153 Son / Korean ✓\n",
      "59000 59% (1m 9s) 1.2101 Cao / Chinese ✗ (Vietnamese)\n",
      "60000 60% (1m 10s) 1.9081 Kate / Japanese ✓\n",
      "61000 61% (1m 13s) 1.7091 Naser / Arabic ✓\n",
      "62000 62% (1m 14s) 1.2742 Antipas / Greek ✓\n",
      "63000 63% (1m 15s) 3.3145 O'Shea / Czech ✗ (Irish)\n",
      "64000 64% (1m 16s) 0.5120 Dubanowski / Polish ✓\n",
      "65000 65% (1m 17s) 1.9403 Macshuibhne / Japanese ✗ (Irish)\n",
      "66000 66% (1m 19s) 2.1911 Demas / Portuguese ✗ (Greek)\n",
      "67000 67% (1m 20s) 0.8615 Mai / Chinese ✓\n",
      "68000 68% (1m 22s) 1.3802 Sai / Chinese ✗ (Vietnamese)\n",
      "69000 69% (1m 23s) 1.8434 Snyders / Portuguese ✗ (Dutch)\n",
      "70000 70% (1m 24s) 1.5168 Laurent / French ✓\n",
      "71000 71% (1m 26s) 2.4937 Kurogane / French ✗ (Japanese)\n",
      "72000 72% (1m 27s) 2.2034 Peerenboom / German ✗ (Dutch)\n",
      "73000 73% (1m 28s) 2.0008 Giroux / French ✓\n",
      "74000 74% (1m 29s) 0.9402 Romeijnders / Dutch ✓\n",
      "75000 75% (1m 30s) 2.8556 Franco / Portuguese ✗ (English)\n",
      "76000 76% (1m 31s) 2.3667 Plastow / Scottish ✗ (English)\n",
      "77000 77% (1m 32s) 3.0245 Tuma / Korean ✗ (Arabic)\n",
      "78000 78% (1m 34s) 2.5061 Seger / German ✗ (Czech)\n",
      "79000 79% (1m 35s) 0.8639 Albani / Italian ✓\n",
      "80000 80% (1m 36s) 0.8248 Tarantino / Italian ✓\n",
      "81000 81% (1m 38s) 1.1839 Chau / Chinese ✗ (Vietnamese)\n",
      "82000 82% (1m 39s) 3.0569 Sugai / Arabic ✗ (Japanese)\n",
      "83000 83% (1m 40s) 2.2252 Kloet / German ✗ (Dutch)\n",
      "84000 84% (1m 42s) 1.1680 Zholudev / Russian ✓\n",
      "85000 85% (1m 44s) 1.9754 Von essen / Dutch ✗ (German)\n",
      "86000 86% (1m 46s) 2.6087 Kahae / Arabic ✗ (Japanese)\n",
      "87000 87% (1m 47s) 1.5614 Hou / Korean ✗ (Chinese)\n",
      "88000 88% (1m 51s) 1.2917 Suh / Chinese ✗ (Korean)\n",
      "89000 89% (1m 52s) 1.6361 Sloan / Scottish ✗ (Irish)\n",
      "90000 90% (1m 54s) 1.6361 Williamson / Russian ✗ (Scottish)\n",
      "91000 91% (1m 55s) 2.2024 Nifterick / Czech ✗ (Dutch)\n",
      "92000 92% (1m 56s) 1.1701 Pereira / Portuguese ✓\n",
      "93000 93% (1m 59s) 1.0501 Bursinos / Greek ✓\n",
      "94000 94% (2m 0s) 1.7037 Pinheiro / Italian ✗ (Portuguese)\n",
      "95000 95% (2m 2s) 0.9634 Fung / Chinese ✓\n",
      "96000 96% (2m 3s) 1.0749 Murkami / Japanese ✓\n",
      "97000 97% (2m 5s) 0.0680 O'Callaghann / Irish ✓\n",
      "98000 98% (2m 6s) 0.6331 Avgerinos / Greek ✓\n",
      "99000 99% (2m 7s) 0.1247 Okimasa / Japanese ✓\n",
      "100000 100% (2m 9s) 1.9166 Chou / Korean ✗ (Chinese)\n"
     ]
    }
   ],
   "source": [
    "start = time.time()\n",
    "current_loss = 0\n",
    "all_losses = []\n",
    "for idx in range(1,n_iter + 1):\n",
    "    line, category, lineTensor, catTensor = getRandomTrainingElement()\n",
    "    output, loss = train(lineTensor,catTensor)\n",
    "    current_loss += loss\n",
    "    \n",
    "    # print losses\n",
    "    if idx%print_every == 0:\n",
    "        guess, guess_i = categoryFromOutput(output)\n",
    "        correct = '✓' if guess == category else '✗ (%s)' % category\n",
    "        print('%d %d%% (%s) %.4f %s / %s %s' % (idx, idx / n_iter * 100, timeSince(start), loss, line, guess, correct))\n",
    "        \n",
    "    # Add current loss avg to list of losses\n",
    "    if idx%plot_every == 0:\n",
    "        all_losses.append(current_loss / plot_every)\n",
    "        current_loss = 0"
   ]
  },
  {
   "cell_type": "code",
   "execution_count": null,
   "metadata": {},
   "outputs": [],
   "source": []
  },
  {
   "cell_type": "code",
   "execution_count": null,
   "metadata": {},
   "outputs": [],
   "source": []
  }
 ],
 "metadata": {
  "kernelspec": {
   "display_name": "Python 3",
   "language": "python",
   "name": "python3"
  },
  "language_info": {
   "codemirror_mode": {
    "name": "ipython",
    "version": 3
   },
   "file_extension": ".py",
   "mimetype": "text/x-python",
   "name": "python",
   "nbconvert_exporter": "python",
   "pygments_lexer": "ipython3",
   "version": "3.6.8"
  }
 },
 "nbformat": 4,
 "nbformat_minor": 2
}
