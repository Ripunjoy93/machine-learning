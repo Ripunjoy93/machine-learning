{
 "cells": [
  {
   "cell_type": "markdown",
   "metadata": {},
   "source": [
    "### Purpose\n",
    "https://pytorch.org/tutorials/intermediate/seq2seq_translation_tutorial.html"
   ]
  },
  {
   "cell_type": "code",
   "execution_count": 21,
   "metadata": {},
   "outputs": [],
   "source": [
    "class Lang():\n",
    "    def __init__(self, name):\n",
    "        self.name = name\n",
    "        self.word2index = {}\n",
    "        self.index2word = {}\n",
    "        self.word2count = {}\n",
    "        self.n_words = 2\n",
    "    \n",
    "    def addWord(self,word):\n",
    "        if word in self.word2index:\n",
    "            self.word2count[word] += 1\n",
    "        else:\n",
    "            l = len(self.index2word)\n",
    "            self.word2index[word] = l\n",
    "            self.index2word[l] = word\n",
    "            self.word2count[word] = 1\n",
    "    \n",
    "    def addSentence(self,sentence):\n",
    "        for word in sentence.split(' '):\n",
    "            self.addWord(word)\n",
    "            \n",
    "def readLangs(reverse=False):\n",
    "    if not reverse:\n",
    "        lang_1 = Lang('eng')\n",
    "        lang_2 = Lang('fra')\n",
    "    else:\n",
    "        lang_1 = Lang('fra')\n",
    "        lang_2 = Lang('eng')\n",
    "    \n",
    "    pairs = []\n",
    "    with open('data/eng-fra.txt') as f:\n",
    "        for idx,line in enumerate(f.readlines()):\n",
    "            if idx > 10:\n",
    "                break\n",
    "            pair = line.split('\\t')\n",
    "            pairs.append(pair)\n",
    "            lang_1.addSentence(pair[0])\n",
    "            lang_2.addSentence(pair[1])\n",
    "    return lang_1, lang_2, pairs\n",
    "\n",
    "def unicodeToAscii(s):\n",
    "    return ''.join(\n",
    "        c for c in unicodedata.normalize('NFD', s)\n",
    "        if unicodedata.category(c) != 'Mn'\n",
    "    )\n",
    "\n",
    "# Lowercase, trim, and remove non-letter characters\n",
    "def normalizeString(s):\n",
    "    s = unicodeToAscii(s.lower().strip())\n",
    "    s = re.sub(r\"([.!?])\", r\" \\1\", s)\n",
    "    s = re.sub(r\"[^a-zA-Z.!?]+\", r\" \", s)\n",
    "    return s\n",
    "\n",
    "eng, fra, pairs = readLangs()"
   ]
  },
  {
   "cell_type": "code",
   "execution_count": 23,
   "metadata": {},
   "outputs": [
    {
     "data": {
      "text/plain": [
       "{'Va': 0,\n",
       " '!\\n': 1,\n",
       " 'Cours\\u202f!\\n': 2,\n",
       " 'Courez\\u202f!\\n': 3,\n",
       " 'Ça': 4,\n",
       " 'alors\\u202f!\\n': 5,\n",
       " 'Au': 6,\n",
       " 'feu': 7,\n",
       " 'À': 8,\n",
       " \"l'aide\\u202f!\\n\": 9,\n",
       " 'Saute.\\n': 10,\n",
       " 'suffit\\u202f!\\n': 11,\n",
       " 'Stop\\u202f!\\n': 12,\n",
       " 'Arrête-toi': 13,\n",
       " 'Attends': 14}"
      ]
     },
     "execution_count": 23,
     "metadata": {},
     "output_type": "execute_result"
    }
   ],
   "source": []
  },
  {
   "cell_type": "code",
   "execution_count": null,
   "metadata": {},
   "outputs": [],
   "source": []
  }
 ],
 "metadata": {
  "kernelspec": {
   "display_name": "Python 3",
   "language": "python",
   "name": "python3"
  },
  "language_info": {
   "codemirror_mode": {
    "name": "ipython",
    "version": 3
   },
   "file_extension": ".py",
   "mimetype": "text/x-python",
   "name": "python",
   "nbconvert_exporter": "python",
   "pygments_lexer": "ipython3",
   "version": "3.6.8"
  }
 },
 "nbformat": 4,
 "nbformat_minor": 2
}
