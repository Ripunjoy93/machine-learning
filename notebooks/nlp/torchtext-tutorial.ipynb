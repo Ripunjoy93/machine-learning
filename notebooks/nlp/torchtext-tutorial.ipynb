{
 "cells": [
  {
   "cell_type": "markdown",
   "metadata": {},
   "source": [
    "## Purpose\n",
    "This is a gradual approach on using torchtext. \n",
    "\n",
    "#### Tokenize and numericalize\n",
    "We first define a `Field` which is datatype to process text"
   ]
  },
  {
   "cell_type": "code",
   "execution_count": 18,
   "metadata": {},
   "outputs": [
    {
     "name": "stdout",
     "output_type": "stream",
     "text": [
      "tokens: ['This', 'is', 'simple', 'sentence', '.']\n"
     ]
    }
   ],
   "source": [
    "import torchtext\n",
    "\n",
    "field = torchtext.data.Field()\n",
    "\n",
    "txt = 'This is simple sentence .'\n",
    "\n",
    "#tokenize \n",
    "tokens = field.tokenize(txt)\n",
    "print(f'tokens: {tokens}')\n",
    "\n",
    "# build the vocabulary\n",
    "field.build_vocab(tokens)"
   ]
  },
  {
   "cell_type": "markdown",
   "metadata": {},
   "source": [
    "Lets have a look at the vocab frequency. "
   ]
  },
  {
   "cell_type": "code",
   "execution_count": 19,
   "metadata": {},
   "outputs": [
    {
     "data": {
      "text/plain": [
       "Counter({'T': 1,\n",
       "         'h': 1,\n",
       "         'i': 3,\n",
       "         's': 4,\n",
       "         'm': 1,\n",
       "         'p': 1,\n",
       "         'l': 1,\n",
       "         'e': 4,\n",
       "         'n': 2,\n",
       "         't': 1,\n",
       "         'c': 1,\n",
       "         '.': 1})"
      ]
     },
     "execution_count": 19,
     "metadata": {},
     "output_type": "execute_result"
    }
   ],
   "source": [
    "field.vocab.freqs"
   ]
  },
  {
   "cell_type": "markdown",
   "metadata": {},
   "source": [
    "So tokenization is happening at charecter level. so we need an interator of iterator of tokens. Lets tokenize again."
   ]
  },
  {
   "cell_type": "code",
   "execution_count": 36,
   "metadata": {},
   "outputs": [
    {
     "name": "stdout",
     "output_type": "stream",
     "text": [
      "frequencies: Counter({'This': 1, 'is': 1, 'simple': 1, 'sentence': 1, '.': 1})\n",
      "vocab words: ['<unk>', '<pad>', '.', 'This', 'is', 'sentence', 'simple']\n"
     ]
    }
   ],
   "source": [
    "field = torchtext.data.Field()\n",
    "tokens = field.tokenize(txt)\n",
    "\n",
    "# we use a list of list of tokens\n",
    "field.build_vocab([tokens])\n",
    "\n",
    "#check the word frequencies\n",
    "print(f'frequencies: {field.vocab.freqs}')\n",
    "\n",
    "# words in vocab\n",
    "print(f'vocab words: {list(field.vocab.stoi.keys())}')"
   ]
  },
  {
   "cell_type": "markdown",
   "metadata": {},
   "source": [
    "Let us tokenize and numericalize"
   ]
  },
  {
   "cell_type": "code",
   "execution_count": 37,
   "metadata": {},
   "outputs": [
    {
     "name": "stdout",
     "output_type": "stream",
     "text": [
      "data.shape:  torch.Size([5, 1])\n"
     ]
    },
    {
     "data": {
      "text/plain": [
       "tensor([[3],\n",
       "        [4],\n",
       "        [6],\n",
       "        [5],\n",
       "        [2]])"
      ]
     },
     "execution_count": 37,
     "metadata": {},
     "output_type": "execute_result"
    }
   ],
   "source": [
    "data = field.numericalize([tokens])\n",
    "print('data.shape: ', data.shape)\n",
    "data"
   ]
  },
  {
   "cell_type": "code",
   "execution_count": null,
   "metadata": {},
   "outputs": [],
   "source": []
  }
 ],
 "metadata": {
  "kernelspec": {
   "display_name": "Python 3",
   "language": "python",
   "name": "python3"
  },
  "language_info": {
   "codemirror_mode": {
    "name": "ipython",
    "version": 3
   },
   "file_extension": ".py",
   "mimetype": "text/x-python",
   "name": "python",
   "nbconvert_exporter": "python",
   "pygments_lexer": "ipython3",
   "version": "3.6.10"
  }
 },
 "nbformat": 4,
 "nbformat_minor": 4
}
