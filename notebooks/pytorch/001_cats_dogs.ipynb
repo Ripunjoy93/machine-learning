{
 "cells": [
  {
   "cell_type": "markdown",
   "metadata": {},
   "source": [
    "## Lesson 1 of fastai"
   ]
  },
  {
   "cell_type": "code",
   "execution_count": 1,
   "metadata": {},
   "outputs": [],
   "source": [
    "# Put these at the top of every notebook, to get automatic reloading and inline plotting\n",
    "%reload_ext autoreload\n",
    "%autoreload 2\n",
    "%matplotlib inline"
   ]
  },
  {
   "cell_type": "code",
   "execution_count": 2,
   "metadata": {},
   "outputs": [],
   "source": [
    "import os\n",
    "\n",
    "from fastai.transforms import *\n",
    "from fastai.conv_learner import *\n",
    "from fastai.model import *\n",
    "from fastai.dataset import *\n",
    "from fastai.sgdr import *\n",
    "from fastai.plots import *\n",
    "\n",
    "from matplotlib import patches, patheffects\n",
    "import pandas as pd"
   ]
  },
  {
   "cell_type": "code",
   "execution_count": 3,
   "metadata": {},
   "outputs": [
    {
     "name": "stdout",
     "output_type": "stream",
     "text": [
      "cuda available:  True\n",
      "cudnn enabled :  True\n"
     ]
    }
   ],
   "source": [
    "print('cuda available: ', torch.cuda.is_available())\n",
    "print('cudnn enabled : ',torch.backends.cudnn.enabled)"
   ]
  },
  {
   "cell_type": "code",
   "execution_count": 4,
   "metadata": {},
   "outputs": [],
   "source": [
    "homedir = os.path.expanduser('~')\n",
    "# datapath = Path(os.path.join(homedir,'data/kaggle/dogs-vs-cats-redux-kernels-edition'))\n",
    "datapath = Path(os.path.join(homedir,'data/kaggle/dogs-vs-cats-redux-kernels-edition/dogscats'))\n",
    "train_files = list(datapath.joinpath('train').iterdir())\n",
    "\n",
    "\n",
    "\"\"\"moves the images to 'classname/filename'\n",
    "\n",
    "Arguments:\n",
    "    src: source directory (string)\n",
    "    dst: destination directory (string)\n",
    "\"\"\"\n",
    "def move_to_folders(src,dst,classes):\n",
    "    #create folder if they do not exist\n",
    "    for class_name in classes:\n",
    "        class_folder = os.path.join(src, class_name)\n",
    "        if not os.path.isdir(class_folder):\n",
    "            os.makedirs(class_folder)\n",
    "            print('created folder - ', class_name)\n",
    "    \n",
    "    #loop through files\n",
    "    for name in os.listdir(src):\n",
    "        file_path = os.path.join(src, name)\n",
    "        #ignore if not file\n",
    "        if not os.path.isfile(file_path):\n",
    "            continue\n",
    "        \n",
    "        #move to the matching class folder\n",
    "        for class_name in classes:\n",
    "            if class_name in name:\n",
    "                shutil.move(file_path,os.path.join(dst, class_name, name))\n",
    "                break\n",
    "                \n",
    "\n",
    "\"\"\" Create validation data\n",
    "\n",
    "Arguments:\n",
    "    datadir: base directory of type pathlib.path\n",
    "    k: no of files in each class\n",
    "\"\"\"\n",
    "def create_val_set(datadir,k,classes):\n",
    "    traindir = datadir.joinpath('train')\n",
    "    valdir = datadir.joinpath('valid')\n",
    "    \n",
    "    #create validation directory\n",
    "    if not os.path.isdir(str(valdir)):\n",
    "        os.makedirs(valdir)\n",
    "    \n",
    "    #check number of files\n",
    "    for class_name in classes:\n",
    "        pass\n",
    "        #incomplete\n",
    "\n",
    "#move train images to class folders\n",
    "# traindir = datapath.joinpath('train')\n",
    "# classes = ['cat','dog']\n",
    "# move_to_folders(str(traindir), str(traindir.as_posix()),classes)\n",
    "\n",
    "#create validation set\n",
    "# valid_dir = datapath.joinpath('valid')"
   ]
  },
  {
   "cell_type": "code",
   "execution_count": 5,
   "metadata": {},
   "outputs": [],
   "source": [
    "def show_image(image, figsize=None, ax=None):\n",
    "    if not ax:\n",
    "        fig, ax = plt.subplots(figsize=figsize)\n",
    "        \n",
    "    ax.imshow(image)\n",
    "    ax.get_xaxis().set_visible(False)\n",
    "    ax.get_yaxis().set_visible(False)\n",
    "    return ax\n",
    "\n",
    "def show_images(images,nrows=3,ncols=3,figsize=(3,3)):\n",
    "    fig, axes = plt.subplots(nrows, ncols)\n",
    "    for idx, ax in enumerate(axes.flat):\n",
    "        if idx >= len(images):\n",
    "            break\n",
    "        show_image(images[idx],figsize=figsize,ax=ax)\n",
    "\n",
    "# imgs = [open_image(o.as_posix()) for o in random.choices(train_files,k=9)]\n",
    "# show_images(imgs,figsize=(8,8))"
   ]
  },
  {
   "cell_type": "code",
   "execution_count": 6,
   "metadata": {},
   "outputs": [
    {
     "name": "stdout",
     "output_type": "stream",
     "text": [
      "/home/achinta/data/kaggle/dogs-vs-cats-redux-kernels-edition/dogscats\n"
     ]
    },
    {
     "data": {
      "application/vnd.jupyter.widget-view+json": {
       "model_id": "7c3589ae00b444068dd73024abc6f919",
       "version_major": 2,
       "version_minor": 0
      },
      "text/plain": [
       "HBox(children=(IntProgress(value=0, description='Epoch', max=2), HTML(value='')))"
      ]
     },
     "metadata": {},
     "output_type": "display_data"
    },
    {
     "name": "stdout",
     "output_type": "stream",
     "text": [
      "epoch      trn_loss   val_loss   accuracy                     \n",
      "    0      0.059089   0.028947   0.99      \n",
      "    1      0.041674   0.02709    0.9905                        \n",
      "\n"
     ]
    },
    {
     "data": {
      "text/plain": [
       "[array([0.02709]), 0.9905]"
      ]
     },
     "execution_count": 6,
     "metadata": {},
     "output_type": "execute_result"
    }
   ],
   "source": [
    "arch = resnet34\n",
    "sz=224\n",
    "print(datapath)\n",
    "\n",
    "data = ImageClassifierData.from_paths(datapath, tfms=tfms_from_model(arch, sz))\n",
    "learn = ConvLearner.pretrained(arch, data, precompute=True)\n",
    "learn.fit(0.01,n_cycle=2)"
   ]
  },
  {
   "cell_type": "code",
   "execution_count": null,
   "metadata": {},
   "outputs": [],
   "source": [
    "data.classes"
   ]
  },
  {
   "cell_type": "code",
   "execution_count": null,
   "metadata": {},
   "outputs": [],
   "source": [
    "log_preds = learn.predict()\n",
    "log_preds.shape"
   ]
  },
  {
   "cell_type": "code",
   "execution_count": null,
   "metadata": {},
   "outputs": [],
   "source": [
    "preds = np.argmax(log_preds,axis=1)\n",
    "probs = np.exp(log_preds[:,1])\n",
    "len(probs)"
   ]
  },
  {
   "cell_type": "code",
   "execution_count": 7,
   "metadata": {},
   "outputs": [],
   "source": [
    "#return random image indexes with the class 'mask'\n",
    "def rand_by_mask(mask):\n",
    "    return np.random.choice(np.where(mask)[0],4,replace=False)\n",
    "\n",
    "#get random images (where prediction is correct/incorrect)\n",
    "def rand_by_correct(preds, y,is_correct):\n",
    "    return rand_by_mask((preds == y)==is_correct)\n",
    "\n",
    "def plot_val_with_title(idxs, title):\n",
    "    imgs = np.stack([data.val_ds[x][0] for x in idxs])\n",
    "    title_probs = [probs[x] for x in idxs]\n",
    "    print(title)\n",
    "    return plots(data.val_ds.denorm(imgs),rows=1, titles=title_probs)\n",
    "\n",
    "def draw_outline(o, lw):\n",
    "    o.set_path_effects([patheffects.Stroke(linewidth=lw, foreground='black'), patheffects.Normal()])\n",
    "\n",
    "def draw_text(ax, xy, text, size=14):\n",
    "    text = ax.text(*xy,text,verticalalignment='top',color='white',fontsize=size,weight='bold')\n",
    "    draw_outline(text,1)\n",
    "\n",
    "def plots(imgs,figsize=(12,6),rows=3,cols=3, titles=None):\n",
    "    fig, axes = plt.subplots(rows, cols)\n",
    "    for idx, ax in enumerate(axes.flat):\n",
    "        if idx >= rows*cols:\n",
    "            break\n",
    "        ax.imshow(imgs[idx])\n",
    "        ax.get_xaxis().set_visible(False)\n",
    "        ax.get_yaxis().set_visible(False)\n",
    "        draw_text(ax,(0,0),titles[idx])    \n",
    "        \n",
    "def most_by_mask(mask, mult):\n",
    "    idxs = np.where(mask)[0]\n",
    "    return idxs[np.argsort(mult * probs[idxs])[:4]]\n",
    "\n",
    "def most_by_correct(y, is_correct): \n",
    "    mult = -1 if (y==1)==is_correct else 1\n",
    "    return most_by_mask(((preds == data.val_y)==is_correct) & (data.val_y == y), mult)"
   ]
  },
  {
   "cell_type": "code",
   "execution_count": null,
   "metadata": {},
   "outputs": [],
   "source": [
    "plot_val_with_title(rand_by_correct(preds, data.val_y, True),\"Correctly Classified\")"
   ]
  },
  {
   "cell_type": "code",
   "execution_count": null,
   "metadata": {},
   "outputs": [],
   "source": [
    "plot_val_with_title(rand_by_correct(preds, data.val_y, False),\"Wrongly Classified\")"
   ]
  },
  {
   "cell_type": "markdown",
   "metadata": {},
   "source": [
    "### Choosing a learning rate"
   ]
  },
  {
   "cell_type": "code",
   "execution_count": null,
   "metadata": {},
   "outputs": [],
   "source": [
    "learn = ConvLearner.pretrained(arch, data, precompute=True)\n",
    "lrf = learn.lr_find()"
   ]
  },
  {
   "cell_type": "code",
   "execution_count": null,
   "metadata": {},
   "outputs": [],
   "source": [
    "learn.sched.plot_lr()"
   ]
  },
  {
   "cell_type": "code",
   "execution_count": null,
   "metadata": {},
   "outputs": [],
   "source": [
    "learn.sched.plot()"
   ]
  },
  {
   "cell_type": "code",
   "execution_count": 8,
   "metadata": {},
   "outputs": [],
   "source": [
    "tfms = tfms_from_model(resnet34, sz, aug_tfms=transforms_side_on,max_zoom=1.1)\n",
    "data = ImageClassifierData.from_paths(datapath, tfms=tfms,test_name='test1')\n",
    "# data = ImageClassifierData.from_paths(datapath, tfms=tfms_from_model(arch, sz))\n",
    "learn = ConvLearner.pretrained(arch, data)"
   ]
  },
  {
   "cell_type": "code",
   "execution_count": null,
   "metadata": {},
   "outputs": [],
   "source": [
    "learn.fit(1e-2, 1)"
   ]
  },
  {
   "cell_type": "code",
   "execution_count": null,
   "metadata": {},
   "outputs": [],
   "source": [
    "learn.precompute=False\n",
    "learn.fit(1e-2, 3, cycle_len=1)"
   ]
  },
  {
   "cell_type": "code",
   "execution_count": null,
   "metadata": {},
   "outputs": [],
   "source": [
    "learn.sched.plot_lr()"
   ]
  },
  {
   "cell_type": "code",
   "execution_count": null,
   "metadata": {},
   "outputs": [],
   "source": [
    "learn.unfreeze()"
   ]
  },
  {
   "cell_type": "code",
   "execution_count": null,
   "metadata": {},
   "outputs": [],
   "source": [
    "lr = np.array([1e-4,1e-3,1e-2])"
   ]
  },
  {
   "cell_type": "code",
   "execution_count": null,
   "metadata": {},
   "outputs": [],
   "source": [
    "learn.fit(lr,3, cycle_len=1,cycle_mult=2)"
   ]
  },
  {
   "cell_type": "code",
   "execution_count": null,
   "metadata": {},
   "outputs": [],
   "source": [
    "#learn.save('cats_dogs_diff_lr')"
   ]
  },
  {
   "cell_type": "code",
   "execution_count": 9,
   "metadata": {},
   "outputs": [],
   "source": [
    "learn.unfreeze()\n",
    "learn.load('cats_dogs_diff_lr')"
   ]
  },
  {
   "cell_type": "code",
   "execution_count": 10,
   "metadata": {},
   "outputs": [],
   "source": [
    "preds = learn.predict(is_test=True)"
   ]
  },
  {
   "cell_type": "markdown",
   "metadata": {},
   "source": [
    "### get the test file indexes"
   ]
  },
  {
   "cell_type": "code",
   "execution_count": 11,
   "metadata": {},
   "outputs": [
    {
     "data": {
      "text/plain": [
       "['3883', '3739', '1044']"
      ]
     },
     "execution_count": 11,
     "metadata": {},
     "output_type": "execute_result"
    }
   ],
   "source": [
    "files = os.listdir(datapath.joinpath('test1'))\n",
    "files = [o.split('.')[0] for o in files]\n",
    "files[:3]"
   ]
  },
  {
   "cell_type": "code",
   "execution_count": 12,
   "metadata": {},
   "outputs": [],
   "source": [
    "probs = np.exp(preds[:,1])\n",
    "df = pd.DataFrame({'id':files,'label':probs})\n",
    "df.to_csv('submit.csv',index=False)"
   ]
  },
  {
   "cell_type": "code",
   "execution_count": 13,
   "metadata": {},
   "outputs": [
    {
     "name": "stdout",
     "output_type": "stream",
     "text": [
      "Successfully submitted to Dogs vs. Cats Redux: Kernels Edition"
     ]
    }
   ],
   "source": [
    "!kaggle competitions submit -c dogs-vs-cats-redux-kernels-edition -f submit.csv -m 'No float correction'"
   ]
  },
  {
   "cell_type": "markdown",
   "metadata": {},
   "source": [
    "This resulted in an kaggle score of 0.06900 (position 161/1314"
   ]
  }
 ],
 "metadata": {
  "kernelspec": {
   "display_name": "Python 3",
   "language": "python",
   "name": "python3"
  },
  "language_info": {
   "codemirror_mode": {
    "name": "ipython",
    "version": 3
   },
   "file_extension": ".py",
   "mimetype": "text/x-python",
   "name": "python",
   "nbconvert_exporter": "python",
   "pygments_lexer": "ipython3",
   "version": "3.6.5"
  }
 },
 "nbformat": 4,
 "nbformat_minor": 2
}
