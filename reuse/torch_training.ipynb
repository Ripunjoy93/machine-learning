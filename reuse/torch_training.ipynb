{
 "cells": [
  {
   "cell_type": "markdown",
   "metadata": {},
   "source": [
    "## Purpose\n",
    "Reusable pytorch code"
   ]
  },
  {
   "cell_type": "code",
   "execution_count": 3,
   "metadata": {},
   "outputs": [],
   "source": [
    "import torch\n",
    "import torch.nn as nn"
   ]
  },
  {
   "cell_type": "code",
   "execution_count": 6,
   "metadata": {},
   "outputs": [],
   "source": [
    "# mostly copied from fastai v2\n",
    "class LinBnDrop(nn.Sequential):\n",
    "    \"Module grouping `BatchNorm1d`, `Dropout` and `Linear` layers\"\n",
    "\n",
    "    def __init__(self, n_in, n_out, bn=True, p=0., act=None, lin_first=False):\n",
    "        layers = [nn.BatchNorm1d(n_out if lin_first else n_in)] if bn else []\n",
    "        if p != 0: layers.append(nn.Dropout(p))\n",
    "        lin = [nn.Linear(n_in, n_out, bias=not bn)]\n",
    "        if act is not None: lin.append(act)\n",
    "        layers = lin + layers if lin_first else layers + lin\n",
    "        super().__init__(*layers)"
   ]
  },
  {
   "cell_type": "code",
   "execution_count": 32,
   "metadata": {},
   "outputs": [
    {
     "name": "stdout",
     "output_type": "stream",
     "text": [
      "d.shape - torch.Size([3, 3])\n",
      "s.shape: torch.Size([3])\n",
      "embedded.shape -  torch.Size([3, 3])\n",
      "tensor([0]) tensor([2])\n"
     ]
    },
    {
     "data": {
      "text/plain": [
       "tensor([[ 1.0000,  1.0000,  1.0000],\n",
       "        [-1.1694,  1.6613,  0.4667],\n",
       "        [ 0.7971, -1.2839,  2.0029],\n",
       "        [ 0.7971, -1.2839,  2.0029],\n",
       "        [ 0.0000,  0.0000,  1.0000]], grad_fn=<CatBackward>)"
      ]
     },
     "execution_count": 32,
     "metadata": {},
     "output_type": "execute_result"
    }
   ],
   "source": [
    "def embed_columns(inp, dim, index, emb):\n",
    "    \"\"\"\n",
    "    Replace columns with their embeddings. Works only with 2-d tensors.\n",
    "    TODO - make it work for multi-dim tensors\n",
    "\n",
    "    :param inp: tensor of two or more dimensions\n",
    "    :param dim: dimension along which tensor should be expanded by inserting the embedding\n",
    "    :param i: index of tensor along dim which is to be embedded\n",
    "    :param emb: Embedding of shape [v,d], where v vocab_size and d is embedding dimension\n",
    "    :return: \n",
    "    \"\"\"\n",
    "    # create a slice of the data to be replaced with embedding. \n",
    "    s = inp.index_select(dim, torch.tensor([index])).squeeze(dim)\n",
    "    print(f's.shape: {s.shape}')\n",
    "    embedded = emb(s.type(torch.long))\n",
    "    print('embedded.shape - ', embedded.shape)\n",
    "    \n",
    "    first_indices = torch.arange(0,index)\n",
    "    last_indices = torch.arange(index+1,inp.size(dim))\n",
    "    print(first_indices, last_indices)\n",
    "    return torch.cat([inp.index_select(dim, first_indices), embedded.type(inp.dtype), inp.index_select(dim, last_indices)], axis=dim)\n",
    "\n",
    "\n",
    "# example\n",
    "d = torch.tensor([[1,1,1],[0,1,1],[0,0,1]],dtype=torch.float)\n",
    "print(f'd.shape - {d.shape}')\n",
    "emb = nn.Embedding(2,3)\n",
    "embed_columns(d, 0, 1, emb)\n",
    "# print(f'output.shape - {embed_columns(d, 1,0, emb).shape}')"
   ]
  },
  {
   "cell_type": "code",
   "execution_count": 5,
   "metadata": {},
   "outputs": [],
   "source": [
    "import torch\n",
    "import torch.nn as nn\n",
    "# t = torch.arange()"
   ]
  },
  {
   "cell_type": "code",
   "execution_count": 13,
   "metadata": {},
   "outputs": [
    {
     "data": {
      "text/plain": [
       "tensor([[1., 1., 1.],\n",
       "        [0., 1., 1.],\n",
       "        [0., 0., 1.]])"
      ]
     },
     "execution_count": 13,
     "metadata": {},
     "output_type": "execute_result"
    }
   ],
   "source": [
    "d = torch.tensor([[1,1,1],[0,1,1],[0,0,1]],dtype=torch.float)\n"
   ]
  },
  {
   "cell_type": "code",
   "execution_count": 17,
   "metadata": {},
   "outputs": [
    {
     "data": {
      "text/plain": [
       "tensor([[0., 1., 1.]])"
      ]
     },
     "execution_count": 17,
     "metadata": {},
     "output_type": "execute_result"
    }
   ],
   "source": [
    "indices = torch.tensor(1)\n",
    "d.index_select(0,indices)"
   ]
  },
  {
   "cell_type": "code",
   "execution_count": 16,
   "metadata": {},
   "outputs": [
    {
     "data": {
      "text/plain": [
       "tensor(3)"
      ]
     },
     "execution_count": 16,
     "metadata": {},
     "output_type": "execute_result"
    }
   ],
   "source": [
    "torch.tensor(3)"
   ]
  },
  {
   "cell_type": "code",
   "execution_count": null,
   "metadata": {},
   "outputs": [],
   "source": []
  }
 ],
 "metadata": {
  "kernelspec": {
   "display_name": "Python 3",
   "language": "python",
   "name": "python3"
  },
  "language_info": {
   "codemirror_mode": {
    "name": "ipython",
    "version": 3
   },
   "file_extension": ".py",
   "mimetype": "text/x-python",
   "name": "python",
   "nbconvert_exporter": "python",
   "pygments_lexer": "ipython3",
   "version": "3.6.10"
  }
 },
 "nbformat": 4,
 "nbformat_minor": 4
}
