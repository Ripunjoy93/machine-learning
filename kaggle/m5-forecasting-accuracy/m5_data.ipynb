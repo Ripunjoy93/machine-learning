{
 "cells": [
  {
   "cell_type": "code",
   "execution_count": 1,
   "metadata": {},
   "outputs": [],
   "source": [
    "import numpy as np\n",
    "import pandas as pd\n",
    "# !pip install --upgrade pytorch_lightning\n",
    "from pytorch_lightning.core.lightning import LightningModule\n",
    "from pytorch_lightning import Trainer\n",
    "from pytorch_lightning.callbacks import ModelCheckpoint\n",
    "# !pip install wandb\n",
    "from pytorch_lightning.loggers import WandbLogger\n",
    "\n",
    "from torchsummary import summary\n",
    "\n",
    "from sklearn.impute import SimpleImputer\n",
    "from sklearn.compose import ColumnTransformer\n",
    "from sklearn.preprocessing import RobustScaler, LabelEncoder, OrdinalEncoder, MinMaxScaler\n",
    "from sklearn.pipeline import Pipeline\n",
    "import numpy as np\n",
    "\n",
    "from pathlib import Path\n",
    "from argparse import ArgumentParser\n",
    "import math\n",
    "\n",
    "import torch\n",
    "import torch.nn as nn\n",
    "import torch.nn.functional as F\n",
    "from torch.optim.lr_scheduler import ReduceLROnPlateau\n",
    "from torch.utils.data import Dataset, DataLoader\n",
    "import pickle\n",
    "\n",
    "\n",
    "data_dir = Path.home()/'data/kaggle/m5-forecasting-accuracy'\n",
    "\n",
    "x_cat_cols = ['item_id', 'dept_id', 'cat_id', 'store_id', 'state_id',\n",
    "        'weekday', 'wday', 'month', 'year',\n",
    "       'event_name_1', 'event_type_1', 'event_name_2', 'event_type_2',\n",
    "       'snap_CA', 'snap_TX', 'snap_WI']\n",
    "\n",
    "x_cont_cols = ['sell_price']\n",
    "num_train_val_days = 1913\n",
    "num_test1_days = 28\n",
    "num_test2_days = 28\n",
    "\n",
    "src_len = 28\n",
    "tgt_len = num_test1_days"
   ]
  },
  {
   "cell_type": "markdown",
   "metadata": {},
   "source": [
    "#### TODO\n",
    " - normalize y\n",
    " - sales price is 0. fix it. "
   ]
  },
  {
   "cell_type": "code",
   "execution_count": null,
   "metadata": {},
   "outputs": [],
   "source": [
    "!ls $data_dir"
   ]
  },
  {
   "cell_type": "markdown",
   "metadata": {},
   "source": [
    "#### Sales"
   ]
  },
  {
   "cell_type": "code",
   "execution_count": null,
   "metadata": {},
   "outputs": [],
   "source": [
    "%%time\n",
    "sales = pd.read_csv(data_dir/'sales_train_validation.csv')\n",
    "print(f'sales.shape: {sales.shape}')\n",
    "cat_cols = ['item_id', 'dept_id', 'cat_id', 'store_id', 'state_id']\n",
    "\n",
    "# encode cat cols\n",
    "encoders = {}\n",
    "for col in cat_cols:\n",
    "    encoder =  OrdinalEncoder()\n",
    "    sales[[col]] = encoder.fit_transform(sales[[col]])\n",
    "    sales[col] = sales[col].astype(np.long)\n",
    "    encoders[col] = encoder\n",
    "    \n",
    "# change day column names to just day number\n",
    "train_day_cols = {col: col.split('_')[1] for col in sales.columns if col.startswith('d_')}\n",
    "sales.rename(columns=train_day_cols, inplace=True)"
   ]
  },
  {
   "cell_type": "markdown",
   "metadata": {},
   "source": [
    "#### Add test data"
   ]
  },
  {
   "cell_type": "code",
   "execution_count": null,
   "metadata": {},
   "outputs": [],
   "source": [
    "test_day_cols = [str(num_train_val_days + 1 + o) for o in range(56)]\n",
    "for col in test_day_cols:\n",
    "    sales[col] = 0\n",
    "print(sales.shape)"
   ]
  },
  {
   "cell_type": "code",
   "execution_count": null,
   "metadata": {},
   "outputs": [],
   "source": [
    "sales.tail(2)"
   ]
  },
  {
   "cell_type": "code",
   "execution_count": null,
   "metadata": {},
   "outputs": [],
   "source": [
    "sample = pd.read_csv(data_dir/'sample_submission.csv')\n",
    "sample.tail(2)"
   ]
  },
  {
   "cell_type": "code",
   "execution_count": null,
   "metadata": {},
   "outputs": [],
   "source": [
    "num_days = len(train_day_cols) + len(test_day_cols)\n",
    "num_stores = sales['store_id'].nunique()\n",
    "num_items = sales['item_id'].nunique()\n",
    "print('total days : ', num_days)\n",
    "print('num store_items - ', num_stores * num_items)"
   ]
  },
  {
   "cell_type": "code",
   "execution_count": null,
   "metadata": {},
   "outputs": [],
   "source": [
    "sales['item_id'].nunique()"
   ]
  },
  {
   "cell_type": "markdown",
   "metadata": {},
   "source": [
    "#### Calendar"
   ]
  },
  {
   "cell_type": "code",
   "execution_count": null,
   "metadata": {},
   "outputs": [],
   "source": [
    "calendar = pd.read_csv(data_dir/'calendar.csv')\\\n",
    "            .rename(columns={'d':'day'})\n",
    "\n",
    "cat_cal_cols = ['wm_yr_wk', 'weekday', 'wday', 'month', 'year',\n",
    "       'event_name_1', 'event_type_1', 'event_name_2', 'event_type_2',\n",
    "       'snap_CA', 'snap_TX', 'snap_WI']\n",
    "# ignore_cal_cols = ['wm_yr_wk']\n",
    "\n",
    "for col in cat_cal_cols:\n",
    "    \n",
    "    # impute\n",
    "    if str(calendar[col].dtype)[:3] == 'obj':\n",
    "        fill_value = 'abcxyz' \n",
    "    elif str(calendar[col].dtype)[:3] == 'int':\n",
    "        fill_value = -1\n",
    "    calendar[[col]] = SimpleImputer(strategy='constant', fill_value=fill_value).fit_transform(calendar[[col]])\n",
    "    \n",
    "    # encode\n",
    "    if col not in encoders:\n",
    "        encoders[col] = OrdinalEncoder().fit(calendar[[col]])\n",
    "    calendar[[col]] = encoders[col].transform(calendar[[col]])\n",
    "    calendar[col] = calendar[col].astype(np.long)\n",
    "    \n",
    "# change day column names to just day number\n",
    "calendar['day'] = calendar['day'].apply(lambda x: x.split('_')[1])\n",
    "calendar['day'] = calendar['day'].astype(np.long)\n",
    "\n",
    "calendar.tail(2)"
   ]
  },
  {
   "cell_type": "markdown",
   "metadata": {},
   "source": [
    "#### Prices"
   ]
  },
  {
   "cell_type": "code",
   "execution_count": null,
   "metadata": {},
   "outputs": [],
   "source": [
    "%%time\n",
    "prices = pd.read_csv(data_dir/'sell_prices.csv')\n",
    "for col in ['store_id', 'item_id', 'wm_yr_wk']:\n",
    "    prices[[col]] = encoders[col].transform(prices[[col]])\n",
    "    prices[col] = prices[col].astype(np.long)"
   ]
  },
  {
   "cell_type": "code",
   "execution_count": null,
   "metadata": {},
   "outputs": [],
   "source": [
    "prices.sort_values('wm_yr_wk',ascending=False).head(2)"
   ]
  },
  {
   "cell_type": "markdown",
   "metadata": {},
   "source": [
    "### Merge"
   ]
  },
  {
   "cell_type": "code",
   "execution_count": null,
   "metadata": {},
   "outputs": [],
   "source": [
    "%%time\n",
    "sales2 = pd.melt(sales, id_vars=['id', 'item_id', 'dept_id', 'cat_id', 'store_id', 'state_id'], \n",
    "                                       var_name='day', value_name='demand')\n",
    "sales2['day'] = sales2['day'].astype(np.long)\n",
    "\n",
    "sales2.sort_values('day', inplace=True)\n",
    "calendar.sort_values('day', inplace=True)\n",
    "\n",
    "sales2 = sales2.merge(calendar, on='day', how='left')\n",
    "sales2 = sales2.merge(prices, on=['store_id', 'item_id', 'wm_yr_wk'], how='left')\n",
    "sales2['sell_price'] = sales2['sell_price'].astype(np.float32)\n",
    "sales2['sell_price'] = sales2['sell_price'].fillna(0.0)\n",
    "\n",
    "sales2.sort_values(['item_id', 'store_id','day'], inplace=True)\n",
    "\n",
    "# scale continuous columns\n",
    "scalers = {}\n",
    "for col in ['sell_price','demand']:\n",
    "    scaler = MinMaxScaler()\n",
    "    sales2[[col]] = scaler.fit_transform(sales2[[col]])\n",
    "    scalers[col] = scaler"
   ]
  },
  {
   "cell_type": "code",
   "execution_count": null,
   "metadata": {},
   "outputs": [],
   "source": [
    "sales2.to_parquet('combined.pq')\n",
    "with open('encoders.pkl','wb') as f:\n",
    "    pickle.dump(encoders,f)\n",
    "    \n",
    "with open('scalers.pkl','wb') as f:\n",
    "    pickle.dump(scalers, f)"
   ]
  },
  {
   "cell_type": "markdown",
   "metadata": {},
   "source": [
    "### Creating tensors"
   ]
  },
  {
   "cell_type": "code",
   "execution_count": null,
   "metadata": {},
   "outputs": [],
   "source": [
    "%%time\n",
    "sales2 = pd.read_parquet('combined.pq')\n",
    "print(sales2.shape)\n",
    "sales2.columns"
   ]
  },
  {
   "cell_type": "code",
   "execution_count": null,
   "metadata": {},
   "outputs": [],
   "source": [
    "%%time\n",
    "x = torch.tensor(sales2[x_cat_cols + x_cont_cols].values)\n",
    "y = torch.tensor(sales2['demand'].values)"
   ]
  },
  {
   "cell_type": "code",
   "execution_count": null,
   "metadata": {},
   "outputs": [],
   "source": [
    "sales2[x_cat_cols + x_cont_cols].dtypes"
   ]
  },
  {
   "cell_type": "code",
   "execution_count": null,
   "metadata": {},
   "outputs": [],
   "source": [
    "%%time\n",
    "\n",
    "# from fastai v2\n",
    "def get_emb_size(nunique):\n",
    "    return min(600, round(1.6 * nunique**0.56))\n",
    "\n",
    "emb_sizes = [(sales2[col].nunique(), get_emb_size(sales2[col].nunique())) for col in x_cat_cols]"
   ]
  },
  {
   "cell_type": "code",
   "execution_count": null,
   "metadata": {},
   "outputs": [],
   "source": [
    "with open('emb_sz.pkl','wb') as f:\n",
    "    pickle.dump(emb_sizes,f )"
   ]
  },
  {
   "cell_type": "code",
   "execution_count": null,
   "metadata": {},
   "outputs": [],
   "source": [
    "# group_size = num_items * num_stores\n",
    "# group_size"
   ]
  },
  {
   "cell_type": "code",
   "execution_count": null,
   "metadata": {},
   "outputs": [],
   "source": [
    "%%time\n",
    "num_features = x.size(1)\n",
    "x1 = x.view(-1, num_days, num_features).refine_names('item_store', 'day','features')\\\n",
    "        .align_to('day','item_store','features').contiguous()\n",
    "\n",
    "y1 = y.view(-1, num_days).refine_names('item_store', 'day')\\\n",
    "    .align_to('day', 'item_store').contiguous()\n",
    "\n",
    "print(f'x1.shape - {x1.shape} y1.shape - {y1.shape}')"
   ]
  },
  {
   "cell_type": "code",
   "execution_count": null,
   "metadata": {},
   "outputs": [],
   "source": [
    "%%time\n",
    "torch.save(x1.rename(None), 'x.pt')\n",
    "torch.save(y1.rename(None), 'y.pt')\n"
   ]
  },
  {
   "cell_type": "markdown",
   "metadata": {},
   "source": [
    "### Training"
   ]
  },
  {
   "cell_type": "code",
   "execution_count": 21,
   "metadata": {},
   "outputs": [],
   "source": [
    "class M5DataSet(Dataset):\n",
    "    def __init__(self,x, y, src_len, tgt_len, bsz, dstype='train'):\n",
    "        assert dstype in ['train', 'test1', 'test2', 'val']\n",
    "        self.x = x\n",
    "        self.y = y\n",
    "        self.src_len = src_len\n",
    "        self.tgt_len = tgt_len\n",
    "        self.bsz = bsz\n",
    "        self.dstype = dstype\n",
    "        \n",
    "        self.val_days = self.src_len + self.tgt_len\n",
    "        self.test_days = self.tgt_len * 2\n",
    "        self.val_idx = self.x.size(0) - (self.val_days + self.test_days)\n",
    "        self.test1_idx = self.x.size(0) - (self.src_len + self.test_days)\n",
    "        print(f'val index - {self.val_idx}. test1_idx - {self.test1_idx}', )\n",
    "        \n",
    "    def __len__(self):\n",
    "        if self.dstype == 'train':\n",
    "            l = (self.x.size(0) - (self.src_len + self.val_days + self.test_days)) \n",
    "            return l\n",
    "        \n",
    "        if self.dstype =='val':\n",
    "             return 1\n",
    "        \n",
    "        if self.dstype == 'test1':\n",
    "            return 1\n",
    "        \n",
    "        return l\n",
    "    \n",
    "    def __getitem__(self, idx):\n",
    "        if self.dstype == 'train':\n",
    "            # we have 30490 item_stores. We may not be able to load them all. So randomly pick bsz items. \n",
    "            item_store_mask = list(np.random.randint(0, self.x.size(1),(self.bsz,)))\n",
    "        elif self.dstype == 'val':\n",
    "            item_store_mask = list(np.random.randint(0, self.x.size(1),(self.bsz,)))\n",
    "            idx = self.val_idx\n",
    "        elif self.dstype == 'test1':\n",
    "            item_store_mask = list(np.arange(self.x.size(1)))\n",
    "            idx = self.test1_idx\n",
    "            print('test1 index - ', idx)\n",
    "        \n",
    "        x_src = self.x.rename(None)[idx:idx+self.src_len, item_store_mask, :]\n",
    "        x_tgt = self.x.rename(None)[idx+self.src_len:idx+self.src_len+self.tgt_len, item_store_mask, :]\n",
    "        y_src = self.y.rename(None)[idx:idx+self.src_len, item_store_mask]\n",
    "        y_tgt = self.y.rename(None)[idx+self.src_len:idx+self.src_len+self.tgt_len, item_store_mask]\n",
    "#         print(f'x.shape - {self.x.shape} y.shape - {self.y.shape} idx - {idx}. x_item.shape - {x_item.shape} y_item.shape - {y_item.shape}')\n",
    "        return x_src, x_tgt, y_src, y_tgt, item_store_mask\n",
    "\n",
    "# train_ds = M5DataSet(x1, y1, src_len, tgt_len, 200)\n",
    "# train_dl = DataLoader(train_ds, batch_size=1, shuffle=True, pin_memory=True)"
   ]
  },
  {
   "cell_type": "code",
   "execution_count": 22,
   "metadata": {},
   "outputs": [],
   "source": [
    "class PositionalEncoding(nn.Module):\n",
    "\n",
    "    def __init__(self, d_model, dropout=0.1, max_len=5000):\n",
    "        super(PositionalEncoding, self).__init__()\n",
    "        self.dropout = nn.Dropout(p=dropout)\n",
    "\n",
    "        pe = torch.zeros(max_len, d_model)\n",
    "        position = torch.arange(0, max_len, dtype=torch.float).unsqueeze(1)\n",
    "        div_term = torch.exp(torch.arange(0, d_model, 2).float() * (-math.log(10000.0) / d_model))\n",
    "        pe[:, 0::2] = torch.sin(position * div_term)\n",
    "        pe[:, 1::2] = torch.cos(position * div_term)\n",
    "        pe = pe.unsqueeze(0).transpose(0, 1)\n",
    "        self.register_buffer('pe', pe)\n",
    "\n",
    "    def forward(self, x):\n",
    "        x = x + self.pe[:x.size(0), :]\n",
    "        return self.dropout(x)\n",
    "    \n",
    "# def insert_embedding(inp, dim, index, emb):\n",
    "#     \"\"\"\n",
    "#     Replace columns with their embeddings. Works only with 2-d tensors.\n",
    "#     TODO - make it work for multi-dim tensors\n",
    "\n",
    "#     :param inp: tensor of two or more dimensions\n",
    "#     :param dim: dimension along which tensor should be expanded by inserting the embedding\n",
    "#     :param i: index of tensor along dim which is to be embedded\n",
    "#     :param emb: Embedding of shape [v,d], where v vocab_size and d is embedding dimension\n",
    "#     :return: \n",
    "#     \"\"\"\n",
    "#     # create a slice of the data to be replaced with embedding. \n",
    "#     s = inp.index_select(dim, torch.tensor([index])).squeeze(dim)\n",
    "#     embedded = emb(s.type(torch.long))\n",
    "    \n",
    "#     first_indices = torch.arange(0,index)\n",
    "#     last_indices = torch.arange(index+1,inp.size(dim))\n",
    "\n",
    "#     return torch.cat([inp.index_select(dim, first_indices), embedded.type(inp.dtype), inp.index_select(dim, last_indices)], axis=dim)"
   ]
  },
  {
   "cell_type": "code",
   "execution_count": 9,
   "metadata": {},
   "outputs": [
    {
     "name": "stdout",
     "output_type": "stream",
     "text": [
      "gx.shape - torch.Size([1969, 30490, 17]) gy.shape - torch.Size([1969, 30490])\n",
      "CPU times: user 0 ns, sys: 8.11 s, total: 8.11 s\n",
      "Wall time: 8.09 s\n"
     ]
    }
   ],
   "source": [
    "%%time\n",
    "gx = torch.load('x.pt')\n",
    "gy = torch.load('y.pt')\n",
    "print(f'gx.shape - {gx.shape} gy.shape - {gy.shape}')"
   ]
  },
  {
   "cell_type": "code",
   "execution_count": 23,
   "metadata": {},
   "outputs": [],
   "source": [
    "class SalesModel(LightningModule):\n",
    "    def __init__(self, hparams):\n",
    "        super(SalesModel, self).__init__()\n",
    "        self.hparams = hparams\n",
    "        self.x_cat_cols = x_cat_cols\n",
    "        self.x_cont_cols = x_cont_cols\n",
    "        self.pos_encoder = PositionalEncoding(hparams.ninp, hparams.dropout)\n",
    "        \n",
    "        encoder_layers = nn.TransformerEncoderLayer(hparams.ninp, hparams.nhead, hparams.nhid, hparams.dropout)\n",
    "        decoder_layers = nn.TransformerDecoderLayer(hparams.ninp, hparams.nhead, hparams.nhid, hparams.dropout)\n",
    "        self.encoder = nn.TransformerEncoder(encoder_layers, hparams.nlayers)\n",
    "        self.decoder = nn.TransformerDecoder(decoder_layers, hparams.nlayers)\n",
    "        \n",
    "#         self.lin = nn.Linear()\n",
    "#         self.transformer = nn.Transformer(d_model=hparams.ninp, nhead=hparams.nhead, \n",
    "#                                           num_encoder_layers=hparams.nlayers,\n",
    "#                                           num_decoder_layers=hparams.nlayers,\n",
    "#                                           dim_feedforward=hparams.nhid)\n",
    "        self.transformer = nn.Transformer(d_model=hparams.ninp,\n",
    "                                          custom_encoder=self.encoder, \n",
    "                                          custom_decoder = self.decoder)\n",
    "        self.criterion = nn.MSELoss()\n",
    "        self.lin1 = nn.Linear(hparams.ninp, 50)\n",
    "        self.lin2 = nn.Linear(50, 1)\n",
    "        self.sigmoid = nn.Sigmoid()\n",
    "        self.relu = nn.ReLU()\n",
    "        \n",
    "        print('reading data', flush=True)\n",
    "        self.x = gx\n",
    "        self.y = gy\n",
    "\n",
    "        with open('emb_sz.pkl','rb') as f:\n",
    "            emb_szs = pickle.load(f)\n",
    "        print(f'emb_szs - {emb_szs}')\n",
    "                    \n",
    "        self.embs = nn.ModuleList([nn.Embedding(e[0],e[1]) for e in emb_szs])\n",
    "#         self.init_weights()\n",
    "        \n",
    "    def init_weights(self):\n",
    "        initrange = 0.1\n",
    "#         self.src_embedding.weight.data.uniform_(-initrange, initrange)\n",
    "        self.decoder.bias.data.zero_()\n",
    "        self.decoder.weight.data.uniform_(-initrange, initrange)\n",
    "        \n",
    "    @staticmethod\n",
    "    def add_model_specifi_args(parent_parser):\n",
    "        parser = ArgumentParser(parents=[parent_parser], add_help=False)\n",
    "        parser.add_argument('--bsz', default=20, type=int, help='batch_size', )\n",
    "        parser.add_argument('--src-len', default=90, type=int, help='source length')\n",
    "        parser.add_argument('--tgt-len', default=28, type=int, help='target length')\n",
    "        parser.add_argument('--ninp', default=320, type=int, help='expected features in the input')\n",
    "        parser.add_argument('--nhead', default=4, type=int, help='number of attention heads')\n",
    "        parser.add_argument('--nhid', default=256, type=int, help='dimesion of feed-forward network model')\n",
    "        parser.add_argument('--nlayers', default=2, type=int, help='number of encoder layers')\n",
    "        parser.add_argument('--dropout', default=0.2, type=float, help='dropout')\n",
    "        \n",
    "        # they are not hyper params, but adding them as pytorch lightening can save them\n",
    "        parser.add_argument('--num-cat-cols', default=len(x_cat_cols), type=int, help='number of categorical columns')\n",
    "        parser.add_argument('--num-cont-cols', default=len(x_cont_cols), type=int, help='number of numeric columns')\n",
    "        return parser\n",
    "    \n",
    "#     def _generate_square_subsequent_mask(self, sz):\n",
    "#         # populate the lower triangle with True and rest with False\n",
    "#         return torch.tril(torch.ones(sz, sz)) == 1.0\n",
    "    \n",
    "    def prepare_data(self):\n",
    "        pass\n",
    "        \n",
    "    def train_dataloader(self):\n",
    "        train_ds = M5DataSet(self.x, self.y, self.hparams.src_len, self.hparams.tgt_len, self.hparams.bsz,dstype='train')  \n",
    "        print(f'train_ds.length - {len(train_ds)}')\n",
    "        train_dl = DataLoader(train_ds, batch_size=1, shuffle=True, pin_memory=True)\n",
    "        return train_dl\n",
    "    \n",
    "    def val_dataloader(self):\n",
    "        train_ds = M5DataSet(self.x, self.y, self.hparams.src_len, self.hparams.tgt_len, self.hparams.bsz,dstype='val')  \n",
    "        print(f'val.length - {len(train_ds)}')\n",
    "        train_dl = DataLoader(train_ds, batch_size=1, shuffle=False, pin_memory=True)\n",
    "        return train_dl\n",
    "\n",
    "    \n",
    "    def emb_lookups(self, xb, yb=None):\n",
    "        embs_t = []\n",
    "        for idx in range(self.hparams.num_cat_cols):\n",
    "#             print('looking up for ', idx)\n",
    "            embs_t.append(self.embs[idx](xb[:,:,idx].type(torch.long)))\n",
    "        xb_cat = torch.cat(embs_t, dim=2)\n",
    "        xb_cont = xb[:,:,self.hparams.num_cat_cols:]\n",
    "        \n",
    "        if yb is not None:\n",
    "            xb = torch.cat([xb_cat, xb_cont.type(xb_cat.dtype), yb.unsqueeze(2).type(xb_cat.dtype)], dim=2)\n",
    "        else:\n",
    "            xb = torch.cat([xb_cat, xb_cont.type(xb_cat.dtype)], dim=2)\n",
    "            \n",
    "        #pad to adjust the feature dimension\n",
    "        dim3_shortfall = self.hparams.ninp - xb.size(2)\n",
    "        assert dim3_shortfall >= 0\n",
    "        pad = nn.ConstantPad1d(padding=(0,dim3_shortfall),value=0)\n",
    "        xb = pad(xb) \n",
    "\n",
    "        return xb\n",
    "\n",
    "    def forward(self, x_src, y_src, x_tgt):        \n",
    "        x_src = self.emb_lookups(x_src, y_src)\n",
    "        x_tgt = self.emb_lookups(x_tgt)\n",
    "            \n",
    "        x_src = self.pos_encoder(x_src)\n",
    "#         print('shape after pos encoder - ', x_src.size())\n",
    "        out = self.transformer(x_src, x_tgt)\n",
    "#         print('shape after transformer - ', out.size())\n",
    "        out = self.relu(self.lin1(out))\n",
    "        out = self.sigmoid(self.lin2(out))\n",
    "        \n",
    "        return out\n",
    "    \n",
    "    def compute_loss(self, batch, batch_idx):\n",
    "        x_src, x_tgt, y_src, y_tgt, item_store_mask = batch\n",
    "        x_src = x_src.squeeze(0)\n",
    "        x_tgt = x_tgt.squeeze(0)\n",
    "        y_src = y_src.squeeze(0)\n",
    "        y_tgt = y_tgt.squeeze(0)\n",
    "        \n",
    "        yhat_tgt = self(x_src, y_src, x_tgt)\n",
    "        loss = self.criterion((yhat_tgt).reshape(-1).type(torch.float32), (y_tgt).reshape(-1).type(torch.float32))\n",
    "        return loss, y_tgt, yhat_tgt\n",
    "        \n",
    "    def training_step(self, batch, batch_idx):\n",
    "        loss, y_tgt, yhat_tgt = self.compute_loss(batch, batch_idx)\n",
    "        if batch_idx%10 == 0:\n",
    "            print(f'{batch_idx} train loss: {loss}  yhat_tgt.sum: {yhat_tgt.sum().item()}  y_tgt.sum: {y_tgt.sum().item()}')\n",
    "            \n",
    "        return {'loss': loss}\n",
    "    \n",
    "    def validation_step(self, batch, batch_idx):\n",
    "        loss, y_tgt, yhat_tgt = self.compute_loss(batch, batch_idx)\n",
    "        if batch_idx%10 == 0:\n",
    "            print(f'{batch_idx} val loss: {loss}  yhat_tgt.sum: {yhat_tgt.sum().item()}  y_tgt.sum: {y_tgt.sum().item()}')\n",
    "            \n",
    "        return {'val_loss': loss}\n",
    "        \n",
    "    \n",
    "    def configure_optimizers(self):\n",
    "        optimizer = torch.optim.Adam(self.parameters(), lr=0.0001)\n",
    "        schedulers = [{\n",
    "             'scheduler': ReduceLROnPlateau(optimizer,patience=10, verbose=True),\n",
    "             'monitor': 'loss', # Default: val_loss\n",
    "             'interval': 'step',\n",
    "             'frequency': 1\n",
    "          }]\n",
    "        scheduler = ReduceLROnPlateau(optimizer,)\n",
    "#         scheduler = torch.optim.lr_scheduler.OneCycleLR(optimizer, \n",
    "#                                                         max_lr=0.01, steps_per_epoch=len(data_loader), epochs=10)\n",
    "        return optimizer\n",
    "    \n",
    "#     def optimizer_step(self, current_epoch, batch_idx, optimizer, optimizer_idx,\n",
    "#                        second_order_closure=None):\n",
    "#         optimizer.step()\n",
    "#         if batch_idx == 5:\n",
    "#             for name, param in model.named_parameters():\n",
    "#                 if param.requires_grad:\n",
    "#                     pass\n",
    "# #                     print(name, param.grad)\n",
    "#         optimizer.zero_grad()\n",
    "    \n",
    "#     def test(self):\n",
    "#         dl = self.test_dataloader()\n",
    "#         batch = next(iter(dl))\n",
    "#         return batch\n",
    "    \n",
    "    \n",
    "#     def test_dataloader(self):\n",
    "#         test_ds = M5DataSet(self.x, self.y, self.hparams.src_len, self.hparams.tgt_len, self.hparams.bsz, dstype='test1')  \n",
    "#         test_dl = DataLoader(test_ds, batch_size=1, shuffle=False)\n",
    "#         return test_dl\n",
    "        "
   ]
  },
  {
   "cell_type": "code",
   "execution_count": 24,
   "metadata": {},
   "outputs": [
    {
     "name": "stdout",
     "output_type": "stream",
     "text": [
      "reading data\n"
     ]
    },
    {
     "name": "stderr",
     "output_type": "stream",
     "text": [
      "GPU available: True, used: True\n",
      "No environment variable for node rank defined. Set as 0.\n",
      "CUDA_VISIBLE_DEVICES: [0]\n",
      "/home/achinta/miniconda3/envs/fastai/lib/python3.6/site-packages/pytorch_lightning/utilities/distributed.py:23: RuntimeWarning: You have defined a `val_dataloader()` and have defined a `validation_step()`, you may also want to define `validation_epoch_end()` for accumulating stats.\n",
      "  warnings.warn(*args, **kwargs)\n",
      "\n",
      "   | Name                                     | Type                    | Params\n",
      "---------------------------------------------------------------------------------\n",
      "0  | pos_encoder                              | PositionalEncoding      | 0     \n",
      "1  | pos_encoder.dropout                      | Dropout                 | 0     \n",
      "2  | encoder                                  | TransformerEncoder      | 740 K \n",
      "3  | encoder.layers                           | ModuleList              | 740 K \n",
      "4  | encoder.layers.0                         | TransformerEncoderLayer | 740 K \n",
      "5  | encoder.layers.0.self_attn               | MultiheadAttention      | 410 K \n",
      "6  | encoder.layers.0.self_attn.out_proj      | Linear                  | 102 K \n",
      "7  | encoder.layers.0.linear1                 | Linear                  | 164 K \n",
      "8  | encoder.layers.0.dropout                 | Dropout                 | 0     \n",
      "9  | encoder.layers.0.linear2                 | Linear                  | 164 K \n",
      "10 | encoder.layers.0.norm1                   | LayerNorm               | 640   \n",
      "11 | encoder.layers.0.norm2                   | LayerNorm               | 640   \n",
      "12 | encoder.layers.0.dropout1                | Dropout                 | 0     \n",
      "13 | encoder.layers.0.dropout2                | Dropout                 | 0     \n",
      "14 | decoder                                  | TransformerDecoder      | 1 M   \n",
      "15 | decoder.layers                           | ModuleList              | 1 M   \n",
      "16 | decoder.layers.0                         | TransformerDecoderLayer | 1 M   \n",
      "17 | decoder.layers.0.self_attn               | MultiheadAttention      | 410 K \n",
      "18 | decoder.layers.0.self_attn.out_proj      | Linear                  | 102 K \n",
      "19 | decoder.layers.0.multihead_attn          | MultiheadAttention      | 410 K \n",
      "20 | decoder.layers.0.multihead_attn.out_proj | Linear                  | 102 K \n",
      "21 | decoder.layers.0.linear1                 | Linear                  | 164 K \n",
      "22 | decoder.layers.0.dropout                 | Dropout                 | 0     \n",
      "23 | decoder.layers.0.linear2                 | Linear                  | 164 K \n",
      "24 | decoder.layers.0.norm1                   | LayerNorm               | 640   \n",
      "25 | decoder.layers.0.norm2                   | LayerNorm               | 640   \n",
      "26 | decoder.layers.0.norm3                   | LayerNorm               | 640   \n",
      "27 | decoder.layers.0.dropout1                | Dropout                 | 0     \n",
      "28 | decoder.layers.0.dropout2                | Dropout                 | 0     \n",
      "29 | decoder.layers.0.dropout3                | Dropout                 | 0     \n",
      "30 | transformer                              | Transformer             | 1 M   \n",
      "31 | criterion                                | MSELoss                 | 0     \n",
      "32 | lin1                                     | Linear                  | 16 K  \n",
      "33 | lin2                                     | Linear                  | 51    \n",
      "34 | sigmoid                                  | Sigmoid                 | 0     \n",
      "35 | relu                                     | ReLU                    | 0     \n",
      "36 | embs                                     | ModuleList              | 436 K \n",
      "37 | embs.0                                   | Embedding               | 436 K \n",
      "38 | embs.1                                   | Embedding               | 35    \n",
      "39 | embs.2                                   | Embedding               | 9     \n",
      "40 | embs.3                                   | Embedding               | 60    \n",
      "41 | embs.4                                   | Embedding               | 9     \n",
      "42 | embs.5                                   | Embedding               | 35    \n",
      "43 | embs.6                                   | Embedding               | 35    \n",
      "44 | embs.7                                   | Embedding               | 72    \n",
      "45 | embs.8                                   | Embedding               | 24    \n",
      "46 | embs.9                                   | Embedding               | 341   \n",
      "47 | embs.10                                  | Embedding               | 20    \n",
      "48 | embs.11                                  | Embedding               | 20    \n",
      "49 | embs.12                                  | Embedding               | 9     \n",
      "50 | embs.13                                  | Embedding               | 4     \n",
      "51 | embs.14                                  | Embedding               | 4     \n",
      "52 | embs.15                                  | Embedding               | 4     \n"
     ]
    },
    {
     "name": "stdout",
     "output_type": "stream",
     "text": [
      "emb_szs - [(3049, 143), (7, 5), (3, 3), (10, 6), (3, 3), (7, 5), (7, 5), (12, 6), (6, 4), (31, 11), (5, 4), (5, 4), (3, 3), (2, 2), (2, 2), (2, 2)]\n",
      "val index - 1795. test1_idx - 1823\n",
      "val.length - 1\n"
     ]
    },
    {
     "name": "stderr",
     "output_type": "stream",
     "text": [
      "/home/achinta/miniconda3/envs/fastai/lib/python3.6/site-packages/pytorch_lightning/utilities/distributed.py:23: UserWarning: The dataloader, val dataloader 0, does not have many workers which may be a bottleneck. Consider increasing the value of the `num_workers` argument` in the `DataLoader` init to improve performance.\n",
      "  warnings.warn(*args, **kwargs)\n"
     ]
    },
    {
     "data": {
      "application/vnd.jupyter.widget-view+json": {
       "model_id": "d46ba2bd48574acd9db43fe75de18c77",
       "version_major": 2,
       "version_minor": 0
      },
      "text/plain": [
       "HBox(children=(FloatProgress(value=1.0, bar_style='info', description='Validation sanity check', layout=Layout…"
      ]
     },
     "metadata": {},
     "output_type": "display_data"
    },
    {
     "name": "stdout",
     "output_type": "stream",
     "text": [
      "0 val loss: 0.26271411776542664  yhat_tgt.sum: 14353.744140625  y_tgt.sum: 51.80602883355177\n",
      "val index - 1795. test1_idx - 1823\n",
      "train_ds.length - 1705\n",
      "val index - 1795. test1_idx - 1823\n",
      "val.length - 1\n"
     ]
    },
    {
     "name": "stderr",
     "output_type": "stream",
     "text": [
      "/home/achinta/miniconda3/envs/fastai/lib/python3.6/site-packages/pytorch_lightning/utilities/distributed.py:23: UserWarning: The dataloader, train dataloader, does not have many workers which may be a bottleneck. Consider increasing the value of the `num_workers` argument` in the `DataLoader` init to improve performance.\n",
      "  warnings.warn(*args, **kwargs)\n"
     ]
    },
    {
     "data": {
      "application/vnd.jupyter.widget-view+json": {
       "model_id": "18a79632f33a406a8ef4f860698930e0",
       "version_major": 2,
       "version_minor": 0
      },
      "text/plain": [
       "HBox(children=(FloatProgress(value=1.0, bar_style='info', description='Training', layout=Layout(flex='2'), max…"
      ]
     },
     "metadata": {},
     "output_type": "display_data"
    },
    {
     "name": "stdout",
     "output_type": "stream",
     "text": [
      "0 train loss: 0.25655174255371094  yhat_tgt.sum: 14171.443359375  y_tgt.sum: 38.73525557011796\n"
     ]
    },
    {
     "data": {
      "application/vnd.jupyter.widget-view+json": {
       "model_id": "38ad5f3bdb2d4c828b546fe79e6a36bb",
       "version_major": 2,
       "version_minor": 0
      },
      "text/plain": [
       "HBox(children=(FloatProgress(value=1.0, bar_style='info', description='Validating', layout=Layout(flex='2'), m…"
      ]
     },
     "metadata": {},
     "output_type": "display_data"
    },
    {
     "name": "stdout",
     "output_type": "stream",
     "text": [
      "0 val loss: 0.020812438800930977  yhat_tgt.sum: 4064.185302734375  y_tgt.sum: 50.293577981651374\n",
      "10 train loss: 0.031039496883749962  yhat_tgt.sum: 4929.40234375  y_tgt.sum: 41.351245085190044\n"
     ]
    },
    {
     "name": "stderr",
     "output_type": "stream",
     "text": [
      "/home/achinta/miniconda3/envs/fastai/lib/python3.6/site-packages/pytorch_lightning/utilities/distributed.py:23: RuntimeWarning: The metric you returned None must be a Torch.Tensor instance, checkpoint not saved HINT: what is the value of val_loss in validation_end()?\n",
      "  warnings.warn(*args, **kwargs)\n",
      "/home/achinta/miniconda3/envs/fastai/lib/python3.6/site-packages/pytorch_lightning/utilities/distributed.py:23: RuntimeWarning: Can save best model only with val_loss available, skipping.\n",
      "  warnings.warn(*args, **kwargs)\n"
     ]
    },
    {
     "data": {
      "application/vnd.jupyter.widget-view+json": {
       "model_id": "38020d17356e4c68b6cbb99a4d52f5f2",
       "version_major": 2,
       "version_minor": 0
      },
      "text/plain": [
       "HBox(children=(FloatProgress(value=1.0, bar_style='info', description='Validating', layout=Layout(flex='2'), m…"
      ]
     },
     "metadata": {},
     "output_type": "display_data"
    },
    {
     "name": "stdout",
     "output_type": "stream",
     "text": [
      "0 val loss: 0.0023068662267178297  yhat_tgt.sum: 1381.865234375  y_tgt.sum: 46.40235910878113\n",
      "20 train loss: 0.004795339424163103  yhat_tgt.sum: 1961.9674072265625  y_tgt.sum: 41.048492791612055\n"
     ]
    },
    {
     "data": {
      "application/vnd.jupyter.widget-view+json": {
       "model_id": "156b2153524042dcb8b5e869559be210",
       "version_major": 2,
       "version_minor": 0
      },
      "text/plain": [
       "HBox(children=(FloatProgress(value=1.0, bar_style='info', description='Validating', layout=Layout(flex='2'), m…"
      ]
     },
     "metadata": {},
     "output_type": "display_data"
    },
    {
     "name": "stdout",
     "output_type": "stream",
     "text": [
      "0 val loss: 0.0007366426871158183  yhat_tgt.sum: 798.4913330078125  y_tgt.sum: 49.625163826998694\n",
      "30 train loss: 0.0018610068364068866  yhat_tgt.sum: 1226.147705078125  y_tgt.sum: 30.107470511140235\n"
     ]
    },
    {
     "data": {
      "application/vnd.jupyter.widget-view+json": {
       "model_id": "bdd9118aa0af4a8ebd57063f3bd95e01",
       "version_major": 2,
       "version_minor": 0
      },
      "text/plain": [
       "HBox(children=(FloatProgress(value=1.0, bar_style='info', description='Validating', layout=Layout(flex='2'), m…"
      ]
     },
     "metadata": {},
     "output_type": "display_data"
    },
    {
     "name": "stdout",
     "output_type": "stream",
     "text": [
      "0 val loss: 0.0004237604734953493  yhat_tgt.sum: 608.7508544921875  y_tgt.sum: 49.239842726081264\n",
      "40 train loss: 0.0011050391476601362  yhat_tgt.sum: 952.525390625  y_tgt.sum: 42.0694626474443\n"
     ]
    },
    {
     "data": {
      "application/vnd.jupyter.widget-view+json": {
       "model_id": "2e055386688e4c23ab46532eab34bfe3",
       "version_major": 2,
       "version_minor": 0
      },
      "text/plain": [
       "HBox(children=(FloatProgress(value=1.0, bar_style='info', description='Validating', layout=Layout(flex='2'), m…"
      ]
     },
     "metadata": {},
     "output_type": "display_data"
    },
    {
     "name": "stdout",
     "output_type": "stream",
     "text": [
      "0 val loss: 0.0003087493241764605  yhat_tgt.sum: 520.87744140625  y_tgt.sum: 44.88859764089122\n",
      "50 train loss: 0.0008699744939804077  yhat_tgt.sum: 848.742431640625  y_tgt.sum: 40.715596330275226\n"
     ]
    },
    {
     "data": {
      "application/vnd.jupyter.widget-view+json": {
       "model_id": "69262f236b224d539d7f0abcec2447c4",
       "version_major": 2,
       "version_minor": 0
      },
      "text/plain": [
       "HBox(children=(FloatProgress(value=1.0, bar_style='info', description='Validating', layout=Layout(flex='2'), m…"
      ]
     },
     "metadata": {},
     "output_type": "display_data"
    },
    {
     "name": "stdout",
     "output_type": "stream",
     "text": [
      "0 val loss: 0.00024085596669465303  yhat_tgt.sum: 467.3934326171875  y_tgt.sum: 44.92791612057667\n",
      "60 train loss: 0.0007243193103931844  yhat_tgt.sum: 774.5672607421875  y_tgt.sum: 49.72346002621232\n"
     ]
    },
    {
     "data": {
      "application/vnd.jupyter.widget-view+json": {
       "model_id": "bd7a74b052404acdb75071bd246d40a3",
       "version_major": 2,
       "version_minor": 0
      },
      "text/plain": [
       "HBox(children=(FloatProgress(value=1.0, bar_style='info', description='Validating', layout=Layout(flex='2'), m…"
      ]
     },
     "metadata": {},
     "output_type": "display_data"
    },
    {
     "name": "stdout",
     "output_type": "stream",
     "text": [
      "0 val loss: 0.0002050382026936859  yhat_tgt.sum: 431.087890625  y_tgt.sum: 50.66841415465269\n",
      "70 train loss: 0.0005767869297415018  yhat_tgt.sum: 700.76171875  y_tgt.sum: 44.381389252948885\n"
     ]
    },
    {
     "data": {
      "application/vnd.jupyter.widget-view+json": {
       "model_id": "e17cd12647ae4031bfc0f4231bf2cd28",
       "version_major": 2,
       "version_minor": 0
      },
      "text/plain": [
       "HBox(children=(FloatProgress(value=1.0, bar_style='info', description='Validating', layout=Layout(flex='2'), m…"
      ]
     },
     "metadata": {},
     "output_type": "display_data"
    },
    {
     "name": "stdout",
     "output_type": "stream",
     "text": [
      "0 val loss: 0.00020185943867545575  yhat_tgt.sum: 402.5251159667969  y_tgt.sum: 60.17824377457406\n",
      "80 train loss: 0.0005282160709612072  yhat_tgt.sum: 667.321044921875  y_tgt.sum: 44.43643512450852\n"
     ]
    },
    {
     "data": {
      "application/vnd.jupyter.widget-view+json": {
       "model_id": "951a4b89d5b54b6180e483e9170a8996",
       "version_major": 2,
       "version_minor": 0
      },
      "text/plain": [
       "HBox(children=(FloatProgress(value=1.0, bar_style='info', description='Validating', layout=Layout(flex='2'), m…"
      ]
     },
     "metadata": {},
     "output_type": "display_data"
    },
    {
     "name": "stdout",
     "output_type": "stream",
     "text": [
      "0 val loss: 0.000165882651344873  yhat_tgt.sum: 377.55322265625  y_tgt.sum: 53.48099606815203\n",
      "90 train loss: 0.0004489048442337662  yhat_tgt.sum: 617.5247192382812  y_tgt.sum: 38.28047182175622\n"
     ]
    },
    {
     "data": {
      "application/vnd.jupyter.widget-view+json": {
       "model_id": "a4a063c3ae22424ea9882d86141f131e",
       "version_major": 2,
       "version_minor": 0
      },
      "text/plain": [
       "HBox(children=(FloatProgress(value=1.0, bar_style='info', description='Validating', layout=Layout(flex='2'), m…"
      ]
     },
     "metadata": {},
     "output_type": "display_data"
    },
    {
     "name": "stdout",
     "output_type": "stream",
     "text": [
      "0 val loss: 0.00014152024232316762  yhat_tgt.sum: 357.5767517089844  y_tgt.sum: 50.25688073394495\n",
      "100 train loss: 0.0004265518509782851  yhat_tgt.sum: 603.6793212890625  y_tgt.sum: 40.37876802096986\n"
     ]
    },
    {
     "data": {
      "application/vnd.jupyter.widget-view+json": {
       "model_id": "7ab068c6d3dd48b7bab899e831c40141",
       "version_major": 2,
       "version_minor": 0
      },
      "text/plain": [
       "HBox(children=(FloatProgress(value=1.0, bar_style='info', description='Validating', layout=Layout(flex='2'), m…"
      ]
     },
     "metadata": {},
     "output_type": "display_data"
    },
    {
     "name": "stdout",
     "output_type": "stream",
     "text": [
      "0 val loss: 0.00012671730655711144  yhat_tgt.sum: 338.90606689453125  y_tgt.sum: 49.7994757536042\n",
      "110 train loss: 0.00037697056541219354  yhat_tgt.sum: 566.0552978515625  y_tgt.sum: 45.30799475753604\n"
     ]
    },
    {
     "data": {
      "application/vnd.jupyter.widget-view+json": {
       "model_id": "f3f9fb3c705e49e09bdcca7f1ed4c9d7",
       "version_major": 2,
       "version_minor": 0
      },
      "text/plain": [
       "HBox(children=(FloatProgress(value=1.0, bar_style='info', description='Validating', layout=Layout(flex='2'), m…"
      ]
     },
     "metadata": {},
     "output_type": "display_data"
    },
    {
     "name": "stdout",
     "output_type": "stream",
     "text": [
      "0 val loss: 0.00013342410966288298  yhat_tgt.sum: 322.3496398925781  y_tgt.sum: 55.387942332896465\n",
      "120 train loss: 0.00038054180913604796  yhat_tgt.sum: 545.1176147460938  y_tgt.sum: 49.456094364351245\n"
     ]
    },
    {
     "data": {
      "application/vnd.jupyter.widget-view+json": {
       "model_id": "04e4eeda96d34a6e8ac0831360f1ebfb",
       "version_major": 2,
       "version_minor": 0
      },
      "text/plain": [
       "HBox(children=(FloatProgress(value=1.0, bar_style='info', description='Validating', layout=Layout(flex='2'), m…"
      ]
     },
     "metadata": {},
     "output_type": "display_data"
    },
    {
     "name": "stdout",
     "output_type": "stream",
     "text": [
      "0 val loss: 0.00010444834333611652  yhat_tgt.sum: 305.50091552734375  y_tgt.sum: 54.18348623853211\n",
      "130 train loss: 0.00032779324101284146  yhat_tgt.sum: 528.114501953125  y_tgt.sum: 36.49410222804718\n"
     ]
    },
    {
     "data": {
      "application/vnd.jupyter.widget-view+json": {
       "model_id": "e2dcc21c64334b8ab26b91af7c384a4d",
       "version_major": 2,
       "version_minor": 0
      },
      "text/plain": [
       "HBox(children=(FloatProgress(value=1.0, bar_style='info', description='Validating', layout=Layout(flex='2'), m…"
      ]
     },
     "metadata": {},
     "output_type": "display_data"
    },
    {
     "name": "stdout",
     "output_type": "stream",
     "text": [
      "0 val loss: 8.962760330177844e-05  yhat_tgt.sum: 292.56817626953125  y_tgt.sum: 45.11926605504587\n",
      "140 train loss: 0.0002886794682126492  yhat_tgt.sum: 500.476806640625  y_tgt.sum: 39.62254259501966\n"
     ]
    },
    {
     "data": {
      "application/vnd.jupyter.widget-view+json": {
       "model_id": "c3b4ffb143804408a2033e4a1b447235",
       "version_major": 2,
       "version_minor": 0
      },
      "text/plain": [
       "HBox(children=(FloatProgress(value=1.0, bar_style='info', description='Validating', layout=Layout(flex='2'), m…"
      ]
     },
     "metadata": {},
     "output_type": "display_data"
    },
    {
     "name": "stdout",
     "output_type": "stream",
     "text": [
      "0 val loss: 8.762708603171632e-05  yhat_tgt.sum: 279.4927062988281  y_tgt.sum: 50.52031454783748\n",
      "150 train loss: 0.0002693379356060177  yhat_tgt.sum: 481.9508056640625  y_tgt.sum: 39.782437745740495\n"
     ]
    },
    {
     "data": {
      "application/vnd.jupyter.widget-view+json": {
       "model_id": "f44da60617d444ea9f9f80d030faf243",
       "version_major": 2,
       "version_minor": 0
      },
      "text/plain": [
       "HBox(children=(FloatProgress(value=1.0, bar_style='info', description='Validating', layout=Layout(flex='2'), m…"
      ]
     },
     "metadata": {},
     "output_type": "display_data"
    },
    {
     "name": "stdout",
     "output_type": "stream",
     "text": [
      "0 val loss: 8.409666043007746e-05  yhat_tgt.sum: 267.85205078125  y_tgt.sum: 51.449541284403665\n",
      "160 train loss: 0.0002574159298092127  yhat_tgt.sum: 466.95538330078125  y_tgt.sum: 45.44954128440367\n"
     ]
    },
    {
     "data": {
      "application/vnd.jupyter.widget-view+json": {
       "model_id": "603b90fe34e94df3adfdcf9f9ae6163a",
       "version_major": 2,
       "version_minor": 0
      },
      "text/plain": [
       "HBox(children=(FloatProgress(value=1.0, bar_style='info', description='Validating', layout=Layout(flex='2'), m…"
      ]
     },
     "metadata": {},
     "output_type": "display_data"
    },
    {
     "name": "stdout",
     "output_type": "stream",
     "text": [
      "0 val loss: 6.998189928708598e-05  yhat_tgt.sum: 257.2681884765625  y_tgt.sum: 50.186107470511146\n",
      "170 train loss: 0.00021867573377676308  yhat_tgt.sum: 440.9133605957031  y_tgt.sum: 47.30668414154653\n"
     ]
    },
    {
     "data": {
      "application/vnd.jupyter.widget-view+json": {
       "model_id": "328dc7005e5d4850af166b6c608d281e",
       "version_major": 2,
       "version_minor": 0
      },
      "text/plain": [
       "HBox(children=(FloatProgress(value=1.0, bar_style='info', description='Validating', layout=Layout(flex='2'), m…"
      ]
     },
     "metadata": {},
     "output_type": "display_data"
    },
    {
     "name": "stdout",
     "output_type": "stream",
     "text": [
      "0 val loss: 6.787392339901999e-05  yhat_tgt.sum: 247.61090087890625  y_tgt.sum: 47.693315858453474\n",
      "180 train loss: 0.00021629175171256065  yhat_tgt.sum: 433.80487060546875  y_tgt.sum: 39.528178243774576\n"
     ]
    },
    {
     "data": {
      "application/vnd.jupyter.widget-view+json": {
       "model_id": "8a4af654e395441ca58b6ee486e21b10",
       "version_major": 2,
       "version_minor": 0
      },
      "text/plain": [
       "HBox(children=(FloatProgress(value=1.0, bar_style='info', description='Validating', layout=Layout(flex='2'), m…"
      ]
     },
     "metadata": {},
     "output_type": "display_data"
    },
    {
     "name": "stdout",
     "output_type": "stream",
     "text": [
      "0 val loss: 7.245261076604947e-05  yhat_tgt.sum: 238.2282257080078  y_tgt.sum: 53.435124508519\n",
      "190 train loss: 0.0002047921298071742  yhat_tgt.sum: 424.4147033691406  y_tgt.sum: 49.22804718217563\n"
     ]
    },
    {
     "data": {
      "application/vnd.jupyter.widget-view+json": {
       "model_id": "00737b6f46964346895255b97f79321e",
       "version_major": 2,
       "version_minor": 0
      },
      "text/plain": [
       "HBox(children=(FloatProgress(value=1.0, bar_style='info', description='Validating', layout=Layout(flex='2'), m…"
      ]
     },
     "metadata": {},
     "output_type": "display_data"
    },
    {
     "name": "stdout",
     "output_type": "stream",
     "text": [
      "0 val loss: 6.080671664676629e-05  yhat_tgt.sum: 230.5347900390625  y_tgt.sum: 48.95806028833552\n",
      "200 train loss: 0.00018666622054297477  yhat_tgt.sum: 398.3976745605469  y_tgt.sum: 47.65923984272608\n"
     ]
    },
    {
     "data": {
      "application/vnd.jupyter.widget-view+json": {
       "model_id": "56e3203492494775bae267e244cb8206",
       "version_major": 2,
       "version_minor": 0
      },
      "text/plain": [
       "HBox(children=(FloatProgress(value=1.0, bar_style='info', description='Validating', layout=Layout(flex='2'), m…"
      ]
     },
     "metadata": {},
     "output_type": "display_data"
    },
    {
     "name": "stdout",
     "output_type": "stream",
     "text": [
      "0 val loss: 5.642247560899705e-05  yhat_tgt.sum: 222.0377197265625  y_tgt.sum: 47.80602883355177\n",
      "210 train loss: 0.00017387063417118043  yhat_tgt.sum: 392.72967529296875  y_tgt.sum: 46.77588466579292\n"
     ]
    },
    {
     "data": {
      "application/vnd.jupyter.widget-view+json": {
       "model_id": "f27a9bbcacf14543a94651c49a8e66c2",
       "version_major": 2,
       "version_minor": 0
      },
      "text/plain": [
       "HBox(children=(FloatProgress(value=1.0, bar_style='info', description='Validating', layout=Layout(flex='2'), m…"
      ]
     },
     "metadata": {},
     "output_type": "display_data"
    },
    {
     "name": "stdout",
     "output_type": "stream",
     "text": [
      "0 val loss: 5.443954432848841e-05  yhat_tgt.sum: 215.08578491210938  y_tgt.sum: 51.85714285714286\n",
      "220 train loss: 0.00016446106019429862  yhat_tgt.sum: 380.64495849609375  y_tgt.sum: 38.646133682830936\n"
     ]
    },
    {
     "data": {
      "application/vnd.jupyter.widget-view+json": {
       "model_id": "d392bc8455ff4828aed2d99affc60a7f",
       "version_major": 2,
       "version_minor": 0
      },
      "text/plain": [
       "HBox(children=(FloatProgress(value=1.0, bar_style='info', description='Validating', layout=Layout(flex='2'), m…"
      ]
     },
     "metadata": {},
     "output_type": "display_data"
    },
    {
     "name": "stdout",
     "output_type": "stream",
     "text": [
      "0 val loss: 4.9550464609637856e-05  yhat_tgt.sum: 207.67047119140625  y_tgt.sum: 49.85452162516383\n",
      "230 train loss: 0.00016546099504921585  yhat_tgt.sum: 372.8734436035156  y_tgt.sum: 46.76408912188729\n"
     ]
    },
    {
     "data": {
      "application/vnd.jupyter.widget-view+json": {
       "model_id": "3dcf4b89e61d4d22a00c86289a8b41dc",
       "version_major": 2,
       "version_minor": 0
      },
      "text/plain": [
       "HBox(children=(FloatProgress(value=1.0, bar_style='info', description='Validating', layout=Layout(flex='2'), m…"
      ]
     },
     "metadata": {},
     "output_type": "display_data"
    },
    {
     "name": "stdout",
     "output_type": "stream",
     "text": [
      "0 val loss: 4.930062641506083e-05  yhat_tgt.sum: 201.90377807617188  y_tgt.sum: 50.05373525557012\n",
      "240 train loss: 0.00048049972974695265  yhat_tgt.sum: 362.03302001953125  y_tgt.sum: 64.88073394495413\n"
     ]
    },
    {
     "data": {
      "application/vnd.jupyter.widget-view+json": {
       "model_id": "605d2f541edf47e5808974ff7508ce83",
       "version_major": 2,
       "version_minor": 0
      },
      "text/plain": [
       "HBox(children=(FloatProgress(value=1.0, bar_style='info', description='Validating', layout=Layout(flex='2'), m…"
      ]
     },
     "metadata": {},
     "output_type": "display_data"
    },
    {
     "name": "stdout",
     "output_type": "stream",
     "text": [
      "0 val loss: 5.288937609293498e-05  yhat_tgt.sum: 196.11634826660156  y_tgt.sum: 50.58584534731324\n",
      "250 train loss: 0.00014359246415551752  yhat_tgt.sum: 348.73504638671875  y_tgt.sum: 36.83748361730014\n"
     ]
    },
    {
     "data": {
      "application/vnd.jupyter.widget-view+json": {
       "model_id": "ed886b01bed4443695eb8dd722c2c20e",
       "version_major": 2,
       "version_minor": 0
      },
      "text/plain": [
       "HBox(children=(FloatProgress(value=1.0, bar_style='info', description='Validating', layout=Layout(flex='2'), m…"
      ]
     },
     "metadata": {},
     "output_type": "display_data"
    },
    {
     "name": "stdout",
     "output_type": "stream",
     "text": [
      "0 val loss: 4.4671978685073555e-05  yhat_tgt.sum: 190.36927795410156  y_tgt.sum: 53.68283093053736\n",
      "260 train loss: 0.0001507000415585935  yhat_tgt.sum: 345.660888671875  y_tgt.sum: 30.078636959370904\n"
     ]
    },
    {
     "data": {
      "application/vnd.jupyter.widget-view+json": {
       "model_id": "c940d673551e4d32a1fff4af04c3ff50",
       "version_major": 2,
       "version_minor": 0
      },
      "text/plain": [
       "HBox(children=(FloatProgress(value=1.0, bar_style='info', description='Validating', layout=Layout(flex='2'), m…"
      ]
     },
     "metadata": {},
     "output_type": "display_data"
    },
    {
     "name": "stdout",
     "output_type": "stream",
     "text": [
      "0 val loss: 4.197670932626352e-05  yhat_tgt.sum: 185.30841064453125  y_tgt.sum: 50.53342070773264\n",
      "270 train loss: 0.00013383536133915186  yhat_tgt.sum: 335.5980224609375  y_tgt.sum: 35.92005242463958\n"
     ]
    },
    {
     "data": {
      "application/vnd.jupyter.widget-view+json": {
       "model_id": "b589188f4b4c4ceb8e1c916cda61eedb",
       "version_major": 2,
       "version_minor": 0
      },
      "text/plain": [
       "HBox(children=(FloatProgress(value=1.0, bar_style='info', description='Validating', layout=Layout(flex='2'), m…"
      ]
     },
     "metadata": {},
     "output_type": "display_data"
    },
    {
     "name": "stdout",
     "output_type": "stream",
     "text": [
      "0 val loss: 3.656612534541637e-05  yhat_tgt.sum: 179.9285125732422  y_tgt.sum: 46.638269986893846\n",
      "280 train loss: 0.00011901111429324374  yhat_tgt.sum: 325.4118957519531  y_tgt.sum: 42.60943643512451\n"
     ]
    },
    {
     "data": {
      "application/vnd.jupyter.widget-view+json": {
       "model_id": "9d7814ee9d954e628c5b1a2408cb491d",
       "version_major": 2,
       "version_minor": 0
      },
      "text/plain": [
       "HBox(children=(FloatProgress(value=1.0, bar_style='info', description='Validating', layout=Layout(flex='2'), m…"
      ]
     },
     "metadata": {},
     "output_type": "display_data"
    },
    {
     "name": "stdout",
     "output_type": "stream",
     "text": [
      "0 val loss: 5.71472046431154e-05  yhat_tgt.sum: 175.09161376953125  y_tgt.sum: 58.67365661861075\n",
      "290 train loss: 0.00013105083780828863  yhat_tgt.sum: 324.3260192871094  y_tgt.sum: 33.00917431192661\n"
     ]
    },
    {
     "data": {
      "application/vnd.jupyter.widget-view+json": {
       "model_id": "bd6883b5fd144992a3f299b9d3e08c67",
       "version_major": 2,
       "version_minor": 0
      },
      "text/plain": [
       "HBox(children=(FloatProgress(value=1.0, bar_style='info', description='Validating', layout=Layout(flex='2'), m…"
      ]
     },
     "metadata": {},
     "output_type": "display_data"
    },
    {
     "name": "stdout",
     "output_type": "stream",
     "text": [
      "0 val loss: 3.397838008822873e-05  yhat_tgt.sum: 170.71951293945312  y_tgt.sum: 48.824377457404985\n",
      "300 train loss: 0.00011967614409513772  yhat_tgt.sum: 312.38787841796875  y_tgt.sum: 41.39449541284404\n"
     ]
    },
    {
     "data": {
      "application/vnd.jupyter.widget-view+json": {
       "model_id": "f2744027b746430599f626465cc5c353",
       "version_major": 2,
       "version_minor": 0
      },
      "text/plain": [
       "HBox(children=(FloatProgress(value=1.0, bar_style='info', description='Validating', layout=Layout(flex='2'), m…"
      ]
     },
     "metadata": {},
     "output_type": "display_data"
    },
    {
     "name": "stdout",
     "output_type": "stream",
     "text": [
      "0 val loss: 3.194619785062969e-05  yhat_tgt.sum: 166.1361083984375  y_tgt.sum: 47.68020969855832\n",
      "310 train loss: 0.00010508191189728677  yhat_tgt.sum: 302.64410400390625  y_tgt.sum: 43.92398427260812\n"
     ]
    },
    {
     "data": {
      "application/vnd.jupyter.widget-view+json": {
       "model_id": "92fc29cbcd1547d78ba72d94b42dd469",
       "version_major": 2,
       "version_minor": 0
      },
      "text/plain": [
       "HBox(children=(FloatProgress(value=1.0, bar_style='info', description='Validating', layout=Layout(flex='2'), m…"
      ]
     },
     "metadata": {},
     "output_type": "display_data"
    },
    {
     "name": "stdout",
     "output_type": "stream",
     "text": [
      "0 val loss: 4.2507217585807666e-05  yhat_tgt.sum: 162.1432647705078  y_tgt.sum: 52.26605504587156\n",
      "320 train loss: 9.747068543219939e-05  yhat_tgt.sum: 291.8116455078125  y_tgt.sum: 35.80733944954129\n"
     ]
    },
    {
     "data": {
      "application/vnd.jupyter.widget-view+json": {
       "model_id": "32b306b0b3bd474d8721c436197e5e1a",
       "version_major": 2,
       "version_minor": 0
      },
      "text/plain": [
       "HBox(children=(FloatProgress(value=1.0, bar_style='info', description='Validating', layout=Layout(flex='2'), m…"
      ]
     },
     "metadata": {},
     "output_type": "display_data"
    },
    {
     "name": "stdout",
     "output_type": "stream",
     "text": [
      "0 val loss: 3.5971999750472605e-05  yhat_tgt.sum: 158.4427490234375  y_tgt.sum: 53.8872870249017\n",
      "330 train loss: 9.21335958992131e-05  yhat_tgt.sum: 282.128662109375  y_tgt.sum: 45.328964613368285\n"
     ]
    },
    {
     "data": {
      "application/vnd.jupyter.widget-view+json": {
       "model_id": "463e51fb5af74e32bc06b827aa5b99d8",
       "version_major": 2,
       "version_minor": 0
      },
      "text/plain": [
       "HBox(children=(FloatProgress(value=1.0, bar_style='info', description='Validating', layout=Layout(flex='2'), m…"
      ]
     },
     "metadata": {},
     "output_type": "display_data"
    },
    {
     "name": "stdout",
     "output_type": "stream",
     "text": [
      "0 val loss: 4.1241644794354215e-05  yhat_tgt.sum: 154.39230346679688  y_tgt.sum: 57.08125819134993\n",
      "340 train loss: 9.135322761721909e-05  yhat_tgt.sum: 283.3459777832031  y_tgt.sum: 47.33289646133683\n"
     ]
    },
    {
     "data": {
      "application/vnd.jupyter.widget-view+json": {
       "model_id": "c5f64da892d94c6595c5c8df24c2afeb",
       "version_major": 2,
       "version_minor": 0
      },
      "text/plain": [
       "HBox(children=(FloatProgress(value=1.0, bar_style='info', description='Validating', layout=Layout(flex='2'), m…"
      ]
     },
     "metadata": {},
     "output_type": "display_data"
    },
    {
     "name": "stdout",
     "output_type": "stream",
     "text": [
      "0 val loss: 3.6814421036979184e-05  yhat_tgt.sum: 151.18490600585938  y_tgt.sum: 53.10353866317169\n",
      "350 train loss: 9.05115157365799e-05  yhat_tgt.sum: 276.3083190917969  y_tgt.sum: 43.809960681520316\n"
     ]
    },
    {
     "data": {
      "application/vnd.jupyter.widget-view+json": {
       "model_id": "8c7447f350694f0fac976ed6e6a7730d",
       "version_major": 2,
       "version_minor": 0
      },
      "text/plain": [
       "HBox(children=(FloatProgress(value=1.0, bar_style='info', description='Validating', layout=Layout(flex='2'), m…"
      ]
     },
     "metadata": {},
     "output_type": "display_data"
    },
    {
     "name": "stdout",
     "output_type": "stream",
     "text": [
      "0 val loss: 5.484638313646428e-05  yhat_tgt.sum: 147.84725952148438  y_tgt.sum: 60.48230668414154\n",
      "360 train loss: 8.971226634457707e-05  yhat_tgt.sum: 276.4155578613281  y_tgt.sum: 37.699868938401046\n"
     ]
    },
    {
     "data": {
      "application/vnd.jupyter.widget-view+json": {
       "model_id": "95a4212590ae42b1ac0e7775649f6ad8",
       "version_major": 2,
       "version_minor": 0
      },
      "text/plain": [
       "HBox(children=(FloatProgress(value=1.0, bar_style='info', description='Validating', layout=Layout(flex='2'), m…"
      ]
     },
     "metadata": {},
     "output_type": "display_data"
    },
    {
     "name": "stdout",
     "output_type": "stream",
     "text": [
      "0 val loss: 2.763006523309741e-05  yhat_tgt.sum: 144.6981201171875  y_tgt.sum: 45.678899082568805\n",
      "370 train loss: 8.359264029422775e-05  yhat_tgt.sum: 266.41851806640625  y_tgt.sum: 49.30144167758847\n"
     ]
    },
    {
     "data": {
      "application/vnd.jupyter.widget-view+json": {
       "model_id": "5f1008d1dd0347289911e6e26dabb831",
       "version_major": 2,
       "version_minor": 0
      },
      "text/plain": [
       "HBox(children=(FloatProgress(value=1.0, bar_style='info', description='Validating', layout=Layout(flex='2'), m…"
      ]
     },
     "metadata": {},
     "output_type": "display_data"
    },
    {
     "name": "stdout",
     "output_type": "stream",
     "text": [
      "0 val loss: 3.1017443689052016e-05  yhat_tgt.sum: 141.7071990966797  y_tgt.sum: 53.861074705111406\n",
      "380 train loss: 8.346510003320873e-05  yhat_tgt.sum: 263.9418640136719  y_tgt.sum: 39.16382699868939\n"
     ]
    },
    {
     "data": {
      "application/vnd.jupyter.widget-view+json": {
       "model_id": "b590fe04fde44d27af5fcc437a497491",
       "version_major": 2,
       "version_minor": 0
      },
      "text/plain": [
       "HBox(children=(FloatProgress(value=1.0, bar_style='info', description='Validating', layout=Layout(flex='2'), m…"
      ]
     },
     "metadata": {},
     "output_type": "display_data"
    },
    {
     "name": "stdout",
     "output_type": "stream",
     "text": [
      "0 val loss: 2.578275052655954e-05  yhat_tgt.sum: 139.051025390625  y_tgt.sum: 47.211009174311926\n",
      "390 train loss: 8.049289317568764e-05  yhat_tgt.sum: 261.0591735839844  y_tgt.sum: 41.17562254259502\n"
     ]
    },
    {
     "data": {
      "application/vnd.jupyter.widget-view+json": {
       "model_id": "ca297dc6756240428ecd3921887125c0",
       "version_major": 2,
       "version_minor": 0
      },
      "text/plain": [
       "HBox(children=(FloatProgress(value=1.0, bar_style='info', description='Validating', layout=Layout(flex='2'), m…"
      ]
     },
     "metadata": {},
     "output_type": "display_data"
    },
    {
     "name": "stdout",
     "output_type": "stream",
     "text": [
      "0 val loss: 3.77045180357527e-05  yhat_tgt.sum: 135.854248046875  y_tgt.sum: 52.470511140235914\n",
      "400 train loss: 7.629773608641699e-05  yhat_tgt.sum: 252.43927001953125  y_tgt.sum: 42.313237221494106\n"
     ]
    },
    {
     "data": {
      "application/vnd.jupyter.widget-view+json": {
       "model_id": "b467d3de64c44b739aba0adb736da789",
       "version_major": 2,
       "version_minor": 0
      },
      "text/plain": [
       "HBox(children=(FloatProgress(value=1.0, bar_style='info', description='Validating', layout=Layout(flex='2'), m…"
      ]
     },
     "metadata": {},
     "output_type": "display_data"
    },
    {
     "name": "stdout",
     "output_type": "stream",
     "text": [
      "0 val loss: 3.5867000406142324e-05  yhat_tgt.sum: 133.47235107421875  y_tgt.sum: 51.986893840104855\n",
      "410 train loss: 7.799887680448592e-05  yhat_tgt.sum: 255.11119079589844  y_tgt.sum: 28.32241153342071\n"
     ]
    },
    {
     "data": {
      "application/vnd.jupyter.widget-view+json": {
       "model_id": "8d1643c35f27439fa09a84b72587821d",
       "version_major": 2,
       "version_minor": 0
      },
      "text/plain": [
       "HBox(children=(FloatProgress(value=1.0, bar_style='info', description='Validating', layout=Layout(flex='2'), m…"
      ]
     },
     "metadata": {},
     "output_type": "display_data"
    },
    {
     "name": "stdout",
     "output_type": "stream",
     "text": [
      "0 val loss: 2.427716026431881e-05  yhat_tgt.sum: 130.7816162109375  y_tgt.sum: 47.42332896461337\n",
      "420 train loss: 9.25803542486392e-05  yhat_tgt.sum: 249.43515014648438  y_tgt.sum: 41.6959370904325\n"
     ]
    },
    {
     "data": {
      "application/vnd.jupyter.widget-view+json": {
       "model_id": "1342d2c55c304cc9b350cce4c1cd542f",
       "version_major": 2,
       "version_minor": 0
      },
      "text/plain": [
       "HBox(children=(FloatProgress(value=1.0, bar_style='info', description='Validating', layout=Layout(flex='2'), m…"
      ]
     },
     "metadata": {},
     "output_type": "display_data"
    },
    {
     "name": "stdout",
     "output_type": "stream",
     "text": [
      "0 val loss: 3.317085429443978e-05  yhat_tgt.sum: 127.93685913085938  y_tgt.sum: 54.150720838794236\n",
      "430 train loss: 0.00012673484161496162  yhat_tgt.sum: 247.01039123535156  y_tgt.sum: 28.990825688073397\n"
     ]
    },
    {
     "data": {
      "application/vnd.jupyter.widget-view+json": {
       "model_id": "ca3110b48d994f16b901c5f7a07b39ca",
       "version_major": 2,
       "version_minor": 0
      },
      "text/plain": [
       "HBox(children=(FloatProgress(value=1.0, bar_style='info', description='Validating', layout=Layout(flex='2'), m…"
      ]
     },
     "metadata": {},
     "output_type": "display_data"
    },
    {
     "name": "stdout",
     "output_type": "stream",
     "text": [
      "0 val loss: 2.6231229639961384e-05  yhat_tgt.sum: 126.04931640625  y_tgt.sum: 48.92398427260812\n",
      "440 train loss: 6.082807885832153e-05  yhat_tgt.sum: 233.709716796875  y_tgt.sum: 40.129750982961994\n"
     ]
    },
    {
     "data": {
      "application/vnd.jupyter.widget-view+json": {
       "model_id": "bfef7eec7497413f8d88f0921b0bb201",
       "version_major": 2,
       "version_minor": 0
      },
      "text/plain": [
       "HBox(children=(FloatProgress(value=1.0, bar_style='info', description='Validating', layout=Layout(flex='2'), m…"
      ]
     },
     "metadata": {},
     "output_type": "display_data"
    },
    {
     "name": "stdout",
     "output_type": "stream",
     "text": [
      "0 val loss: 2.2790014554630034e-05  yhat_tgt.sum: 123.64067840576172  y_tgt.sum: 52.94495412844037\n",
      "450 train loss: 8.073150820564479e-05  yhat_tgt.sum: 231.96144104003906  y_tgt.sum: 41.61336828309305\n"
     ]
    },
    {
     "data": {
      "application/vnd.jupyter.widget-view+json": {
       "model_id": "237fb205f00e4738887633faeb8a0e62",
       "version_major": 2,
       "version_minor": 0
      },
      "text/plain": [
       "HBox(children=(FloatProgress(value=1.0, bar_style='info', description='Validating', layout=Layout(flex='2'), m…"
      ]
     },
     "metadata": {},
     "output_type": "display_data"
    },
    {
     "name": "stdout",
     "output_type": "stream",
     "text": [
      "0 val loss: 2.2596163034904748e-05  yhat_tgt.sum: 121.51522064208984  y_tgt.sum: 48.06422018348624\n",
      "460 train loss: 7.118976645870134e-05  yhat_tgt.sum: 228.82069396972656  y_tgt.sum: 41.996068152031455\n"
     ]
    },
    {
     "data": {
      "application/vnd.jupyter.widget-view+json": {
       "model_id": "4be39c1778b349bb9765d41afc4fff47",
       "version_major": 2,
       "version_minor": 0
      },
      "text/plain": [
       "HBox(children=(FloatProgress(value=1.0, bar_style='info', description='Validating', layout=Layout(flex='2'), m…"
      ]
     },
     "metadata": {},
     "output_type": "display_data"
    },
    {
     "name": "stdout",
     "output_type": "stream",
     "text": [
      "0 val loss: 3.423589441808872e-05  yhat_tgt.sum: 119.59880065917969  y_tgt.sum: 53.67234600262124\n",
      "470 train loss: 5.952673382125795e-05  yhat_tgt.sum: 222.66946411132812  y_tgt.sum: 38.758846657929226\n"
     ]
    },
    {
     "data": {
      "application/vnd.jupyter.widget-view+json": {
       "model_id": "dd3da82a6e5442db93cc6de0e3a373e3",
       "version_major": 2,
       "version_minor": 0
      },
      "text/plain": [
       "HBox(children=(FloatProgress(value=1.0, bar_style='info', description='Validating', layout=Layout(flex='2'), m…"
      ]
     },
     "metadata": {},
     "output_type": "display_data"
    },
    {
     "name": "stdout",
     "output_type": "stream",
     "text": [
      "0 val loss: 4.238115798216313e-05  yhat_tgt.sum: 117.21308135986328  y_tgt.sum: 59.48623853211009\n",
      "480 train loss: 7.39455281291157e-05  yhat_tgt.sum: 221.83145141601562  y_tgt.sum: 50.97509829619922\n"
     ]
    },
    {
     "data": {
      "application/vnd.jupyter.widget-view+json": {
       "model_id": "be1f9e7d3d5147ad9643865a59b0e5f3",
       "version_major": 2,
       "version_minor": 0
      },
      "text/plain": [
       "HBox(children=(FloatProgress(value=1.0, bar_style='info', description='Validating', layout=Layout(flex='2'), m…"
      ]
     },
     "metadata": {},
     "output_type": "display_data"
    },
    {
     "name": "stdout",
     "output_type": "stream",
     "text": [
      "0 val loss: 3.900398587575182e-05  yhat_tgt.sum: 115.58586883544922  y_tgt.sum: 55.49279161205767\n",
      "490 train loss: 6.731404573656619e-05  yhat_tgt.sum: 217.7392578125  y_tgt.sum: 48.71035386631716\n"
     ]
    },
    {
     "data": {
      "application/vnd.jupyter.widget-view+json": {
       "model_id": "4adc00eb9f4f41d392c5436309dbc820",
       "version_major": 2,
       "version_minor": 0
      },
      "text/plain": [
       "HBox(children=(FloatProgress(value=1.0, bar_style='info', description='Validating', layout=Layout(flex='2'), m…"
      ]
     },
     "metadata": {},
     "output_type": "display_data"
    },
    {
     "name": "stdout",
     "output_type": "stream",
     "text": [
      "0 val loss: 2.459658389852848e-05  yhat_tgt.sum: 113.39459228515625  y_tgt.sum: 51.8348623853211\n",
      "500 train loss: 9.130610851570964e-05  yhat_tgt.sum: 215.45510864257812  y_tgt.sum: 48.23197903014417\n"
     ]
    },
    {
     "data": {
      "application/vnd.jupyter.widget-view+json": {
       "model_id": "cf9712143d054f768f59084228d1b446",
       "version_major": 2,
       "version_minor": 0
      },
      "text/plain": [
       "HBox(children=(FloatProgress(value=1.0, bar_style='info', description='Validating', layout=Layout(flex='2'), m…"
      ]
     },
     "metadata": {},
     "output_type": "display_data"
    },
    {
     "name": "stdout",
     "output_type": "stream",
     "text": [
      "0 val loss: 2.2341730073094368e-05  yhat_tgt.sum: 111.73346710205078  y_tgt.sum: 47.92005242463958\n",
      "510 train loss: 6.008268246660009e-05  yhat_tgt.sum: 216.22808837890625  y_tgt.sum: 36.861074705111406\n"
     ]
    },
    {
     "data": {
      "application/vnd.jupyter.widget-view+json": {
       "model_id": "c4d2339f008f4f4fad07d199c8971786",
       "version_major": 2,
       "version_minor": 0
      },
      "text/plain": [
       "HBox(children=(FloatProgress(value=1.0, bar_style='info', description='Validating', layout=Layout(flex='2'), m…"
      ]
     },
     "metadata": {},
     "output_type": "display_data"
    },
    {
     "name": "stdout",
     "output_type": "stream",
     "text": [
      "0 val loss: 2.604643304948695e-05  yhat_tgt.sum: 109.80258178710938  y_tgt.sum: 53.018348623853214\n",
      "520 train loss: 5.75059384573251e-05  yhat_tgt.sum: 205.926025390625  y_tgt.sum: 42.906946264744434\n"
     ]
    },
    {
     "data": {
      "application/vnd.jupyter.widget-view+json": {
       "model_id": "de1d37e1dc4546a6bc96a769710b6068",
       "version_major": 2,
       "version_minor": 0
      },
      "text/plain": [
       "HBox(children=(FloatProgress(value=1.0, bar_style='info', description='Validating', layout=Layout(flex='2'), m…"
      ]
     },
     "metadata": {},
     "output_type": "display_data"
    },
    {
     "name": "stdout",
     "output_type": "stream",
     "text": [
      "0 val loss: 3.2987562008202076e-05  yhat_tgt.sum: 108.62513732910156  y_tgt.sum: 54.8086500655308\n",
      "530 train loss: 6.204485544003546e-05  yhat_tgt.sum: 211.57000732421875  y_tgt.sum: 39.093053735255566\n"
     ]
    },
    {
     "data": {
      "application/vnd.jupyter.widget-view+json": {
       "model_id": "9da02ab1201e4bf0ad3b1e2789683975",
       "version_major": 2,
       "version_minor": 0
      },
      "text/plain": [
       "HBox(children=(FloatProgress(value=1.0, bar_style='info', description='Validating', layout=Layout(flex='2'), m…"
      ]
     },
     "metadata": {},
     "output_type": "display_data"
    },
    {
     "name": "stdout",
     "output_type": "stream",
     "text": [
      "0 val loss: 2.155131005565636e-05  yhat_tgt.sum: 106.45449829101562  y_tgt.sum: 51.174311926605505\n",
      "540 train loss: 5.068423706688918e-05  yhat_tgt.sum: 205.07745361328125  y_tgt.sum: 37.96199213630406\n"
     ]
    },
    {
     "data": {
      "application/vnd.jupyter.widget-view+json": {
       "model_id": "295cf19a10dd4fd8828b98e1379c61b2",
       "version_major": 2,
       "version_minor": 0
      },
      "text/plain": [
       "HBox(children=(FloatProgress(value=1.0, bar_style='info', description='Validating', layout=Layout(flex='2'), m…"
      ]
     },
     "metadata": {},
     "output_type": "display_data"
    },
    {
     "name": "stdout",
     "output_type": "stream",
     "text": [
      "0 val loss: 2.0581168428179808e-05  yhat_tgt.sum: 104.96969604492188  y_tgt.sum: 47.914809960681524\n",
      "550 train loss: 4.894907397101633e-05  yhat_tgt.sum: 198.74807739257812  y_tgt.sum: 37.97640891218873\n"
     ]
    },
    {
     "data": {
      "application/vnd.jupyter.widget-view+json": {
       "model_id": "717e30831c6340b3849097a9c5a38579",
       "version_major": 2,
       "version_minor": 0
      },
      "text/plain": [
       "HBox(children=(FloatProgress(value=1.0, bar_style='info', description='Validating', layout=Layout(flex='2'), m…"
      ]
     },
     "metadata": {},
     "output_type": "display_data"
    },
    {
     "name": "stdout",
     "output_type": "stream",
     "text": [
      "0 val loss: 2.0282443074393086e-05  yhat_tgt.sum: 103.42233276367188  y_tgt.sum: 46.74311926605505\n",
      "560 train loss: 5.595581023953855e-05  yhat_tgt.sum: 197.92100524902344  y_tgt.sum: 36.80602883355177\n"
     ]
    },
    {
     "data": {
      "application/vnd.jupyter.widget-view+json": {
       "model_id": "9998663b09534e3da22d68f0ba59765d",
       "version_major": 2,
       "version_minor": 0
      },
      "text/plain": [
       "HBox(children=(FloatProgress(value=1.0, bar_style='info', description='Validating', layout=Layout(flex='2'), m…"
      ]
     },
     "metadata": {},
     "output_type": "display_data"
    },
    {
     "name": "stdout",
     "output_type": "stream",
     "text": [
      "0 val loss: 4.335512130637653e-05  yhat_tgt.sum: 101.94189453125  y_tgt.sum: 55.5124508519004\n",
      "570 train loss: 5.1466384320519865e-05  yhat_tgt.sum: 195.70657348632812  y_tgt.sum: 43.77719528178244\n"
     ]
    },
    {
     "data": {
      "application/vnd.jupyter.widget-view+json": {
       "model_id": "320b94dce0464b62bbd295a05fa19198",
       "version_major": 2,
       "version_minor": 0
      },
      "text/plain": [
       "HBox(children=(FloatProgress(value=1.0, bar_style='info', description='Validating', layout=Layout(flex='2'), m…"
      ]
     },
     "metadata": {},
     "output_type": "display_data"
    },
    {
     "name": "stdout",
     "output_type": "stream",
     "text": [
      "0 val loss: 2.2176653146743774e-05  yhat_tgt.sum: 100.49835205078125  y_tgt.sum: 48.66448230668414\n",
      "580 train loss: 4.3871412344742566e-05  yhat_tgt.sum: 190.73968505859375  y_tgt.sum: 45.87418086500655\n"
     ]
    },
    {
     "data": {
      "application/vnd.jupyter.widget-view+json": {
       "model_id": "36930aab0ca549c0801adb6c30fedfe7",
       "version_major": 2,
       "version_minor": 0
      },
      "text/plain": [
       "HBox(children=(FloatProgress(value=1.0, bar_style='info', description='Validating', layout=Layout(flex='2'), m…"
      ]
     },
     "metadata": {},
     "output_type": "display_data"
    },
    {
     "name": "stdout",
     "output_type": "stream",
     "text": [
      "0 val loss: 1.7603775631869212e-05  yhat_tgt.sum: 99.04144287109375  y_tgt.sum: 48.88859764089122\n",
      "590 train loss: 4.7449466364923865e-05  yhat_tgt.sum: 187.7623748779297  y_tgt.sum: 39.69462647444299\n"
     ]
    },
    {
     "data": {
      "application/vnd.jupyter.widget-view+json": {
       "model_id": "b70d8f1c87424675814171036a64b071",
       "version_major": 2,
       "version_minor": 0
      },
      "text/plain": [
       "HBox(children=(FloatProgress(value=1.0, bar_style='info', description='Validating', layout=Layout(flex='2'), m…"
      ]
     },
     "metadata": {},
     "output_type": "display_data"
    },
    {
     "name": "stdout",
     "output_type": "stream",
     "text": [
      "0 val loss: 2.240235153294634e-05  yhat_tgt.sum: 97.68538665771484  y_tgt.sum: 50.31847968545216\n",
      "600 train loss: 5.332756700227037e-05  yhat_tgt.sum: 186.45518493652344  y_tgt.sum: 42.937090432503275\n"
     ]
    },
    {
     "data": {
      "application/vnd.jupyter.widget-view+json": {
       "model_id": "3971663460fc4cab832c6b22fe7dfd6d",
       "version_major": 2,
       "version_minor": 0
      },
      "text/plain": [
       "HBox(children=(FloatProgress(value=1.0, bar_style='info', description='Validating', layout=Layout(flex='2'), m…"
      ]
     },
     "metadata": {},
     "output_type": "display_data"
    },
    {
     "name": "stdout",
     "output_type": "stream",
     "text": [
      "0 val loss: 3.296815702924505e-05  yhat_tgt.sum: 96.24080657958984  y_tgt.sum: 59.083879423328966\n",
      "610 train loss: 5.454504571389407e-05  yhat_tgt.sum: 189.0104522705078  y_tgt.sum: 32.833551769331585\n"
     ]
    },
    {
     "data": {
      "application/vnd.jupyter.widget-view+json": {
       "model_id": "6435526e9a2d4c15a574fba1496b1f4f",
       "version_major": 2,
       "version_minor": 0
      },
      "text/plain": [
       "HBox(children=(FloatProgress(value=1.0, bar_style='info', description='Validating', layout=Layout(flex='2'), m…"
      ]
     },
     "metadata": {},
     "output_type": "display_data"
    },
    {
     "name": "stdout",
     "output_type": "stream",
     "text": [
      "0 val loss: 2.0840236174990423e-05  yhat_tgt.sum: 94.74868774414062  y_tgt.sum: 47.43512450851901\n",
      "620 train loss: 4.2373372707515955e-05  yhat_tgt.sum: 184.39047241210938  y_tgt.sum: 40.085190039318476\n"
     ]
    },
    {
     "data": {
      "application/vnd.jupyter.widget-view+json": {
       "model_id": "e3126ff226a44bea87cf647bc4508f90",
       "version_major": 2,
       "version_minor": 0
      },
      "text/plain": [
       "HBox(children=(FloatProgress(value=1.0, bar_style='info', description='Validating', layout=Layout(flex='2'), m…"
      ]
     },
     "metadata": {},
     "output_type": "display_data"
    },
    {
     "name": "stdout",
     "output_type": "stream",
     "text": [
      "0 val loss: 5.2121704356977716e-05  yhat_tgt.sum: 93.74612426757812  y_tgt.sum: 61.1821756225426\n",
      "630 train loss: 0.0002848795847967267  yhat_tgt.sum: 181.2539825439453  y_tgt.sum: 54.50589777195282\n"
     ]
    },
    {
     "data": {
      "application/vnd.jupyter.widget-view+json": {
       "model_id": "28999088e31c4552bd76173cb1a1761b",
       "version_major": 2,
       "version_minor": 0
      },
      "text/plain": [
       "HBox(children=(FloatProgress(value=1.0, bar_style='info', description='Validating', layout=Layout(flex='2'), m…"
      ]
     },
     "metadata": {},
     "output_type": "display_data"
    },
    {
     "name": "stdout",
     "output_type": "stream",
     "text": [
      "0 val loss: 2.0576391762006097e-05  yhat_tgt.sum: 92.64632415771484  y_tgt.sum: 52.1559633027523\n",
      "640 train loss: 4.65754019387532e-05  yhat_tgt.sum: 181.87490844726562  y_tgt.sum: 26.64089121887287\n"
     ]
    },
    {
     "data": {
      "application/vnd.jupyter.widget-view+json": {
       "model_id": "89963aa0a7ca4c4b8f24520d70fcc076",
       "version_major": 2,
       "version_minor": 0
      },
      "text/plain": [
       "HBox(children=(FloatProgress(value=1.0, bar_style='info', description='Validating', layout=Layout(flex='2'), m…"
      ]
     },
     "metadata": {},
     "output_type": "display_data"
    },
    {
     "name": "stdout",
     "output_type": "stream",
     "text": [
      "0 val loss: 1.9144841644447297e-05  yhat_tgt.sum: 91.32467651367188  y_tgt.sum: 50.802096985583226\n",
      "650 train loss: 4.483534212340601e-05  yhat_tgt.sum: 177.20986938476562  y_tgt.sum: 46.03800786369594\n"
     ]
    },
    {
     "data": {
      "application/vnd.jupyter.widget-view+json": {
       "model_id": "c0b68791cb814b599249a351a59bceb2",
       "version_major": 2,
       "version_minor": 0
      },
      "text/plain": [
       "HBox(children=(FloatProgress(value=1.0, bar_style='info', description='Validating', layout=Layout(flex='2'), m…"
      ]
     },
     "metadata": {},
     "output_type": "display_data"
    },
    {
     "name": "stdout",
     "output_type": "stream",
     "text": [
      "0 val loss: 1.675240127951838e-05  yhat_tgt.sum: 90.1884765625  y_tgt.sum: 47.48230668414155\n",
      "660 train loss: 4.6675897465320304e-05  yhat_tgt.sum: 175.88888549804688  y_tgt.sum: 46.764089121887295\n"
     ]
    },
    {
     "data": {
      "application/vnd.jupyter.widget-view+json": {
       "model_id": "94f08efdd93d43fe8b27bb96dce9ac31",
       "version_major": 2,
       "version_minor": 0
      },
      "text/plain": [
       "HBox(children=(FloatProgress(value=1.0, bar_style='info', description='Validating', layout=Layout(flex='2'), m…"
      ]
     },
     "metadata": {},
     "output_type": "display_data"
    },
    {
     "name": "stdout",
     "output_type": "stream",
     "text": [
      "0 val loss: 3.314173227408901e-05  yhat_tgt.sum: 89.0616455078125  y_tgt.sum: 50.530799475753604\n",
      "670 train loss: 5.025296559324488e-05  yhat_tgt.sum: 168.62310791015625  y_tgt.sum: 50.81913499344692\n"
     ]
    },
    {
     "data": {
      "application/vnd.jupyter.widget-view+json": {
       "model_id": "8ed7a7b5dc374a3bb17e7b14bb59bb87",
       "version_major": 2,
       "version_minor": 0
      },
      "text/plain": [
       "HBox(children=(FloatProgress(value=1.0, bar_style='info', description='Validating', layout=Layout(flex='2'), m…"
      ]
     },
     "metadata": {},
     "output_type": "display_data"
    },
    {
     "name": "stdout",
     "output_type": "stream",
     "text": [
      "0 val loss: 2.0476325516938232e-05  yhat_tgt.sum: 87.96541595458984  y_tgt.sum: 51.684141546526874\n",
      "680 train loss: 3.811152055277489e-05  yhat_tgt.sum: 171.25930786132812  y_tgt.sum: 44.86500655307995\n"
     ]
    },
    {
     "data": {
      "application/vnd.jupyter.widget-view+json": {
       "model_id": "96f3d94b37684703ae329586d3291394",
       "version_major": 2,
       "version_minor": 0
      },
      "text/plain": [
       "HBox(children=(FloatProgress(value=1.0, bar_style='info', description='Validating', layout=Layout(flex='2'), m…"
      ]
     },
     "metadata": {},
     "output_type": "display_data"
    },
    {
     "name": "stdout",
     "output_type": "stream",
     "text": [
      "0 val loss: 1.7227697753696702e-05  yhat_tgt.sum: 86.82949829101562  y_tgt.sum: 46.60419397116645\n",
      "690 train loss: 4.417479794938117e-05  yhat_tgt.sum: 170.33761596679688  y_tgt.sum: 36.20707732634338\n"
     ]
    },
    {
     "data": {
      "application/vnd.jupyter.widget-view+json": {
       "model_id": "4172e84f489b4dcf8168f904093bc7db",
       "version_major": 2,
       "version_minor": 0
      },
      "text/plain": [
       "HBox(children=(FloatProgress(value=1.0, bar_style='info', description='Validating', layout=Layout(flex='2'), m…"
      ]
     },
     "metadata": {},
     "output_type": "display_data"
    },
    {
     "name": "stdout",
     "output_type": "stream",
     "text": [
      "0 val loss: 2.077172939607408e-05  yhat_tgt.sum: 85.83027648925781  y_tgt.sum: 51.60419397116645\n",
      "700 train loss: 3.740070678759366e-05  yhat_tgt.sum: 168.75424194335938  y_tgt.sum: 24.79030144167759\n"
     ]
    },
    {
     "data": {
      "application/vnd.jupyter.widget-view+json": {
       "model_id": "12ddd94257cb4b9f97512f922d2cc2a9",
       "version_major": 2,
       "version_minor": 0
      },
      "text/plain": [
       "HBox(children=(FloatProgress(value=1.0, bar_style='info', description='Validating', layout=Layout(flex='2'), m…"
      ]
     },
     "metadata": {},
     "output_type": "display_data"
    },
    {
     "name": "stdout",
     "output_type": "stream",
     "text": [
      "0 val loss: 1.5477136912522838e-05  yhat_tgt.sum: 84.57182312011719  y_tgt.sum: 43.10091743119266\n",
      "710 train loss: 3.5923352697864175e-05  yhat_tgt.sum: 165.60964965820312  y_tgt.sum: 37.5124508519004\n"
     ]
    },
    {
     "data": {
      "application/vnd.jupyter.widget-view+json": {
       "model_id": "de2defd41d974fdaa16205377e1a5e99",
       "version_major": 2,
       "version_minor": 0
      },
      "text/plain": [
       "HBox(children=(FloatProgress(value=1.0, bar_style='info', description='Validating', layout=Layout(flex='2'), m…"
      ]
     },
     "metadata": {},
     "output_type": "display_data"
    },
    {
     "name": "stdout",
     "output_type": "stream",
     "text": [
      "0 val loss: 2.2427337171393447e-05  yhat_tgt.sum: 83.71330261230469  y_tgt.sum: 50.06815203145479\n",
      "720 train loss: 3.334970824653283e-05  yhat_tgt.sum: 162.4247283935547  y_tgt.sum: 44.33158584534732\n"
     ]
    },
    {
     "data": {
      "application/vnd.jupyter.widget-view+json": {
       "model_id": "cd1000c022d349d6a8a5ed3f703ebeb8",
       "version_major": 2,
       "version_minor": 0
      },
      "text/plain": [
       "HBox(children=(FloatProgress(value=1.0, bar_style='info', description='Validating', layout=Layout(flex='2'), m…"
      ]
     },
     "metadata": {},
     "output_type": "display_data"
    },
    {
     "name": "stdout",
     "output_type": "stream",
     "text": [
      "0 val loss: 2.0596686226781458e-05  yhat_tgt.sum: 82.74102783203125  y_tgt.sum: 49.53735255570118\n",
      "730 train loss: 4.953921597916633e-05  yhat_tgt.sum: 164.22210693359375  y_tgt.sum: 37.39187418086501\n"
     ]
    },
    {
     "data": {
      "application/vnd.jupyter.widget-view+json": {
       "model_id": "ba8fed1a9a2e47f598c6dccfaa2ecd0d",
       "version_major": 2,
       "version_minor": 0
      },
      "text/plain": [
       "HBox(children=(FloatProgress(value=1.0, bar_style='info', description='Validating', layout=Layout(flex='2'), m…"
      ]
     },
     "metadata": {},
     "output_type": "display_data"
    },
    {
     "name": "stdout",
     "output_type": "stream",
     "text": [
      "0 val loss: 1.685861025180202e-05  yhat_tgt.sum: 81.78392028808594  y_tgt.sum: 47.40498034076016\n",
      "740 train loss: 3.150453994749114e-05  yhat_tgt.sum: 161.30880737304688  y_tgt.sum: 41.43119266055046\n"
     ]
    },
    {
     "data": {
      "application/vnd.jupyter.widget-view+json": {
       "model_id": "5f5942ae62d24112b4cb48313684054b",
       "version_major": 2,
       "version_minor": 0
      },
      "text/plain": [
       "HBox(children=(FloatProgress(value=1.0, bar_style='info', description='Validating', layout=Layout(flex='2'), m…"
      ]
     },
     "metadata": {},
     "output_type": "display_data"
    },
    {
     "name": "stdout",
     "output_type": "stream",
     "text": [
      "0 val loss: 2.3857328415033408e-05  yhat_tgt.sum: 80.966064453125  y_tgt.sum: 53.00655307994758\n",
      "750 train loss: 4.497449845075607e-05  yhat_tgt.sum: 159.29318237304688  y_tgt.sum: 44.05897771952818\n"
     ]
    },
    {
     "data": {
      "application/vnd.jupyter.widget-view+json": {
       "model_id": "598b3abc6cdf4980b470499e89e5fa67",
       "version_major": 2,
       "version_minor": 0
      },
      "text/plain": [
       "HBox(children=(FloatProgress(value=1.0, bar_style='info', description='Validating', layout=Layout(flex='2'), m…"
      ]
     },
     "metadata": {},
     "output_type": "display_data"
    },
    {
     "name": "stdout",
     "output_type": "stream",
     "text": [
      "0 val loss: 2.7303256501909345e-05  yhat_tgt.sum: 79.95790100097656  y_tgt.sum: 52.16120576671035\n",
      "760 train loss: 3.8343958294717595e-05  yhat_tgt.sum: 160.82174682617188  y_tgt.sum: 33.964613368283096\n"
     ]
    },
    {
     "data": {
      "application/vnd.jupyter.widget-view+json": {
       "model_id": "fb46c22f355c4681ab87806e27d77c1a",
       "version_major": 2,
       "version_minor": 0
      },
      "text/plain": [
       "HBox(children=(FloatProgress(value=1.0, bar_style='info', description='Validating', layout=Layout(flex='2'), m…"
      ]
     },
     "metadata": {},
     "output_type": "display_data"
    },
    {
     "name": "stdout",
     "output_type": "stream",
     "text": [
      "0 val loss: 2.454227978887502e-05  yhat_tgt.sum: 79.07150268554688  y_tgt.sum: 56.26867627785059\n",
      "770 train loss: 3.63552535418421e-05  yhat_tgt.sum: 154.77377319335938  y_tgt.sum: 36.18348623853211\n"
     ]
    },
    {
     "data": {
      "application/vnd.jupyter.widget-view+json": {
       "model_id": "6563fa75f9d24361aa01ed21067970fd",
       "version_major": 2,
       "version_minor": 0
      },
      "text/plain": [
       "HBox(children=(FloatProgress(value=1.0, bar_style='info', description='Validating', layout=Layout(flex='2'), m…"
      ]
     },
     "metadata": {},
     "output_type": "display_data"
    },
    {
     "name": "stdout",
     "output_type": "stream",
     "text": [
      "0 val loss: 1.8387554518994875e-05  yhat_tgt.sum: 78.29164123535156  y_tgt.sum: 48.85058977719529\n",
      "780 train loss: 4.604614514391869e-05  yhat_tgt.sum: 156.30926513671875  y_tgt.sum: 40.21625163826999\n"
     ]
    },
    {
     "data": {
      "application/vnd.jupyter.widget-view+json": {
       "model_id": "f7cd6ae650db4aa2818bb4e9c4a7144f",
       "version_major": 2,
       "version_minor": 0
      },
      "text/plain": [
       "HBox(children=(FloatProgress(value=1.0, bar_style='info', description='Validating', layout=Layout(flex='2'), m…"
      ]
     },
     "metadata": {},
     "output_type": "display_data"
    },
    {
     "name": "stdout",
     "output_type": "stream",
     "text": [
      "0 val loss: 2.1076126358821057e-05  yhat_tgt.sum: 77.47715759277344  y_tgt.sum: 49.34076015727392\n",
      "790 train loss: 3.489839946269058e-05  yhat_tgt.sum: 152.29505920410156  y_tgt.sum: 41.900393184796854\n"
     ]
    },
    {
     "data": {
      "application/vnd.jupyter.widget-view+json": {
       "model_id": "cd771468bbd24327b5fe3ca717246dc6",
       "version_major": 2,
       "version_minor": 0
      },
      "text/plain": [
       "HBox(children=(FloatProgress(value=1.0, bar_style='info', description='Validating', layout=Layout(flex='2'), m…"
      ]
     },
     "metadata": {},
     "output_type": "display_data"
    },
    {
     "name": "stdout",
     "output_type": "stream",
     "text": [
      "0 val loss: 3.834388917312026e-05  yhat_tgt.sum: 76.50254821777344  y_tgt.sum: 55.1048492791612\n",
      "800 train loss: 3.929856757167727e-05  yhat_tgt.sum: 152.49176025390625  y_tgt.sum: 40.93315858453474\n"
     ]
    },
    {
     "data": {
      "application/vnd.jupyter.widget-view+json": {
       "model_id": "ed3679d2eaef4e89b97d93f2479545dc",
       "version_major": 2,
       "version_minor": 0
      },
      "text/plain": [
       "HBox(children=(FloatProgress(value=1.0, bar_style='info', description='Validating', layout=Layout(flex='2'), m…"
      ]
     },
     "metadata": {},
     "output_type": "display_data"
    },
    {
     "name": "stdout",
     "output_type": "stream",
     "text": [
      "0 val loss: 2.3485961719416082e-05  yhat_tgt.sum: 75.65193176269531  y_tgt.sum: 51.669724770642205\n",
      "810 train loss: 6.894148100400344e-05  yhat_tgt.sum: 153.02633666992188  y_tgt.sum: 51.77588466579292\n"
     ]
    },
    {
     "data": {
      "application/vnd.jupyter.widget-view+json": {
       "model_id": "09427c6f58a94482bded88db9bd7b604",
       "version_major": 2,
       "version_minor": 0
      },
      "text/plain": [
       "HBox(children=(FloatProgress(value=1.0, bar_style='info', description='Validating', layout=Layout(flex='2'), m…"
      ]
     },
     "metadata": {},
     "output_type": "display_data"
    },
    {
     "name": "stdout",
     "output_type": "stream",
     "text": [
      "0 val loss: 2.0325389414210804e-05  yhat_tgt.sum: 75.0226058959961  y_tgt.sum: 47.96985583224116\n",
      "820 train loss: 3.831741923931986e-05  yhat_tgt.sum: 150.4251708984375  y_tgt.sum: 37.71690694626474\n"
     ]
    },
    {
     "data": {
      "application/vnd.jupyter.widget-view+json": {
       "model_id": "15f17580b15b4d1881cf54bd0ba17cc3",
       "version_major": 2,
       "version_minor": 0
      },
      "text/plain": [
       "HBox(children=(FloatProgress(value=1.0, bar_style='info', description='Validating', layout=Layout(flex='2'), m…"
      ]
     },
     "metadata": {},
     "output_type": "display_data"
    },
    {
     "name": "stdout",
     "output_type": "stream",
     "text": [
      "0 val loss: 2.2230657123145647e-05  yhat_tgt.sum: 74.09312438964844  y_tgt.sum: 50.492791612057665\n",
      "830 train loss: 6.409371417248622e-05  yhat_tgt.sum: 149.58004760742188  y_tgt.sum: 43.48099606815204\n"
     ]
    },
    {
     "data": {
      "application/vnd.jupyter.widget-view+json": {
       "model_id": "d55d4ad457ec4b128ec7dfe426aad8a1",
       "version_major": 2,
       "version_minor": 0
      },
      "text/plain": [
       "HBox(children=(FloatProgress(value=1.0, bar_style='info', description='Validating', layout=Layout(flex='2'), m…"
      ]
     },
     "metadata": {},
     "output_type": "display_data"
    },
    {
     "name": "stdout",
     "output_type": "stream",
     "text": [
      "0 val loss: 2.8770265998900868e-05  yhat_tgt.sum: 73.71035766601562  y_tgt.sum: 54.76015727391874\n",
      "840 train loss: 4.9984366341959685e-05  yhat_tgt.sum: 144.88011169433594  y_tgt.sum: 48.010484927916124\n"
     ]
    },
    {
     "data": {
      "application/vnd.jupyter.widget-view+json": {
       "model_id": "f55c86f252f74f1081f97fff27fe11cc",
       "version_major": 2,
       "version_minor": 0
      },
      "text/plain": [
       "HBox(children=(FloatProgress(value=1.0, bar_style='info', description='Validating', layout=Layout(flex='2'), m…"
      ]
     },
     "metadata": {},
     "output_type": "display_data"
    },
    {
     "name": "stdout",
     "output_type": "stream",
     "text": [
      "0 val loss: 1.4934403225197457e-05  yhat_tgt.sum: 72.7723388671875  y_tgt.sum: 43.82961992136305\n",
      "850 train loss: 3.4816304832929745e-05  yhat_tgt.sum: 144.34840393066406  y_tgt.sum: 43.85452162516383\n"
     ]
    },
    {
     "data": {
      "application/vnd.jupyter.widget-view+json": {
       "model_id": "7fefaed9659545f0966b1520eea980c4",
       "version_major": 2,
       "version_minor": 0
      },
      "text/plain": [
       "HBox(children=(FloatProgress(value=1.0, bar_style='info', description='Validating', layout=Layout(flex='2'), m…"
      ]
     },
     "metadata": {},
     "output_type": "display_data"
    },
    {
     "name": "stdout",
     "output_type": "stream",
     "text": [
      "0 val loss: 1.889539089461323e-05  yhat_tgt.sum: 72.06828308105469  y_tgt.sum: 48.17169069462648\n",
      "860 train loss: 8.866718417266384e-05  yhat_tgt.sum: 142.96807861328125  y_tgt.sum: 48.44298820445609\n"
     ]
    },
    {
     "data": {
      "application/vnd.jupyter.widget-view+json": {
       "model_id": "991a7f8065de430cad00dac8d2d8b86d",
       "version_major": 2,
       "version_minor": 0
      },
      "text/plain": [
       "HBox(children=(FloatProgress(value=1.0, bar_style='info', description='Validating', layout=Layout(flex='2'), m…"
      ]
     },
     "metadata": {},
     "output_type": "display_data"
    },
    {
     "name": "stdout",
     "output_type": "stream",
     "text": [
      "0 val loss: 2.294623845955357e-05  yhat_tgt.sum: 71.54640197753906  y_tgt.sum: 53.398427260812575\n",
      "870 train loss: 6.345305155264214e-05  yhat_tgt.sum: 141.1991729736328  y_tgt.sum: 41.200524246395815\n"
     ]
    },
    {
     "data": {
      "application/vnd.jupyter.widget-view+json": {
       "model_id": "c7079f400f0040da986e5806f105e3ff",
       "version_major": 2,
       "version_minor": 0
      },
      "text/plain": [
       "HBox(children=(FloatProgress(value=1.0, bar_style='info', description='Validating', layout=Layout(flex='2'), m…"
      ]
     },
     "metadata": {},
     "output_type": "display_data"
    },
    {
     "name": "stdout",
     "output_type": "stream",
     "text": [
      "0 val loss: 1.652186801948119e-05  yhat_tgt.sum: 70.59183502197266  y_tgt.sum: 46.54128440366972\n",
      "880 train loss: 2.8057183953933418e-05  yhat_tgt.sum: 139.22860717773438  y_tgt.sum: 40.14547837483617\n"
     ]
    },
    {
     "data": {
      "application/vnd.jupyter.widget-view+json": {
       "model_id": "faa121e69aab43a7975b32ae93d55d46",
       "version_major": 2,
       "version_minor": 0
      },
      "text/plain": [
       "HBox(children=(FloatProgress(value=1.0, bar_style='info', description='Validating', layout=Layout(flex='2'), m…"
      ]
     },
     "metadata": {},
     "output_type": "display_data"
    },
    {
     "name": "stdout",
     "output_type": "stream",
     "text": [
      "0 val loss: 1.8450089555699378e-05  yhat_tgt.sum: 69.9764404296875  y_tgt.sum: 52.736566186107474\n",
      "890 train loss: 3.8563252019230276e-05  yhat_tgt.sum: 140.73153686523438  y_tgt.sum: 44.522935779816514\n"
     ]
    },
    {
     "data": {
      "application/vnd.jupyter.widget-view+json": {
       "model_id": "0d72679df1b24bf9bb9d5ab58bf9a2fb",
       "version_major": 2,
       "version_minor": 0
      },
      "text/plain": [
       "HBox(children=(FloatProgress(value=1.0, bar_style='info', description='Validating', layout=Layout(flex='2'), m…"
      ]
     },
     "metadata": {},
     "output_type": "display_data"
    },
    {
     "name": "stdout",
     "output_type": "stream",
     "text": [
      "0 val loss: 3.8392619899241254e-05  yhat_tgt.sum: 69.34402465820312  y_tgt.sum: 60.27391874180866\n",
      "900 train loss: 4.0234921470982954e-05  yhat_tgt.sum: 140.70631408691406  y_tgt.sum: 42.201834862385326\n"
     ]
    },
    {
     "data": {
      "application/vnd.jupyter.widget-view+json": {
       "model_id": "0269917131484d0c80d694c9c1520568",
       "version_major": 2,
       "version_minor": 0
      },
      "text/plain": [
       "HBox(children=(FloatProgress(value=1.0, bar_style='info', description='Validating', layout=Layout(flex='2'), m…"
      ]
     },
     "metadata": {},
     "output_type": "display_data"
    },
    {
     "name": "stdout",
     "output_type": "stream",
     "text": [
      "0 val loss: 2.617808240756858e-05  yhat_tgt.sum: 68.72356414794922  y_tgt.sum: 54.790301441677585\n",
      "910 train loss: 4.5445962314261124e-05  yhat_tgt.sum: 137.76095581054688  y_tgt.sum: 44.38401048492791\n"
     ]
    },
    {
     "data": {
      "application/vnd.jupyter.widget-view+json": {
       "model_id": "bc7128f0ad9f4833bdd1f4ce2610b460",
       "version_major": 2,
       "version_minor": 0
      },
      "text/plain": [
       "HBox(children=(FloatProgress(value=1.0, bar_style='info', description='Validating', layout=Layout(flex='2'), m…"
      ]
     },
     "metadata": {},
     "output_type": "display_data"
    },
    {
     "name": "stdout",
     "output_type": "stream",
     "text": [
      "0 val loss: 1.4482372534985188e-05  yhat_tgt.sum: 68.0915298461914  y_tgt.sum: 45.68152031454784\n",
      "920 train loss: 3.205543180229142e-05  yhat_tgt.sum: 134.80799865722656  y_tgt.sum: 44.19397116644823\n"
     ]
    },
    {
     "data": {
      "application/vnd.jupyter.widget-view+json": {
       "model_id": "2701a027b0074750b26a472aa3bf149f",
       "version_major": 2,
       "version_minor": 0
      },
      "text/plain": [
       "HBox(children=(FloatProgress(value=1.0, bar_style='info', description='Validating', layout=Layout(flex='2'), m…"
      ]
     },
     "metadata": {},
     "output_type": "display_data"
    },
    {
     "name": "stdout",
     "output_type": "stream",
     "text": [
      "0 val loss: 1.6841293472680263e-05  yhat_tgt.sum: 67.57293701171875  y_tgt.sum: 47.226736566186105\n",
      "930 train loss: 2.7410133043304086e-05  yhat_tgt.sum: 136.4923858642578  y_tgt.sum: 34.086500655308\n"
     ]
    },
    {
     "data": {
      "application/vnd.jupyter.widget-view+json": {
       "model_id": "c35e55fbfd734d2495f1ec23cdcd0c20",
       "version_major": 2,
       "version_minor": 0
      },
      "text/plain": [
       "HBox(children=(FloatProgress(value=1.0, bar_style='info', description='Validating', layout=Layout(flex='2'), m…"
      ]
     },
     "metadata": {},
     "output_type": "display_data"
    },
    {
     "name": "stdout",
     "output_type": "stream",
     "text": [
      "0 val loss: 2.536163265176583e-05  yhat_tgt.sum: 66.94575500488281  y_tgt.sum: 49.05897771952817\n",
      "940 train loss: 3.07851041725371e-05  yhat_tgt.sum: 135.0506591796875  y_tgt.sum: 34.1480996068152\n"
     ]
    },
    {
     "data": {
      "application/vnd.jupyter.widget-view+json": {
       "model_id": "ebf01dfb34f94177a657c687b94bb9c2",
       "version_major": 2,
       "version_minor": 0
      },
      "text/plain": [
       "HBox(children=(FloatProgress(value=1.0, bar_style='info', description='Validating', layout=Layout(flex='2'), m…"
      ]
     },
     "metadata": {},
     "output_type": "display_data"
    },
    {
     "name": "stdout",
     "output_type": "stream",
     "text": [
      "0 val loss: 1.3297430996317416e-05  yhat_tgt.sum: 66.3302230834961  y_tgt.sum: 46.425950196592396\n",
      "950 train loss: 3.179508348694071e-05  yhat_tgt.sum: 134.33383178710938  y_tgt.sum: 26.25032765399738\n"
     ]
    },
    {
     "data": {
      "application/vnd.jupyter.widget-view+json": {
       "model_id": "faa7383ce5964c7f84173b93c9949ef4",
       "version_major": 2,
       "version_minor": 0
      },
      "text/plain": [
       "HBox(children=(FloatProgress(value=1.0, bar_style='info', description='Validating', layout=Layout(flex='2'), m…"
      ]
     },
     "metadata": {},
     "output_type": "display_data"
    },
    {
     "name": "stdout",
     "output_type": "stream",
     "text": [
      "0 val loss: 2.0358513211249374e-05  yhat_tgt.sum: 65.65247344970703  y_tgt.sum: 50.74049803407601\n",
      "960 train loss: 4.2918738472508267e-05  yhat_tgt.sum: 129.80630493164062  y_tgt.sum: 46.35386631716907\n"
     ]
    },
    {
     "data": {
      "application/vnd.jupyter.widget-view+json": {
       "model_id": "c355ac4032cd4ee79ef2ba28617dc73a",
       "version_major": 2,
       "version_minor": 0
      },
      "text/plain": [
       "HBox(children=(FloatProgress(value=1.0, bar_style='info', description='Validating', layout=Layout(flex='2'), m…"
      ]
     },
     "metadata": {},
     "output_type": "display_data"
    },
    {
     "name": "stdout",
     "output_type": "stream",
     "text": [
      "0 val loss: 2.311350363015663e-05  yhat_tgt.sum: 65.00611877441406  y_tgt.sum: 48.9908256880734\n",
      "970 train loss: 2.197233698097989e-05  yhat_tgt.sum: 131.1497802734375  y_tgt.sum: 38.29882044560944\n"
     ]
    },
    {
     "data": {
      "application/vnd.jupyter.widget-view+json": {
       "model_id": "72b34fd3f29f4a2387af4dded4db09e0",
       "version_major": 2,
       "version_minor": 0
      },
      "text/plain": [
       "HBox(children=(FloatProgress(value=1.0, bar_style='info', description='Validating', layout=Layout(flex='2'), m…"
      ]
     },
     "metadata": {},
     "output_type": "display_data"
    },
    {
     "name": "stdout",
     "output_type": "stream",
     "text": [
      "0 val loss: 2.082657374558039e-05  yhat_tgt.sum: 64.53856658935547  y_tgt.sum: 45.67234600262123\n",
      "980 train loss: 4.675026502809487e-05  yhat_tgt.sum: 130.25010681152344  y_tgt.sum: 42.319790301441685\n"
     ]
    },
    {
     "data": {
      "application/vnd.jupyter.widget-view+json": {
       "model_id": "b87ac7d4201844e99c02d6c83c9a75b4",
       "version_major": 2,
       "version_minor": 0
      },
      "text/plain": [
       "HBox(children=(FloatProgress(value=1.0, bar_style='info', description='Validating', layout=Layout(flex='2'), m…"
      ]
     },
     "metadata": {},
     "output_type": "display_data"
    },
    {
     "name": "stdout",
     "output_type": "stream",
     "text": [
      "0 val loss: 1.9482895368128084e-05  yhat_tgt.sum: 63.925331115722656  y_tgt.sum: 50.314547837483616\n",
      "990 train loss: 2.414302434772253e-05  yhat_tgt.sum: 127.22187042236328  y_tgt.sum: 46.73525557011796\n"
     ]
    },
    {
     "data": {
      "application/vnd.jupyter.widget-view+json": {
       "model_id": "c25d1e3bea5d4c7b8118e8fa0c3c1579",
       "version_major": 2,
       "version_minor": 0
      },
      "text/plain": [
       "HBox(children=(FloatProgress(value=1.0, bar_style='info', description='Validating', layout=Layout(flex='2'), m…"
      ]
     },
     "metadata": {},
     "output_type": "display_data"
    },
    {
     "name": "stdout",
     "output_type": "stream",
     "text": [
      "0 val loss: 2.012586446653586e-05  yhat_tgt.sum: 63.46833419799805  y_tgt.sum: 50.5478374836173\n",
      "1000 train loss: 2.664427665877156e-05  yhat_tgt.sum: 128.73876953125  y_tgt.sum: 36.50589777195282\n"
     ]
    },
    {
     "data": {
      "application/vnd.jupyter.widget-view+json": {
       "model_id": "b4401a3fa6e84309a941a1ad67c1a5b6",
       "version_major": 2,
       "version_minor": 0
      },
      "text/plain": [
       "HBox(children=(FloatProgress(value=1.0, bar_style='info', description='Validating', layout=Layout(flex='2'), m…"
      ]
     },
     "metadata": {},
     "output_type": "display_data"
    },
    {
     "name": "stdout",
     "output_type": "stream",
     "text": [
      "0 val loss: 9.698520443635061e-06  yhat_tgt.sum: 62.75187683105469  y_tgt.sum: 41.929226736566186\n",
      "1010 train loss: 3.3259097108384594e-05  yhat_tgt.sum: 125.44065856933594  y_tgt.sum: 46.899082568807344\n"
     ]
    },
    {
     "data": {
      "application/vnd.jupyter.widget-view+json": {
       "model_id": "f971d45343a84dd991001139521e1b26",
       "version_major": 2,
       "version_minor": 0
      },
      "text/plain": [
       "HBox(children=(FloatProgress(value=1.0, bar_style='info', description='Validating', layout=Layout(flex='2'), m…"
      ]
     },
     "metadata": {},
     "output_type": "display_data"
    },
    {
     "name": "stdout",
     "output_type": "stream",
     "text": [
      "0 val loss: 1.6348732970072888e-05  yhat_tgt.sum: 62.12420654296875  y_tgt.sum: 47.93315858453473\n",
      "1020 train loss: 2.8261132683837786e-05  yhat_tgt.sum: 126.14376831054688  y_tgt.sum: 43.28964613368283\n"
     ]
    },
    {
     "data": {
      "application/vnd.jupyter.widget-view+json": {
       "model_id": "06c2bc60832941549e74fddf172ab520",
       "version_major": 2,
       "version_minor": 0
      },
      "text/plain": [
       "HBox(children=(FloatProgress(value=1.0, bar_style='info', description='Validating', layout=Layout(flex='2'), m…"
      ]
     },
     "metadata": {},
     "output_type": "display_data"
    },
    {
     "name": "stdout",
     "output_type": "stream",
     "text": [
      "0 val loss: 2.7493846573634073e-05  yhat_tgt.sum: 61.81189727783203  y_tgt.sum: 53.33158584534731\n",
      "1030 train loss: 3.563424979802221e-05  yhat_tgt.sum: 125.10594177246094  y_tgt.sum: 44.94888597640892\n"
     ]
    },
    {
     "data": {
      "application/vnd.jupyter.widget-view+json": {
       "model_id": "b434529a7f934b50acd7a6c18c33e7c0",
       "version_major": 2,
       "version_minor": 0
      },
      "text/plain": [
       "HBox(children=(FloatProgress(value=1.0, bar_style='info', description='Validating', layout=Layout(flex='2'), m…"
      ]
     },
     "metadata": {},
     "output_type": "display_data"
    },
    {
     "name": "stdout",
     "output_type": "stream",
     "text": [
      "0 val loss: 1.5152023479458876e-05  yhat_tgt.sum: 61.225215911865234  y_tgt.sum: 50.95019659239843\n",
      "1040 train loss: 4.047342372359708e-05  yhat_tgt.sum: 123.67290496826172  y_tgt.sum: 49.94626474442988\n"
     ]
    },
    {
     "data": {
      "application/vnd.jupyter.widget-view+json": {
       "model_id": "5706083a110e4b65b1e5b0f46f7c8c54",
       "version_major": 2,
       "version_minor": 0
      },
      "text/plain": [
       "HBox(children=(FloatProgress(value=1.0, bar_style='info', description='Validating', layout=Layout(flex='2'), m…"
      ]
     },
     "metadata": {},
     "output_type": "display_data"
    },
    {
     "name": "stdout",
     "output_type": "stream",
     "text": [
      "0 val loss: 2.1082898456370458e-05  yhat_tgt.sum: 60.780860900878906  y_tgt.sum: 53.54652686762779\n",
      "1050 train loss: 2.783872332656756e-05  yhat_tgt.sum: 121.98873901367188  y_tgt.sum: 39.22804718217562\n"
     ]
    },
    {
     "data": {
      "application/vnd.jupyter.widget-view+json": {
       "model_id": "969d85df6d9d4912ad13cf3b4a8bdf02",
       "version_major": 2,
       "version_minor": 0
      },
      "text/plain": [
       "HBox(children=(FloatProgress(value=1.0, bar_style='info', description='Validating', layout=Layout(flex='2'), m…"
      ]
     },
     "metadata": {},
     "output_type": "display_data"
    },
    {
     "name": "stdout",
     "output_type": "stream",
     "text": [
      "0 val loss: 2.842823050741572e-05  yhat_tgt.sum: 60.35253143310547  y_tgt.sum: 54.23984272608126\n",
      "1060 train loss: 6.074683187762275e-05  yhat_tgt.sum: 121.84790802001953  y_tgt.sum: 53.567496723460025\n"
     ]
    },
    {
     "data": {
      "application/vnd.jupyter.widget-view+json": {
       "model_id": "ec2845cc2e464c928d87aaca60c8553c",
       "version_major": 2,
       "version_minor": 0
      },
      "text/plain": [
       "HBox(children=(FloatProgress(value=1.0, bar_style='info', description='Validating', layout=Layout(flex='2'), m…"
      ]
     },
     "metadata": {},
     "output_type": "display_data"
    },
    {
     "name": "stdout",
     "output_type": "stream",
     "text": [
      "0 val loss: 2.5342291337437928e-05  yhat_tgt.sum: 59.881256103515625  y_tgt.sum: 53.17562254259502\n",
      "1070 train loss: 3.3309170248685405e-05  yhat_tgt.sum: 122.5614242553711  y_tgt.sum: 39.328964613368285\n"
     ]
    },
    {
     "data": {
      "application/vnd.jupyter.widget-view+json": {
       "model_id": "6e88759e99ca413fad2656d18146b7d7",
       "version_major": 2,
       "version_minor": 0
      },
      "text/plain": [
       "HBox(children=(FloatProgress(value=1.0, bar_style='info', description='Validating', layout=Layout(flex='2'), m…"
      ]
     },
     "metadata": {},
     "output_type": "display_data"
    },
    {
     "name": "stdout",
     "output_type": "stream",
     "text": [
      "0 val loss: 1.585102654644288e-05  yhat_tgt.sum: 59.404449462890625  y_tgt.sum: 49.685452162516384\n",
      "1080 train loss: 2.5560368158039637e-05  yhat_tgt.sum: 119.46522521972656  y_tgt.sum: 44.031454783748366\n"
     ]
    },
    {
     "data": {
      "application/vnd.jupyter.widget-view+json": {
       "model_id": "17e2c601dfcb4288850ecc7d34533e70",
       "version_major": 2,
       "version_minor": 0
      },
      "text/plain": [
       "HBox(children=(FloatProgress(value=1.0, bar_style='info', description='Validating', layout=Layout(flex='2'), m…"
      ]
     },
     "metadata": {},
     "output_type": "display_data"
    },
    {
     "name": "stdout",
     "output_type": "stream",
     "text": [
      "0 val loss: 2.1647087123710662e-05  yhat_tgt.sum: 58.96063232421875  y_tgt.sum: 49.646133682830936\n",
      "1090 train loss: 2.3542808776255697e-05  yhat_tgt.sum: 118.47673034667969  y_tgt.sum: 42.25688073394495\n"
     ]
    },
    {
     "data": {
      "application/vnd.jupyter.widget-view+json": {
       "model_id": "106bc8cbfb864668a43a891e78b18680",
       "version_major": 2,
       "version_minor": 0
      },
      "text/plain": [
       "HBox(children=(FloatProgress(value=1.0, bar_style='info', description='Validating', layout=Layout(flex='2'), m…"
      ]
     },
     "metadata": {},
     "output_type": "display_data"
    },
    {
     "name": "stdout",
     "output_type": "stream",
     "text": [
      "0 val loss: 2.3833355953684077e-05  yhat_tgt.sum: 58.519203186035156  y_tgt.sum: 50.63826998689384\n",
      "1100 train loss: 4.476725007407367e-05  yhat_tgt.sum: 117.92916870117188  y_tgt.sum: 45.23591087811271\n"
     ]
    },
    {
     "data": {
      "application/vnd.jupyter.widget-view+json": {
       "model_id": "0b302b8e76fc45579b90378af9a84201",
       "version_major": 2,
       "version_minor": 0
      },
      "text/plain": [
       "HBox(children=(FloatProgress(value=1.0, bar_style='info', description='Validating', layout=Layout(flex='2'), m…"
      ]
     },
     "metadata": {},
     "output_type": "display_data"
    },
    {
     "name": "stdout",
     "output_type": "stream",
     "text": [
      "0 val loss: 2.0075254724361002e-05  yhat_tgt.sum: 58.077476501464844  y_tgt.sum: 51.57667103538663\n",
      "1110 train loss: 2.2451453332905658e-05  yhat_tgt.sum: 118.18838500976562  y_tgt.sum: 25.327653997378768\n"
     ]
    },
    {
     "data": {
      "application/vnd.jupyter.widget-view+json": {
       "model_id": "2b38bd31ddee422897eb21c57ec195de",
       "version_major": 2,
       "version_minor": 0
      },
      "text/plain": [
       "HBox(children=(FloatProgress(value=1.0, bar_style='info', description='Validating', layout=Layout(flex='2'), m…"
      ]
     },
     "metadata": {},
     "output_type": "display_data"
    },
    {
     "name": "stdout",
     "output_type": "stream",
     "text": [
      "0 val loss: 2.3024000256555155e-05  yhat_tgt.sum: 57.539337158203125  y_tgt.sum: 51.180865006553084\n",
      "1120 train loss: 3.470796218607575e-05  yhat_tgt.sum: 115.82015991210938  y_tgt.sum: 47.50851900393185\n"
     ]
    },
    {
     "data": {
      "application/vnd.jupyter.widget-view+json": {
       "model_id": "ae0de8656767463bb86e64984d57d9f2",
       "version_major": 2,
       "version_minor": 0
      },
      "text/plain": [
       "HBox(children=(FloatProgress(value=1.0, bar_style='info', description='Validating', layout=Layout(flex='2'), m…"
      ]
     },
     "metadata": {},
     "output_type": "display_data"
    },
    {
     "name": "stdout",
     "output_type": "stream",
     "text": [
      "0 val loss: 2.9571119739557616e-05  yhat_tgt.sum: 57.095298767089844  y_tgt.sum: 52.34862385321101\n",
      "1130 train loss: 3.4976521419594064e-05  yhat_tgt.sum: 117.09136199951172  y_tgt.sum: 33.884665792922675\n"
     ]
    },
    {
     "data": {
      "application/vnd.jupyter.widget-view+json": {
       "model_id": "b20c0c4d34d7465e8725a6f9280f4fb2",
       "version_major": 2,
       "version_minor": 0
      },
      "text/plain": [
       "HBox(children=(FloatProgress(value=1.0, bar_style='info', description='Validating', layout=Layout(flex='2'), m…"
      ]
     },
     "metadata": {},
     "output_type": "display_data"
    },
    {
     "name": "stdout",
     "output_type": "stream",
     "text": [
      "0 val loss: 4.038962651975453e-05  yhat_tgt.sum: 56.695823669433594  y_tgt.sum: 52.062909567496725\n",
      "1140 train loss: 2.4364751880057156e-05  yhat_tgt.sum: 116.51589965820312  y_tgt.sum: 30.804718217562257\n"
     ]
    },
    {
     "data": {
      "application/vnd.jupyter.widget-view+json": {
       "model_id": "0ee6cad8e9a648f8ac1d2e2d85ed6f15",
       "version_major": 2,
       "version_minor": 0
      },
      "text/plain": [
       "HBox(children=(FloatProgress(value=1.0, bar_style='info', description='Validating', layout=Layout(flex='2'), m…"
      ]
     },
     "metadata": {},
     "output_type": "display_data"
    },
    {
     "name": "stdout",
     "output_type": "stream",
     "text": [
      "0 val loss: 2.1073592506581917e-05  yhat_tgt.sum: 56.15866470336914  y_tgt.sum: 53.8951507208388\n",
      "1150 train loss: 3.224063402740285e-05  yhat_tgt.sum: 114.06309509277344  y_tgt.sum: 43.528178243774576\n"
     ]
    },
    {
     "data": {
      "application/vnd.jupyter.widget-view+json": {
       "model_id": "33585e1ceda8496196c37389d640ba5e",
       "version_major": 2,
       "version_minor": 0
      },
      "text/plain": [
       "HBox(children=(FloatProgress(value=1.0, bar_style='info', description='Validating', layout=Layout(flex='2'), m…"
      ]
     },
     "metadata": {},
     "output_type": "display_data"
    },
    {
     "name": "stdout",
     "output_type": "stream",
     "text": [
      "0 val loss: 3.501251194393262e-05  yhat_tgt.sum: 55.794281005859375  y_tgt.sum: 55.131061598951504\n",
      "1160 train loss: 3.422111694817431e-05  yhat_tgt.sum: 112.78518676757812  y_tgt.sum: 48.65923984272608\n"
     ]
    },
    {
     "data": {
      "application/vnd.jupyter.widget-view+json": {
       "model_id": "805a5cdc3eb94e60b0edf6e4d63b111e",
       "version_major": 2,
       "version_minor": 0
      },
      "text/plain": [
       "HBox(children=(FloatProgress(value=1.0, bar_style='info', description='Validating', layout=Layout(flex='2'), m…"
      ]
     },
     "metadata": {},
     "output_type": "display_data"
    },
    {
     "name": "stdout",
     "output_type": "stream",
     "text": [
      "0 val loss: 2.6247973437421024e-05  yhat_tgt.sum: 55.274574279785156  y_tgt.sum: 54.714285714285715\n",
      "1170 train loss: 5.4267788073047996e-05  yhat_tgt.sum: 112.64845275878906  y_tgt.sum: 51.11926605504587\n"
     ]
    },
    {
     "data": {
      "application/vnd.jupyter.widget-view+json": {
       "model_id": "c5979149f77942ed833bd90f01fd2bcc",
       "version_major": 2,
       "version_minor": 0
      },
      "text/plain": [
       "HBox(children=(FloatProgress(value=1.0, bar_style='info', description='Validating', layout=Layout(flex='2'), m…"
      ]
     },
     "metadata": {},
     "output_type": "display_data"
    },
    {
     "name": "stdout",
     "output_type": "stream",
     "text": [
      "0 val loss: 1.6042020433815196e-05  yhat_tgt.sum: 54.93115997314453  y_tgt.sum: 47.50982961992136\n",
      "1180 train loss: 2.3210184735944495e-05  yhat_tgt.sum: 112.08656311035156  y_tgt.sum: 40.246395806028836\n"
     ]
    },
    {
     "data": {
      "application/vnd.jupyter.widget-view+json": {
       "model_id": "3ea23e69d0d44f9aa94cd3f5906c2118",
       "version_major": 2,
       "version_minor": 0
      },
      "text/plain": [
       "HBox(children=(FloatProgress(value=1.0, bar_style='info', description='Validating', layout=Layout(flex='2'), m…"
      ]
     },
     "metadata": {},
     "output_type": "display_data"
    },
    {
     "name": "stdout",
     "output_type": "stream",
     "text": [
      "0 val loss: 1.8691920558921993e-05  yhat_tgt.sum: 54.57753372192383  y_tgt.sum: 49.373525557011796\n",
      "1190 train loss: 2.9844066375517286e-05  yhat_tgt.sum: 110.74999237060547  y_tgt.sum: 42.83617300131061\n"
     ]
    },
    {
     "data": {
      "application/vnd.jupyter.widget-view+json": {
       "model_id": "b91851d0eadf422081c74922a8619db7",
       "version_major": 2,
       "version_minor": 0
      },
      "text/plain": [
       "HBox(children=(FloatProgress(value=1.0, bar_style='info', description='Validating', layout=Layout(flex='2'), m…"
      ]
     },
     "metadata": {},
     "output_type": "display_data"
    },
    {
     "name": "stdout",
     "output_type": "stream",
     "text": [
      "0 val loss: 2.7409454560256563e-05  yhat_tgt.sum: 54.15253829956055  y_tgt.sum: 51.93971166448231\n",
      "1200 train loss: 4.006639574072324e-05  yhat_tgt.sum: 110.74241638183594  y_tgt.sum: 50.17169069462648\n"
     ]
    },
    {
     "data": {
      "application/vnd.jupyter.widget-view+json": {
       "model_id": "5ee428e50ad7494ab8a26cfe2e37b57a",
       "version_major": 2,
       "version_minor": 0
      },
      "text/plain": [
       "HBox(children=(FloatProgress(value=1.0, bar_style='info', description='Validating', layout=Layout(flex='2'), m…"
      ]
     },
     "metadata": {},
     "output_type": "display_data"
    },
    {
     "name": "stdout",
     "output_type": "stream",
     "text": [
      "0 val loss: 1.6061014321167022e-05  yhat_tgt.sum: 53.73183059692383  y_tgt.sum: 50.23722149410223\n",
      "1210 train loss: 3.661255323095247e-05  yhat_tgt.sum: 111.33431243896484  y_tgt.sum: 39.737876802096984\n"
     ]
    },
    {
     "data": {
      "application/vnd.jupyter.widget-view+json": {
       "model_id": "e022d25cea0244efafc555908eb1ff00",
       "version_major": 2,
       "version_minor": 0
      },
      "text/plain": [
       "HBox(children=(FloatProgress(value=1.0, bar_style='info', description='Validating', layout=Layout(flex='2'), m…"
      ]
     },
     "metadata": {},
     "output_type": "display_data"
    },
    {
     "name": "stdout",
     "output_type": "stream",
     "text": [
      "0 val loss: 1.6464236978208646e-05  yhat_tgt.sum: 53.484642028808594  y_tgt.sum: 47.66579292267366\n",
      "1220 train loss: 4.856348823523149e-05  yhat_tgt.sum: 108.07701110839844  y_tgt.sum: 53.661861074705115\n"
     ]
    },
    {
     "data": {
      "application/vnd.jupyter.widget-view+json": {
       "model_id": "b9bb7c97abc44d8cb733a5cf6385291c",
       "version_major": 2,
       "version_minor": 0
      },
      "text/plain": [
       "HBox(children=(FloatProgress(value=1.0, bar_style='info', description='Validating', layout=Layout(flex='2'), m…"
      ]
     },
     "metadata": {},
     "output_type": "display_data"
    },
    {
     "name": "stdout",
     "output_type": "stream",
     "text": [
      "0 val loss: 4.623067798092961e-05  yhat_tgt.sum: 53.078712463378906  y_tgt.sum: 55.972477064220186\n",
      "1230 train loss: 2.0955832951585762e-05  yhat_tgt.sum: 108.35709381103516  y_tgt.sum: 38.917431192660544\n"
     ]
    },
    {
     "data": {
      "application/vnd.jupyter.widget-view+json": {
       "model_id": "72cf65fa39434bd18d6948c0cea1b404",
       "version_major": 2,
       "version_minor": 0
      },
      "text/plain": [
       "HBox(children=(FloatProgress(value=1.0, bar_style='info', description='Validating', layout=Layout(flex='2'), m…"
      ]
     },
     "metadata": {},
     "output_type": "display_data"
    },
    {
     "name": "stdout",
     "output_type": "stream",
     "text": [
      "0 val loss: 2.380158366577234e-05  yhat_tgt.sum: 52.71168899536133  y_tgt.sum: 50.403669724770644\n",
      "1240 train loss: 3.073201150982641e-05  yhat_tgt.sum: 107.10025024414062  y_tgt.sum: 44.397116644823065\n"
     ]
    },
    {
     "data": {
      "application/vnd.jupyter.widget-view+json": {
       "model_id": "8f5eac91f4af44bcb381a27f2ac8728d",
       "version_major": 2,
       "version_minor": 0
      },
      "text/plain": [
       "HBox(children=(FloatProgress(value=1.0, bar_style='info', description='Validating', layout=Layout(flex='2'), m…"
      ]
     },
     "metadata": {},
     "output_type": "display_data"
    },
    {
     "name": "stdout",
     "output_type": "stream",
     "text": [
      "0 val loss: 2.041823427134659e-05  yhat_tgt.sum: 52.44652557373047  y_tgt.sum: 50.25950196592398\n",
      "1250 train loss: 1.8882921722251922e-05  yhat_tgt.sum: 104.63253784179688  y_tgt.sum: 41.05897771952817\n"
     ]
    },
    {
     "data": {
      "application/vnd.jupyter.widget-view+json": {
       "model_id": "0f5c8add1d4b47378df218264f06010a",
       "version_major": 2,
       "version_minor": 0
      },
      "text/plain": [
       "HBox(children=(FloatProgress(value=1.0, bar_style='info', description='Validating', layout=Layout(flex='2'), m…"
      ]
     },
     "metadata": {},
     "output_type": "display_data"
    },
    {
     "name": "stdout",
     "output_type": "stream",
     "text": [
      "0 val loss: 2.8636111892410554e-05  yhat_tgt.sum: 52.09314727783203  y_tgt.sum: 55.551769331585845\n",
      "1260 train loss: 2.191306703025475e-05  yhat_tgt.sum: 108.03497314453125  y_tgt.sum: 31.11533420707733\n"
     ]
    },
    {
     "data": {
      "application/vnd.jupyter.widget-view+json": {
       "model_id": "6aa9b0dea95d46baa78bfcb82e674db2",
       "version_major": 2,
       "version_minor": 0
      },
      "text/plain": [
       "HBox(children=(FloatProgress(value=1.0, bar_style='info', description='Validating', layout=Layout(flex='2'), m…"
      ]
     },
     "metadata": {},
     "output_type": "display_data"
    },
    {
     "name": "stdout",
     "output_type": "stream",
     "text": [
      "0 val loss: 1.4399687643162906e-05  yhat_tgt.sum: 51.738590240478516  y_tgt.sum: 47.31979030144168\n",
      "1270 train loss: 3.383222428965382e-05  yhat_tgt.sum: 107.5146484375  y_tgt.sum: 41.20445609436436\n"
     ]
    },
    {
     "data": {
      "application/vnd.jupyter.widget-view+json": {
       "model_id": "7782a330800b4ad483c473b84e9e2482",
       "version_major": 2,
       "version_minor": 0
      },
      "text/plain": [
       "HBox(children=(FloatProgress(value=1.0, bar_style='info', description='Validating', layout=Layout(flex='2'), m…"
      ]
     },
     "metadata": {},
     "output_type": "display_data"
    },
    {
     "name": "stdout",
     "output_type": "stream",
     "text": [
      "0 val loss: 3.091849066549912e-05  yhat_tgt.sum: 51.34637451171875  y_tgt.sum: 53.61336828309305\n",
      "1280 train loss: 4.488936974667013e-05  yhat_tgt.sum: 104.52174377441406  y_tgt.sum: 48.564875491481\n"
     ]
    },
    {
     "data": {
      "application/vnd.jupyter.widget-view+json": {
       "model_id": "150e229bfbca4d45a5f8527fd7bb2692",
       "version_major": 2,
       "version_minor": 0
      },
      "text/plain": [
       "HBox(children=(FloatProgress(value=1.0, bar_style='info', description='Validating', layout=Layout(flex='2'), m…"
      ]
     },
     "metadata": {},
     "output_type": "display_data"
    },
    {
     "name": "stdout",
     "output_type": "stream",
     "text": [
      "0 val loss: 2.0386716641951352e-05  yhat_tgt.sum: 50.99983215332031  y_tgt.sum: 51.479685452162514\n",
      "1290 train loss: 2.5579091015970334e-05  yhat_tgt.sum: 103.3935775756836  y_tgt.sum: 46.545216251638266\n"
     ]
    },
    {
     "data": {
      "application/vnd.jupyter.widget-view+json": {
       "model_id": "bc6b42e805e34186899f3e4b83ab8aaa",
       "version_major": 2,
       "version_minor": 0
      },
      "text/plain": [
       "HBox(children=(FloatProgress(value=1.0, bar_style='info', description='Validating', layout=Layout(flex='2'), m…"
      ]
     },
     "metadata": {},
     "output_type": "display_data"
    },
    {
     "name": "stdout",
     "output_type": "stream",
     "text": [
      "0 val loss: 3.8833823055028915e-05  yhat_tgt.sum: 50.686729431152344  y_tgt.sum: 53.34862385321101\n",
      "1300 train loss: 3.105403084191494e-05  yhat_tgt.sum: 103.57960510253906  y_tgt.sum: 49.424639580602886\n"
     ]
    },
    {
     "data": {
      "application/vnd.jupyter.widget-view+json": {
       "model_id": "79d22b8e3b254689bfc2e5fbee54fb03",
       "version_major": 2,
       "version_minor": 0
      },
      "text/plain": [
       "HBox(children=(FloatProgress(value=1.0, bar_style='info', description='Validating', layout=Layout(flex='2'), m…"
      ]
     },
     "metadata": {},
     "output_type": "display_data"
    },
    {
     "name": "stdout",
     "output_type": "stream",
     "text": [
      "0 val loss: 2.0749479517689906e-05  yhat_tgt.sum: 50.28396224975586  y_tgt.sum: 50.05897771952818\n",
      "1310 train loss: 2.417017094558105e-05  yhat_tgt.sum: 103.39579772949219  y_tgt.sum: 38.06815203145479\n"
     ]
    },
    {
     "data": {
      "application/vnd.jupyter.widget-view+json": {
       "model_id": "9d011c67397c4f539c14c6ff3e0f6f23",
       "version_major": 2,
       "version_minor": 0
      },
      "text/plain": [
       "HBox(children=(FloatProgress(value=1.0, bar_style='info', description='Validating', layout=Layout(flex='2'), m…"
      ]
     },
     "metadata": {},
     "output_type": "display_data"
    },
    {
     "name": "stdout",
     "output_type": "stream",
     "text": [
      "0 val loss: 2.2745452952221967e-05  yhat_tgt.sum: 49.93714141845703  y_tgt.sum: 50.71952817824378\n",
      "1320 train loss: 1.955632251338102e-05  yhat_tgt.sum: 102.26380920410156  y_tgt.sum: 41.11926605504587\n"
     ]
    },
    {
     "data": {
      "application/vnd.jupyter.widget-view+json": {
       "model_id": "4150a72cc0434e9094992c6172bdfa9a",
       "version_major": 2,
       "version_minor": 0
      },
      "text/plain": [
       "HBox(children=(FloatProgress(value=1.0, bar_style='info', description='Validating', layout=Layout(flex='2'), m…"
      ]
     },
     "metadata": {},
     "output_type": "display_data"
    },
    {
     "name": "stdout",
     "output_type": "stream",
     "text": [
      "0 val loss: 1.4554861991200596e-05  yhat_tgt.sum: 49.67703628540039  y_tgt.sum: 46.06422018348624\n",
      "1330 train loss: 2.989853237522766e-05  yhat_tgt.sum: 102.8696517944336  y_tgt.sum: 41.809960681520316\n"
     ]
    },
    {
     "data": {
      "application/vnd.jupyter.widget-view+json": {
       "model_id": "83a68cb12e0041dbbb5c3d542d774f9d",
       "version_major": 2,
       "version_minor": 0
      },
      "text/plain": [
       "HBox(children=(FloatProgress(value=1.0, bar_style='info', description='Validating', layout=Layout(flex='2'), m…"
      ]
     },
     "metadata": {},
     "output_type": "display_data"
    },
    {
     "name": "stdout",
     "output_type": "stream",
     "text": [
      "0 val loss: 1.9695737137226388e-05  yhat_tgt.sum: 49.34772491455078  y_tgt.sum: 51.7562254259502\n",
      "1340 train loss: 4.273795639164746e-05  yhat_tgt.sum: 100.76339721679688  y_tgt.sum: 47.627785058977715\n"
     ]
    },
    {
     "data": {
      "application/vnd.jupyter.widget-view+json": {
       "model_id": "0f1faa8d1091455981c0f1c9f5dcea6b",
       "version_major": 2,
       "version_minor": 0
      },
      "text/plain": [
       "HBox(children=(FloatProgress(value=1.0, bar_style='info', description='Validating', layout=Layout(flex='2'), m…"
      ]
     },
     "metadata": {},
     "output_type": "display_data"
    },
    {
     "name": "stdout",
     "output_type": "stream",
     "text": [
      "0 val loss: 2.4286115149152465e-05  yhat_tgt.sum: 48.97467803955078  y_tgt.sum: 53.18610747051114\n",
      "1350 train loss: 3.6148772778688e-05  yhat_tgt.sum: 101.46003723144531  y_tgt.sum: 33.01441677588467\n"
     ]
    },
    {
     "data": {
      "application/vnd.jupyter.widget-view+json": {
       "model_id": "e1f553aa33d1428c91aca166834b73de",
       "version_major": 2,
       "version_minor": 0
      },
      "text/plain": [
       "HBox(children=(FloatProgress(value=1.0, bar_style='info', description='Validating', layout=Layout(flex='2'), m…"
      ]
     },
     "metadata": {},
     "output_type": "display_data"
    },
    {
     "name": "stdout",
     "output_type": "stream",
     "text": [
      "0 val loss: 3.370612830622122e-05  yhat_tgt.sum: 48.69447326660156  y_tgt.sum: 55.262123197903016\n",
      "1360 train loss: 1.9101180441793986e-05  yhat_tgt.sum: 99.73929595947266  y_tgt.sum: 38.51376146788991\n"
     ]
    },
    {
     "data": {
      "application/vnd.jupyter.widget-view+json": {
       "model_id": "e58804134cca42ef8b67c5ee92ae22a6",
       "version_major": 2,
       "version_minor": 0
      },
      "text/plain": [
       "HBox(children=(FloatProgress(value=1.0, bar_style='info', description='Validating', layout=Layout(flex='2'), m…"
      ]
     },
     "metadata": {},
     "output_type": "display_data"
    },
    {
     "name": "stdout",
     "output_type": "stream",
     "text": [
      "0 val loss: 2.5420593374292366e-05  yhat_tgt.sum: 48.47792053222656  y_tgt.sum: 54.04062909567497\n",
      "1370 train loss: 2.178259819629602e-05  yhat_tgt.sum: 99.94467163085938  y_tgt.sum: 36.917431192660544\n"
     ]
    },
    {
     "data": {
      "application/vnd.jupyter.widget-view+json": {
       "model_id": "1a5430f7e7c842eba5f19e0420150651",
       "version_major": 2,
       "version_minor": 0
      },
      "text/plain": [
       "HBox(children=(FloatProgress(value=1.0, bar_style='info', description='Validating', layout=Layout(flex='2'), m…"
      ]
     },
     "metadata": {},
     "output_type": "display_data"
    },
    {
     "name": "stdout",
     "output_type": "stream",
     "text": [
      "0 val loss: 2.1484389435499907e-05  yhat_tgt.sum: 48.17670440673828  y_tgt.sum: 53.20445609436435\n",
      "1380 train loss: 2.3013140889815986e-05  yhat_tgt.sum: 98.14559936523438  y_tgt.sum: 39.137614678899084\n"
     ]
    },
    {
     "data": {
      "application/vnd.jupyter.widget-view+json": {
       "model_id": "369510046f98499b87fa335454078177",
       "version_major": 2,
       "version_minor": 0
      },
      "text/plain": [
       "HBox(children=(FloatProgress(value=1.0, bar_style='info', description='Validating', layout=Layout(flex='2'), m…"
      ]
     },
     "metadata": {},
     "output_type": "display_data"
    },
    {
     "name": "stdout",
     "output_type": "stream",
     "text": [
      "0 val loss: 2.0621342628146522e-05  yhat_tgt.sum: 47.8314323425293  y_tgt.sum: 51.411533420707734\n",
      "1390 train loss: 2.190024133597035e-05  yhat_tgt.sum: 98.29071807861328  y_tgt.sum: 42.18741808650066\n"
     ]
    },
    {
     "data": {
      "application/vnd.jupyter.widget-view+json": {
       "model_id": "05ba7361ca0349c7aa1956b9755a6396",
       "version_major": 2,
       "version_minor": 0
      },
      "text/plain": [
       "HBox(children=(FloatProgress(value=1.0, bar_style='info', description='Validating', layout=Layout(flex='2'), m…"
      ]
     },
     "metadata": {},
     "output_type": "display_data"
    },
    {
     "name": "stdout",
     "output_type": "stream",
     "text": [
      "0 val loss: 1.6269248590106145e-05  yhat_tgt.sum: 47.52937316894531  y_tgt.sum: 46.70773263433814\n",
      "1400 train loss: 1.702179724816233e-05  yhat_tgt.sum: 97.5525131225586  y_tgt.sum: 36.69200524246396\n"
     ]
    },
    {
     "data": {
      "application/vnd.jupyter.widget-view+json": {
       "model_id": "f8b6469aaed64a2bafe63e127bfb290d",
       "version_major": 2,
       "version_minor": 0
      },
      "text/plain": [
       "HBox(children=(FloatProgress(value=1.0, bar_style='info', description='Validating', layout=Layout(flex='2'), m…"
      ]
     },
     "metadata": {},
     "output_type": "display_data"
    },
    {
     "name": "stdout",
     "output_type": "stream",
     "text": [
      "0 val loss: 1.4983228538767435e-05  yhat_tgt.sum: 47.149078369140625  y_tgt.sum: 47.71428571428572\n",
      "1410 train loss: 4.414020077092573e-05  yhat_tgt.sum: 98.1423568725586  y_tgt.sum: 37.093053735255566\n"
     ]
    },
    {
     "data": {
      "application/vnd.jupyter.widget-view+json": {
       "model_id": "d4990e1ed9f2443d94cfbed9d1418036",
       "version_major": 2,
       "version_minor": 0
      },
      "text/plain": [
       "HBox(children=(FloatProgress(value=1.0, bar_style='info', description='Validating', layout=Layout(flex='2'), m…"
      ]
     },
     "metadata": {},
     "output_type": "display_data"
    },
    {
     "name": "stdout",
     "output_type": "stream",
     "text": [
      "0 val loss: 1.4175657270243391e-05  yhat_tgt.sum: 46.88288116455078  y_tgt.sum: 45.967234600262124\n",
      "1420 train loss: 2.234055682492908e-05  yhat_tgt.sum: 96.613525390625  y_tgt.sum: 38.1559633027523\n"
     ]
    },
    {
     "data": {
      "application/vnd.jupyter.widget-view+json": {
       "model_id": "18bb725dbdd94090b191db31a020186d",
       "version_major": 2,
       "version_minor": 0
      },
      "text/plain": [
       "HBox(children=(FloatProgress(value=1.0, bar_style='info', description='Validating', layout=Layout(flex='2'), m…"
      ]
     },
     "metadata": {},
     "output_type": "display_data"
    },
    {
     "name": "stdout",
     "output_type": "stream",
     "text": [
      "0 val loss: 1.1792137229349464e-05  yhat_tgt.sum: 46.62532043457031  y_tgt.sum: 43.24377457404981\n",
      "1430 train loss: 2.5173312678816728e-05  yhat_tgt.sum: 95.38927459716797  y_tgt.sum: 40.686762778505894\n"
     ]
    },
    {
     "data": {
      "application/vnd.jupyter.widget-view+json": {
       "model_id": "8859722bba48411f91478034b6d68092",
       "version_major": 2,
       "version_minor": 0
      },
      "text/plain": [
       "HBox(children=(FloatProgress(value=1.0, bar_style='info', description='Validating', layout=Layout(flex='2'), m…"
      ]
     },
     "metadata": {},
     "output_type": "display_data"
    },
    {
     "name": "stdout",
     "output_type": "stream",
     "text": [
      "0 val loss: 1.9019655155716464e-05  yhat_tgt.sum: 46.386497497558594  y_tgt.sum: 49.840104849279165\n",
      "1440 train loss: 2.9264356271596625e-05  yhat_tgt.sum: 96.64849090576172  y_tgt.sum: 48.766710353866316\n"
     ]
    },
    {
     "data": {
      "application/vnd.jupyter.widget-view+json": {
       "model_id": "a6a691e2ef234f77856c85a833dadcec",
       "version_major": 2,
       "version_minor": 0
      },
      "text/plain": [
       "HBox(children=(FloatProgress(value=1.0, bar_style='info', description='Validating', layout=Layout(flex='2'), m…"
      ]
     },
     "metadata": {},
     "output_type": "display_data"
    },
    {
     "name": "stdout",
     "output_type": "stream",
     "text": [
      "0 val loss: 2.043728636635933e-05  yhat_tgt.sum: 46.057987213134766  y_tgt.sum: 50.863695937090434\n",
      "1450 train loss: 2.0290166503400542e-05  yhat_tgt.sum: 95.81689453125  y_tgt.sum: 41.439056356487555\n"
     ]
    },
    {
     "data": {
      "application/vnd.jupyter.widget-view+json": {
       "model_id": "2bdd655f742247a0acb4bc2667538dca",
       "version_major": 2,
       "version_minor": 0
      },
      "text/plain": [
       "HBox(children=(FloatProgress(value=1.0, bar_style='info', description='Validating', layout=Layout(flex='2'), m…"
      ]
     },
     "metadata": {},
     "output_type": "display_data"
    },
    {
     "name": "stdout",
     "output_type": "stream",
     "text": [
      "0 val loss: 1.563646765134763e-05  yhat_tgt.sum: 45.84514617919922  y_tgt.sum: 49.48361730013106\n",
      "1460 train loss: 1.9873137716786005e-05  yhat_tgt.sum: 93.32745361328125  y_tgt.sum: 44.86762778505897\n"
     ]
    },
    {
     "data": {
      "application/vnd.jupyter.widget-view+json": {
       "model_id": "9e6e8b0197464a89853fb349c81e72ba",
       "version_major": 2,
       "version_minor": 0
      },
      "text/plain": [
       "HBox(children=(FloatProgress(value=1.0, bar_style='info', description='Validating', layout=Layout(flex='2'), m…"
      ]
     },
     "metadata": {},
     "output_type": "display_data"
    },
    {
     "name": "stdout",
     "output_type": "stream",
     "text": [
      "0 val loss: 1.5334078852902167e-05  yhat_tgt.sum: 45.6156120300293  y_tgt.sum: 51.32372214941022\n",
      "1470 train loss: 2.0651077647926286e-05  yhat_tgt.sum: 93.06800842285156  y_tgt.sum: 49.16775884665793\n"
     ]
    },
    {
     "data": {
      "application/vnd.jupyter.widget-view+json": {
       "model_id": "27034aa8569b443db29c10451e7e4ad1",
       "version_major": 2,
       "version_minor": 0
      },
      "text/plain": [
       "HBox(children=(FloatProgress(value=1.0, bar_style='info', description='Validating', layout=Layout(flex='2'), m…"
      ]
     },
     "metadata": {},
     "output_type": "display_data"
    },
    {
     "name": "stdout",
     "output_type": "stream",
     "text": [
      "0 val loss: 3.852390727843158e-05  yhat_tgt.sum: 45.32649612426758  y_tgt.sum: 53.68414154652687\n",
      "1480 train loss: 2.5092895157285966e-05  yhat_tgt.sum: 94.7304916381836  y_tgt.sum: 37.17824377457404\n"
     ]
    },
    {
     "data": {
      "application/vnd.jupyter.widget-view+json": {
       "model_id": "20b6b084788b4efa87894d3ad14514a3",
       "version_major": 2,
       "version_minor": 0
      },
      "text/plain": [
       "HBox(children=(FloatProgress(value=1.0, bar_style='info', description='Validating', layout=Layout(flex='2'), m…"
      ]
     },
     "metadata": {},
     "output_type": "display_data"
    },
    {
     "name": "stdout",
     "output_type": "stream",
     "text": [
      "0 val loss: 3.269817170803435e-05  yhat_tgt.sum: 45.068702697753906  y_tgt.sum: 52.71690694626474\n",
      "1490 train loss: 2.3209406208479777e-05  yhat_tgt.sum: 92.93971252441406  y_tgt.sum: 43.93840104849279\n"
     ]
    },
    {
     "data": {
      "application/vnd.jupyter.widget-view+json": {
       "model_id": "fc841b7758c1484d94f16c10962c3681",
       "version_major": 2,
       "version_minor": 0
      },
      "text/plain": [
       "HBox(children=(FloatProgress(value=1.0, bar_style='info', description='Validating', layout=Layout(flex='2'), m…"
      ]
     },
     "metadata": {},
     "output_type": "display_data"
    },
    {
     "name": "stdout",
     "output_type": "stream",
     "text": [
      "0 val loss: 2.2365453332895413e-05  yhat_tgt.sum: 44.929656982421875  y_tgt.sum: 53.908256880733944\n",
      "1500 train loss: 3.909545193891972e-05  yhat_tgt.sum: 92.69059753417969  y_tgt.sum: 49.4521625163827\n"
     ]
    },
    {
     "data": {
      "application/vnd.jupyter.widget-view+json": {
       "model_id": "244a068f3e484a93a58c39553e676b1c",
       "version_major": 2,
       "version_minor": 0
      },
      "text/plain": [
       "HBox(children=(FloatProgress(value=1.0, bar_style='info', description='Validating', layout=Layout(flex='2'), m…"
      ]
     },
     "metadata": {},
     "output_type": "display_data"
    },
    {
     "name": "stdout",
     "output_type": "stream",
     "text": [
      "0 val loss: 2.0749372197315097e-05  yhat_tgt.sum: 44.66019821166992  y_tgt.sum: 52.809960681520316\n",
      "1510 train loss: 3.070048842346296e-05  yhat_tgt.sum: 93.81057739257812  y_tgt.sum: 36.59633027522936\n"
     ]
    },
    {
     "data": {
      "application/vnd.jupyter.widget-view+json": {
       "model_id": "2216538a49f641809a5483eb69f508bf",
       "version_major": 2,
       "version_minor": 0
      },
      "text/plain": [
       "HBox(children=(FloatProgress(value=1.0, bar_style='info', description='Validating', layout=Layout(flex='2'), m…"
      ]
     },
     "metadata": {},
     "output_type": "display_data"
    },
    {
     "name": "stdout",
     "output_type": "stream",
     "text": [
      "0 val loss: 1.5737359717604704e-05  yhat_tgt.sum: 44.403663635253906  y_tgt.sum: 47.234600262123195\n",
      "1520 train loss: 3.292123801656999e-05  yhat_tgt.sum: 93.03173828125  y_tgt.sum: 42.884665792922675\n"
     ]
    },
    {
     "data": {
      "application/vnd.jupyter.widget-view+json": {
       "model_id": "000817cfdda74f3d8611a0d21d1d22c6",
       "version_major": 2,
       "version_minor": 0
      },
      "text/plain": [
       "HBox(children=(FloatProgress(value=1.0, bar_style='info', description='Validating', layout=Layout(flex='2'), m…"
      ]
     },
     "metadata": {},
     "output_type": "display_data"
    },
    {
     "name": "stdout",
     "output_type": "stream",
     "text": [
      "0 val loss: 2.0533054339466617e-05  yhat_tgt.sum: 43.956504821777344  y_tgt.sum: 50.9475753604194\n",
      "1530 train loss: 2.0114195649512112e-05  yhat_tgt.sum: 92.95331573486328  y_tgt.sum: 37.085190039318476\n"
     ]
    },
    {
     "data": {
      "application/vnd.jupyter.widget-view+json": {
       "model_id": "9c0906f5fb4e420db6ff4001fde7539c",
       "version_major": 2,
       "version_minor": 0
      },
      "text/plain": [
       "HBox(children=(FloatProgress(value=1.0, bar_style='info', description='Validating', layout=Layout(flex='2'), m…"
      ]
     },
     "metadata": {},
     "output_type": "display_data"
    },
    {
     "name": "stdout",
     "output_type": "stream",
     "text": [
      "0 val loss: 1.816471922211349e-05  yhat_tgt.sum: 43.756595611572266  y_tgt.sum: 47.82830930537352\n",
      "1540 train loss: 2.98573086183751e-05  yhat_tgt.sum: 92.44548034667969  y_tgt.sum: 30.391874180865006\n"
     ]
    },
    {
     "data": {
      "application/vnd.jupyter.widget-view+json": {
       "model_id": "c78af4420cd64028ab721ac897993f9c",
       "version_major": 2,
       "version_minor": 0
      },
      "text/plain": [
       "HBox(children=(FloatProgress(value=1.0, bar_style='info', description='Validating', layout=Layout(flex='2'), m…"
      ]
     },
     "metadata": {},
     "output_type": "display_data"
    },
    {
     "name": "stdout",
     "output_type": "stream",
     "text": [
      "0 val loss: 5.734360092901625e-05  yhat_tgt.sum: 43.596275329589844  y_tgt.sum: 62.469200524246396\n",
      "1550 train loss: 2.8420496164471842e-05  yhat_tgt.sum: 90.01456451416016  y_tgt.sum: 45.62254259501967\n"
     ]
    },
    {
     "data": {
      "application/vnd.jupyter.widget-view+json": {
       "model_id": "2f258d3708f446d896a192661cad50cd",
       "version_major": 2,
       "version_minor": 0
      },
      "text/plain": [
       "HBox(children=(FloatProgress(value=1.0, bar_style='info', description='Validating', layout=Layout(flex='2'), m…"
      ]
     },
     "metadata": {},
     "output_type": "display_data"
    },
    {
     "name": "stdout",
     "output_type": "stream",
     "text": [
      "0 val loss: 2.4756460334174335e-05  yhat_tgt.sum: 43.29447937011719  y_tgt.sum: 52.58846657929227\n",
      "1560 train loss: 1.971188794414047e-05  yhat_tgt.sum: 88.96356201171875  y_tgt.sum: 42.360419397116644\n"
     ]
    },
    {
     "data": {
      "application/vnd.jupyter.widget-view+json": {
       "model_id": "71573f2cc99741f7929a88e806a605ac",
       "version_major": 2,
       "version_minor": 0
      },
      "text/plain": [
       "HBox(children=(FloatProgress(value=1.0, bar_style='info', description='Validating', layout=Layout(flex='2'), m…"
      ]
     },
     "metadata": {},
     "output_type": "display_data"
    },
    {
     "name": "stdout",
     "output_type": "stream",
     "text": [
      "0 val loss: 3.001814184244722e-05  yhat_tgt.sum: 43.09962463378906  y_tgt.sum: 52.76015727391875\n",
      "1570 train loss: 5.966660683043301e-05  yhat_tgt.sum: 89.75267028808594  y_tgt.sum: 41.31061598951507\n"
     ]
    },
    {
     "data": {
      "application/vnd.jupyter.widget-view+json": {
       "model_id": "82c971aead874e5d9aa9005b4c91a25e",
       "version_major": 2,
       "version_minor": 0
      },
      "text/plain": [
       "HBox(children=(FloatProgress(value=1.0, bar_style='info', description='Validating', layout=Layout(flex='2'), m…"
      ]
     },
     "metadata": {},
     "output_type": "display_data"
    },
    {
     "name": "stdout",
     "output_type": "stream",
     "text": [
      "0 val loss: 2.0352439605630934e-05  yhat_tgt.sum: 42.856964111328125  y_tgt.sum: 52.04849279161206\n",
      "1580 train loss: 2.6252735551679507e-05  yhat_tgt.sum: 89.04489135742188  y_tgt.sum: 35.357798165137616\n"
     ]
    },
    {
     "data": {
      "application/vnd.jupyter.widget-view+json": {
       "model_id": "96e470547b3741c3a7a84d45b7ccc386",
       "version_major": 2,
       "version_minor": 0
      },
      "text/plain": [
       "HBox(children=(FloatProgress(value=1.0, bar_style='info', description='Validating', layout=Layout(flex='2'), m…"
      ]
     },
     "metadata": {},
     "output_type": "display_data"
    },
    {
     "name": "stdout",
     "output_type": "stream",
     "text": [
      "0 val loss: 1.7212771126651205e-05  yhat_tgt.sum: 42.547760009765625  y_tgt.sum: 47.37745740498035\n",
      "1590 train loss: 2.2061665731598623e-05  yhat_tgt.sum: 89.33770751953125  y_tgt.sum: 38.81651376146789\n"
     ]
    },
    {
     "data": {
      "application/vnd.jupyter.widget-view+json": {
       "model_id": "992f1d2bd48d4144b1435f02c27f8854",
       "version_major": 2,
       "version_minor": 0
      },
      "text/plain": [
       "HBox(children=(FloatProgress(value=1.0, bar_style='info', description='Validating', layout=Layout(flex='2'), m…"
      ]
     },
     "metadata": {},
     "output_type": "display_data"
    },
    {
     "name": "stdout",
     "output_type": "stream",
     "text": [
      "0 val loss: 2.0246317944838665e-05  yhat_tgt.sum: 42.449520111083984  y_tgt.sum: 56.575360419397114\n",
      "1600 train loss: 2.794600550259929e-05  yhat_tgt.sum: 87.9279556274414  y_tgt.sum: 39.82961992136304\n"
     ]
    },
    {
     "data": {
      "application/vnd.jupyter.widget-view+json": {
       "model_id": "935d1d075bda448b9f8b471442ee47fb",
       "version_major": 2,
       "version_minor": 0
      },
      "text/plain": [
       "HBox(children=(FloatProgress(value=1.0, bar_style='info', description='Validating', layout=Layout(flex='2'), m…"
      ]
     },
     "metadata": {},
     "output_type": "display_data"
    },
    {
     "name": "stdout",
     "output_type": "stream",
     "text": [
      "0 val loss: 1.9314418750582263e-05  yhat_tgt.sum: 42.20827102661133  y_tgt.sum: 49.545216251638266\n",
      "1610 train loss: 2.1314492187229916e-05  yhat_tgt.sum: 87.48231506347656  y_tgt.sum: 40.960681520314544\n"
     ]
    },
    {
     "data": {
      "application/vnd.jupyter.widget-view+json": {
       "model_id": "e4718f79637142fdbbaf2a250bf52234",
       "version_major": 2,
       "version_minor": 0
      },
      "text/plain": [
       "HBox(children=(FloatProgress(value=1.0, bar_style='info', description='Validating', layout=Layout(flex='2'), m…"
      ]
     },
     "metadata": {},
     "output_type": "display_data"
    },
    {
     "name": "stdout",
     "output_type": "stream",
     "text": [
      "0 val loss: 3.4370070352451876e-05  yhat_tgt.sum: 41.99007034301758  y_tgt.sum: 50.853211009174316\n",
      "1620 train loss: 2.08414548978908e-05  yhat_tgt.sum: 87.75714111328125  y_tgt.sum: 37.8519003931848\n"
     ]
    },
    {
     "data": {
      "application/vnd.jupyter.widget-view+json": {
       "model_id": "3363a26688c34338b939fc6ffadc003f",
       "version_major": 2,
       "version_minor": 0
      },
      "text/plain": [
       "HBox(children=(FloatProgress(value=1.0, bar_style='info', description='Validating', layout=Layout(flex='2'), m…"
      ]
     },
     "metadata": {},
     "output_type": "display_data"
    },
    {
     "name": "stdout",
     "output_type": "stream",
     "text": [
      "0 val loss: 1.3938993106421549e-05  yhat_tgt.sum: 41.68133544921875  y_tgt.sum: 44.366972477064216\n",
      "1630 train loss: 2.7157238946529105e-05  yhat_tgt.sum: 87.16313171386719  y_tgt.sum: 42.25950196592399\n"
     ]
    },
    {
     "data": {
      "application/vnd.jupyter.widget-view+json": {
       "model_id": "fced1712982246f597588f5e47d07e5e",
       "version_major": 2,
       "version_minor": 0
      },
      "text/plain": [
       "HBox(children=(FloatProgress(value=1.0, bar_style='info', description='Validating', layout=Layout(flex='2'), m…"
      ]
     },
     "metadata": {},
     "output_type": "display_data"
    },
    {
     "name": "stdout",
     "output_type": "stream",
     "text": [
      "0 val loss: 1.766270725056529e-05  yhat_tgt.sum: 41.44809341430664  y_tgt.sum: 48.3997378768021\n",
      "1640 train loss: 2.2466701921075583e-05  yhat_tgt.sum: 88.0434799194336  y_tgt.sum: 35.26605504587155\n"
     ]
    },
    {
     "data": {
      "application/vnd.jupyter.widget-view+json": {
       "model_id": "f303f9611b6849ffaa3e82990779cc1d",
       "version_major": 2,
       "version_minor": 0
      },
      "text/plain": [
       "HBox(children=(FloatProgress(value=1.0, bar_style='info', description='Validating', layout=Layout(flex='2'), m…"
      ]
     },
     "metadata": {},
     "output_type": "display_data"
    },
    {
     "name": "stdout",
     "output_type": "stream",
     "text": [
      "0 val loss: 2.547154508647509e-05  yhat_tgt.sum: 41.264686584472656  y_tgt.sum: 54.67496723460026\n",
      "1650 train loss: 2.3267779397428967e-05  yhat_tgt.sum: 86.37504577636719  y_tgt.sum: 42.752293577981646\n"
     ]
    },
    {
     "data": {
      "application/vnd.jupyter.widget-view+json": {
       "model_id": "0998882bae384d62a860286be07b1bfd",
       "version_major": 2,
       "version_minor": 0
      },
      "text/plain": [
       "HBox(children=(FloatProgress(value=1.0, bar_style='info', description='Validating', layout=Layout(flex='2'), m…"
      ]
     },
     "metadata": {},
     "output_type": "display_data"
    },
    {
     "name": "stdout",
     "output_type": "stream",
     "text": [
      "0 val loss: 1.910808168759104e-05  yhat_tgt.sum: 41.0747184753418  y_tgt.sum: 47.66710353866318\n",
      "1660 train loss: 1.6263267752947286e-05  yhat_tgt.sum: 86.689697265625  y_tgt.sum: 29.93315858453473\n"
     ]
    },
    {
     "data": {
      "application/vnd.jupyter.widget-view+json": {
       "model_id": "056913fa24d641cfac621db078cdf54b",
       "version_major": 2,
       "version_minor": 0
      },
      "text/plain": [
       "HBox(children=(FloatProgress(value=1.0, bar_style='info', description='Validating', layout=Layout(flex='2'), m…"
      ]
     },
     "metadata": {},
     "output_type": "display_data"
    },
    {
     "name": "stdout",
     "output_type": "stream",
     "text": [
      "0 val loss: 3.677002678159624e-05  yhat_tgt.sum: 40.817665100097656  y_tgt.sum: 57.70773263433814\n",
      "1670 train loss: 2.821330417646095e-05  yhat_tgt.sum: 86.44747161865234  y_tgt.sum: 32.84534731323723\n"
     ]
    },
    {
     "data": {
      "application/vnd.jupyter.widget-view+json": {
       "model_id": "762ff7bad59d470a8e71ca84139bb5dd",
       "version_major": 2,
       "version_minor": 0
      },
      "text/plain": [
       "HBox(children=(FloatProgress(value=1.0, bar_style='info', description='Validating', layout=Layout(flex='2'), m…"
      ]
     },
     "metadata": {},
     "output_type": "display_data"
    },
    {
     "name": "stdout",
     "output_type": "stream",
     "text": [
      "0 val loss: 2.422522629785817e-05  yhat_tgt.sum: 40.65386962890625  y_tgt.sum: 50.323722149410216\n",
      "1680 train loss: 4.3054315028712153e-05  yhat_tgt.sum: 85.28367614746094  y_tgt.sum: 45.48885976408912\n"
     ]
    },
    {
     "data": {
      "application/vnd.jupyter.widget-view+json": {
       "model_id": "04c00be5724946f28c33abcbd429d11d",
       "version_major": 2,
       "version_minor": 0
      },
      "text/plain": [
       "HBox(children=(FloatProgress(value=1.0, bar_style='info', description='Validating', layout=Layout(flex='2'), m…"
      ]
     },
     "metadata": {},
     "output_type": "display_data"
    },
    {
     "name": "stdout",
     "output_type": "stream",
     "text": [
      "0 val loss: 2.073156792903319e-05  yhat_tgt.sum: 40.449012756347656  y_tgt.sum: 50.56749672346003\n",
      "1690 train loss: 3.648582423920743e-05  yhat_tgt.sum: 84.48458862304688  y_tgt.sum: 43.93577981651376\n"
     ]
    },
    {
     "data": {
      "application/vnd.jupyter.widget-view+json": {
       "model_id": "2e216e6dacc04ccfb4744af01312650c",
       "version_major": 2,
       "version_minor": 0
      },
      "text/plain": [
       "HBox(children=(FloatProgress(value=1.0, bar_style='info', description='Validating', layout=Layout(flex='2'), m…"
      ]
     },
     "metadata": {},
     "output_type": "display_data"
    },
    {
     "name": "stdout",
     "output_type": "stream",
     "text": [
      "0 val loss: 1.5908910427242517e-05  yhat_tgt.sum: 40.242713928222656  y_tgt.sum: 48.22804718217563\n",
      "1700 train loss: 1.892899308586493e-05  yhat_tgt.sum: 84.52944946289062  y_tgt.sum: 39.73656618610747\n",
      "\n"
     ]
    }
   ],
   "source": [
    "# bsz = 200\n",
    "# model = SalesModel(hparams)\n",
    "\n",
    "parser = ArgumentParser()\n",
    "parser = SalesModel.add_model_specifi_args(parser)\n",
    "hparams = parser.parse_args('--bsz 1000 --ninp 320 --nhid 512 --nlayers 1'.split())\n",
    "\n",
    "checkpoint_callback = ModelCheckpoint(\n",
    "    filepath='models/weights.ckpt',\n",
    "    verbose=True\n",
    ")\n",
    "\n",
    "model = SalesModel(hparams)\n",
    "\n",
    "wandb_logger = WandbLogger(name='achinta',project='kaggle-m5-forecasting-accuracy')\n",
    "trainer = Trainer(gpus=1,max_epochs=1,auto_lr_find=False, val_check_interval=10)\n",
    "trainer.fit(model)\n",
    "trainer.save_checkpoint('models/weights_v1.1.ckpt')"
   ]
  },
  {
   "cell_type": "markdown",
   "metadata": {},
   "source": [
    "### testing"
   ]
  },
  {
   "cell_type": "code",
   "execution_count": null,
   "metadata": {},
   "outputs": [],
   "source": [
    "%%time\n",
    "model = SalesModel.load_from_checkpoint('models/weights.ckpt')\n",
    "x_src, x_tgt, y_src, y_tgt, item_store_mask = model.test()\n",
    "x_src = x_src.squeeze(0)\n",
    "x_tgt = x_tgt.squeeze(0)\n",
    "y_src = y_src.squeeze(0)\n",
    "y_tgt = y_tgt.squeeze(0)\n",
    "print(f'x_src.shape - {x_src.shape}, x_tgt.shape - {x_tgt.shape} , y_src.shape - {y_src.shape} , y_tgt.shape - {y_tgt.shape}')\n",
    "\n",
    "model.eval()\n",
    "print('starting inference...')\n",
    "yhat_tgt = model(x_src, y_src, x_tgt)\n",
    "yhat_tgt.shape"
   ]
  },
  {
   "cell_type": "code",
   "execution_count": null,
   "metadata": {},
   "outputs": [],
   "source": [
    "yhat_tgt = yhat_tgt.refine_names('days','item_store','demand')\n",
    "yhat_tgt_aligned = yhat_tgt.align_to('item_store','days','demand').squeeze(2).detach().numpy()\n",
    "print(f'yhat.shape: ', yhat_tgt_aligned.shape)\n",
    "\n",
    "# create preds df\n",
    "preds = pd.DataFrame()\n",
    "preds['id'] = sales['id']\n",
    "\n",
    "# read scalers\n",
    "with open('scalers.pkl','rb') as f:\n",
    "    scalers = pickle.load(f)\n",
    "\n",
    "\n",
    "pred_ids = preds['id'].tolist()\n",
    "# eval df should also be submitted (days 1942 to 1969)\n",
    "eval_ids = ['_'.join(o.split('_')[:5] + ['evaluation']) for o in pred_ids]\n",
    "eval_df = pd.DataFrame({'id': eval_ids})\n",
    "\n",
    "for idx in range(num_test1_days):\n",
    "    preds['F' + str(idx+1)] = yhat_tgt_aligned[:,idx]\n",
    "    preds['F' + str(idx+1)] = scalers['demand'].inverse_transform(preds[['F' + str(idx+1)]])\n",
    "    \n",
    "    eval_df['F' + str(idx+1)] = 0.0\n",
    "    \n",
    "out_df = pd.concat([preds,eval_df],axis=0)\n",
    "print(out_df.shape)\n",
    "preds.head()"
   ]
  },
  {
   "cell_type": "code",
   "execution_count": null,
   "metadata": {},
   "outputs": [],
   "source": [
    "out_df.describe()"
   ]
  },
  {
   "cell_type": "code",
   "execution_count": null,
   "metadata": {},
   "outputs": [],
   "source": [
    "out_df.to_csv('preds.csv', index=False)\n",
    "!kaggle competitions submit -c m5-forecasting-accuracy -f preds.csv -m \"transformers 3\""
   ]
  },
  {
   "cell_type": "code",
   "execution_count": null,
   "metadata": {},
   "outputs": [],
   "source": [
    "# !head preds.csv"
   ]
  },
  {
   "cell_type": "markdown",
   "metadata": {},
   "source": [
    "## Playground"
   ]
  },
  {
   "cell_type": "code",
   "execution_count": null,
   "metadata": {},
   "outputs": [],
   "source": [
    "x_src.shape"
   ]
  },
  {
   "cell_type": "code",
   "execution_count": null,
   "metadata": {},
   "outputs": [],
   "source": [
    "item_store_mask = list(np.random.randint(0, 10,3))\n",
    "item_store_mask"
   ]
  },
  {
   "cell_type": "code",
   "execution_count": null,
   "metadata": {},
   "outputs": [],
   "source": [
    "torch.randn(10).sum().item()"
   ]
  },
  {
   "cell_type": "code",
   "execution_count": null,
   "metadata": {},
   "outputs": [],
   "source": [
    "sample.head(2)"
   ]
  },
  {
   "cell_type": "code",
   "execution_count": null,
   "metadata": {},
   "outputs": [],
   "source": [
    "dir(hparams)`"
   ]
  },
  {
   "cell_type": "code",
   "execution_count": null,
   "metadata": {},
   "outputs": [],
   "source": [
    "sub = pd.read_csv(data_dir/'sample_submission.csv')"
   ]
  },
  {
   "cell_type": "code",
   "execution_count": null,
   "metadata": {},
   "outputs": [],
   "source": [
    "\n",
    "    \n",
    "eval_df.head()"
   ]
  },
  {
   "cell_type": "code",
   "execution_count": null,
   "metadata": {},
   "outputs": [],
   "source": [
    "sub.shape"
   ]
  },
  {
   "cell_type": "code",
   "execution_count": null,
   "metadata": {},
   "outputs": [],
   "source": [
    "preds.shape"
   ]
  },
  {
   "cell_type": "code",
   "execution_count": null,
   "metadata": {},
   "outputs": [],
   "source": [
    "preds.head()"
   ]
  },
  {
   "cell_type": "code",
   "execution_count": null,
   "metadata": {},
   "outputs": [],
   "source": []
  }
 ],
 "metadata": {
  "kernelspec": {
   "display_name": "Python 3",
   "language": "python",
   "name": "python3"
  },
  "language_info": {
   "codemirror_mode": {
    "name": "ipython",
    "version": 3
   },
   "file_extension": ".py",
   "mimetype": "text/x-python",
   "name": "python",
   "nbconvert_exporter": "python",
   "pygments_lexer": "ipython3",
   "version": "3.6.10"
  }
 },
 "nbformat": 4,
 "nbformat_minor": 4
}
